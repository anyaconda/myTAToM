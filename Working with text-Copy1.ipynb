{
 "cells": [
  {
   "cell_type": "code",
   "execution_count": 3,
   "metadata": {
    "collapsed": true
   },
   "outputs": [],
   "source": [
    "#META 04/27/2018\n",
    "#my work through 'Text Analysis with Topic Models for the Humanities and Social Sciences'\n",
    "#https://de.dariah.eu/tatom/index.html\n",
    "\n",
    "#history\n",
    "#04/27/2018 - downloaded code from Github and started walking step-by-step"
   ]
  },
  {
   "cell_type": "markdown",
   "metadata": {},
   "source": [
    "## 1. Working with text\n",
    "=================\n",
    "\n",
    "This is a shortened version of the tutorial \"Working with text\" in the form of an interactive IPython notebook. This document is \"live\"; any code example can be edited and executed in the browser. To see this in action, change some part of the code in the *cell* below and then click on the play button above."
   ]
  },
  {
   "cell_type": "code",
   "execution_count": 4,
   "metadata": {},
   "outputs": [
    {
     "name": "stdout",
     "output_type": "stream",
     "text": [
      "working\n",
      "with\n",
      "text\n"
     ]
    }
   ],
   "source": [
    "list_of_strings = ['working', 'with', 'text']\n",
    "for s in list_of_strings:\n",
    "    print(s)"
   ]
  },
  {
   "cell_type": "markdown",
   "metadata": {},
   "source": [
    "### 1a. Creating a document-term matrix\n",
    "-------------------------------\n",
    "\n",
    "Word frequencies and document-term matrices are typical units of\n",
    "analysis when working with text collections. It may come as a surprise\n",
    "that reducing a book to a list of word frequencies retains useful\n",
    "information, but practice has shown this to be the case. Treating texts\n",
    "as a list of word frequencies (a vector) also makes available a range of\n",
    "mathematical tools developed for [studying and manipulating\n",
    "vectors](http://en.wikipedia.org/wiki/Euclidean_vector#History).\n",
    "\n",
    "> **Note**: Turning texts into unordered lists (or \"bags\") of words is easy in\n",
    "> Python. [Python Programming for the\n",
    "> Humanities](http://fbkarsdorp.github.io/python-course/) includes a\n",
    "> chapter entitled [Text\n",
    "> Processing](http://nbviewer.ipython.org/urls/raw.github.com/fbkarsdorp/python-course/master/Chapter%203%20-%20Text%20Preprocessing.ipynb)\n",
    "> that describes the steps in detail.\n",
    "\n",
    "This document assumes some prior exposure to text analysis so we will\n",
    "gather word frequencies (or term frequencies) derived from the lists of\n",
    "words appearing in texts into a document-term matrix using the\n",
    "[CountVectorizer](http://scikit-learn.sourceforge.net/dev/modules/generated/sklearn.feature_extraction.text.CountVectorizer.html)\n",
    "class from the [scikit-learn](http://scikit-learn.sourceforge.net/)\n",
    "package. (For those familiar with R and the\n",
    "[tm](http://cran.r-project.org/web/packages/tm/) package, this function\n",
    "performs the same operation as `DocumentTermMatrix` and takes\n",
    "recognizably similar arguments.)\n",
    "\n",
    "First we need to import the functions and classes we intend to use,\n",
    "along with our customary abbreviation for functions in the `numpy`\n",
    "package."
   ]
  },
  {
   "cell_type": "code",
   "execution_count": 5,
   "metadata": {
    "collapsed": true
   },
   "outputs": [],
   "source": [
    "import numpy as np  # a conventional alias\n",
    "from sklearn.feature_extraction.text import CountVectorizer"
   ]
  },
  {
   "cell_type": "markdown",
   "metadata": {},
   "source": [
    "Now we use the\n",
    "[CountVectorizer](http://scikit-learn.sourceforge.net/dev/modules/generated/sklearn.feature_extraction.text.CountVectorizer.html)\n",
    "class to create a document-term matrix. `CountVectorizer` is highly\n",
    "customizable. For example, a list of \"stop words\" can be specified with\n",
    "the ``stop_words`` parameter. Other important parameters include:\n",
    "\n",
    "-   `lowercase` (default `True`) convert all text to lowercase before\n",
    "    tokenizing\n",
    "-   `min_df` (default `1`) remove from the vocabulary terms that occur\n",
    "    in fewer than `min_df` documents–with a large corpus this may be set\n",
    "    to `5` to eliminate rare words\n",
    "-   `vocabulary` ignore words that do not appear in the list (or\n",
    "    iterable) assigned to parameter `vocabulary`\n",
    "-   `strip_accents` remove accents\n",
    "-   `token_pattern` (default `u'(?u)\\b\\w\\w+\\b'`) regular expression\n",
    "    identifying tokens–by default words that consist of a single\n",
    "    character (e.g., 'a', '2') are ignored, setting `token_pattern` to\n",
    "    `'(?u)\\b\\w+\\b'` will include these tokens\n",
    "-   `tokenizer` (default unused) use a custom function for tokenizing\n",
    "\n",
    "For this example we will use texts by Jane Austen and Charlotte Brontë. These\n",
    "texts are available in the *Datasets* section of the collected tutorials.\n"
   ]
  },
  {
   "cell_type": "code",
   "execution_count": 6,
   "metadata": {
    "collapsed": true
   },
   "outputs": [],
   "source": [
    "filenames = ['data/austen-bronte/Austen_Emma.txt',           \n",
    "             'data/austen-bronte/Austen_Pride.txt',          \n",
    "             'data/austen-bronte/Austen_Sense.txt',          \n",
    "             'data/austen-bronte/CBronte_Jane.txt',          \n",
    "             'data/austen-bronte/CBronte_Professor.txt',     \n",
    "             'data/austen-bronte/CBronte_Villette.txt']      \n",
    "                                                             \n",
    "vectorizer = CountVectorizer(input='filename')               \n",
    "dtm = vectorizer.fit_transform(filenames)  # a sparse matrix \n",
    "vocab_list = vectorizer.get_feature_names()"
   ]
  },
  {
   "cell_type": "markdown",
   "metadata": {},
   "source": [
    "Now we have a document-term matrix and a vocabulary list. Before we can\n",
    "query the matrix and find out, for example, how many times the word\n",
    "'house' occurs in *Emma* (the first text in `filenames`), we need to\n",
    "convert this matrix from its current format, a [sparse\n",
    "matrix](http://docs.scipy.org/doc/scipy/reference/sparse.html), into a\n",
    "normal NumPy array. We will also convert `vocab`, a list of vocabulary,\n",
    "to an array of strings, as an array supports a greater variety of\n",
    "operations.\n"
   ]
  },
  {
   "cell_type": "code",
   "execution_count": 7,
   "metadata": {
    "collapsed": true
   },
   "outputs": [],
   "source": [
    "# for reference, note the current class of `dtm`  \n",
    "type(dtm)                                         \n",
    "dtm = dtm.toarray()  # convert to a regular array \n",
    "vocab = np.array(vocab_list)"
   ]
  },
  {
   "cell_type": "markdown",
   "metadata": {},
   "source": [
    "> **Note:** A sparse matrix is used to store matrices that contain a significant\n",
    "> number of entries that are zero. Typically, a sparse matrix only\n",
    "> records non-zero entries. To understand why this matters so much\n",
    "> that `CountVectorizer` returns a sparse matrix by default,\n",
    "> consider a 4000 by 50000 matrix that is 60% zeros. In Python an\n",
    "> integer takes up 4 bytes, so using a sparse matrix saves almost\n",
    "> 500M, which is a significant amount of computer memory. (Remember\n",
    "> that arrays are usually stored in memory, not on disk).\n",
    "\n",
    "Querying the document-term matrix and the vocabulary is straightforward.\n",
    "For example, here are two ways of finding how many times the word\n",
    "'house' occurs in the first text, *Emma*:\n"
   ]
  },
  {
   "cell_type": "code",
   "execution_count": 8,
   "metadata": {},
   "outputs": [
    {
     "data": {
      "text/plain": [
       "array([95], dtype=int64)"
      ]
     },
     "execution_count": 8,
     "metadata": {},
     "output_type": "execute_result"
    }
   ],
   "source": [
    "# the first file, indexed by 0 in Python, is *Emma*                 \n",
    "filenames[0] == 'data/austen-brontë/Austen_Emma.txt'                \n",
    "                                                                    \n",
    "# use the standard Python list method index(...)                    \n",
    "house_idx = vocab_list.index('house')                               \n",
    "dtm[0, house_idx]                                                   \n",
    "                                                                    \n",
    "# alternatively, use NumPy indexing                                 \n",
    "# in R this would be essentially the same, dtm[1, vocab == 'house'] \n",
    "dtm[0, vocab == 'house']                                         \n"
   ]
  },
  {
   "cell_type": "code",
   "execution_count": 9,
   "metadata": {},
   "outputs": [
    {
     "data": {
      "text/plain": [
       "'house'"
      ]
     },
     "execution_count": 9,
     "metadata": {},
     "output_type": "execute_result"
    }
   ],
   "source": [
    "# verify that this is the result we anticipated\n",
    "vocab[house_idx]"
   ]
  },
  {
   "cell_type": "markdown",
   "metadata": {},
   "source": [
    "#### Sandbox\n",
    "=======\n",
    "Feel free to experiment with the document-term matrix `dtm` in the code cells below."
   ]
  },
  {
   "cell_type": "code",
   "execution_count": 10,
   "metadata": {},
   "outputs": [
    {
     "name": "stdout",
     "output_type": "stream",
     "text": [
      "(6, 22854)\n",
      "data/austen-bronte/Austen_Emma.txt\n",
      "data/austen-bronte/Austen_Pride.txt\n",
      "data/austen-bronte/Austen_Sense.txt\n",
      "data/austen-bronte/CBronte_Jane.txt\n",
      "data/austen-bronte/CBronte_Professor.txt\n",
      "data/austen-bronte/CBronte_Villette.txt\n"
     ]
    }
   ],
   "source": [
    "print(dtm.shape)\n",
    "for fn in filenames:\n",
    "    print(fn)"
   ]
  },
  {
   "cell_type": "code",
   "execution_count": 11,
   "metadata": {},
   "outputs": [
    {
     "name": "stdout",
     "output_type": "stream",
     "text": [
      "22854\n"
     ]
    },
    {
     "data": {
      "text/plain": [
       "array(['abuse', 'abused', 'abuses', 'abusing', 'abusive', 'abyss',\n",
       "       'acacia', 'acacias', 'academician', 'academicians', 'accede',\n",
       "       'acceded', 'acceding', 'accelerate', 'accelerated', 'accent',\n",
       "       'accented', 'accents', 'accentuated', 'accept', 'acceptable',\n",
       "       'acceptably', 'acceptance', 'accepted', 'accepting', 'accepts',\n",
       "       'access', 'accessible', 'accession', 'accessory', 'accident',\n",
       "       'accidental', 'accidentally', 'accidently', 'accidents',\n",
       "       'accommodate', 'accommodated', 'accommodating', 'accommodation',\n",
       "       'accommodations', 'accompanied', 'accompanies', 'accompaniment',\n",
       "       'accompaniments', 'accompany', 'accompanying', 'accompli',\n",
       "       'accomplices', 'accomplish', 'accomplished'],\n",
       "      dtype='<U20')"
      ]
     },
     "execution_count": 11,
     "metadata": {},
     "output_type": "execute_result"
    }
   ],
   "source": [
    "print(len(vocab))\n",
    "vocab[500:550]  # look at some of the vocabulary"
   ]
  },
  {
   "cell_type": "markdown",
   "metadata": {},
   "source": [
    "### 1b. Comparing texts\n",
    "-------------------------------\n",
    "\n",
    "Arranging our texts in a document-term matrix make available a range of exploratory procedures. For example, calculating a measure of similarity between texts becomes simple. Since each row of the document-term matrix is a sequence of a novel's word frequencies, it is possible to put mathematical notions of similarity (or distance) between sequences of numbers in service of calculating the similarity (or distnace) between any two novels. One frequently used measure of distance between vectors (a measure easily converted into a measure of similarity) is Euclidean distance. The Euclidean distance between two vectors in the plane should be familiar from geometry, as it is the length of the hypotenuse that joins the two vectors. For instance, consider the Euclidean distance between the vectors \\vec{x} = (1, 3) and \\vec{y} = (4, 2). The distance between the two vectors is \\sqrt{(1-4)^2 + (3-2)^2} = \\sqrt{10}.\n",
    "\n",
    "Note\n",
    "\n",
    "Measures of distance can be converted into measures of similarity. If your measures of distance are all between zero and one, then a measure of similarity could be one minus the distance. (The inverse of the distance would also serve as a measure of similarity.)\n",
    "\n",
    "$actodo insert image\n"
   ]
  },
  {
   "cell_type": "markdown",
   "metadata": {},
   "source": [
    "Note\n",
    "\n",
    "More generally, given two vectors \\vec{x} and \\vec{y} in p-dimensional space, the Euclidean distance between the two vectors is given by\n",
    "\n",
    "||\\vec{x} - \\vec{y}|| = \\sqrt{\\sum_{i=1}^p (x_i - y_i)^2}\n",
    "\n",
    "This concept of distance is not restricted to two dimensions. For example, it is not difficult to imagine the figure above translated into three dimensions. We can also persuade ourselves that the measure of distance extends to an arbitrary number of dimensions; for any two matched components in a pair of vectors (such as x_2 and y_2), differences increase the distance.\n",
    "\n",
    "Since two novels in our corpus now have an expression as vectors, we can calculate the Euclidean distance between them. We can do this by hand or we can avail ourselves of the scikit-learn function euclidean_distances."
   ]
  },
  {
   "cell_type": "code",
   "execution_count": 12,
   "metadata": {},
   "outputs": [
    {
     "data": {
      "text/plain": [
       "True"
      ]
     },
     "execution_count": 12,
     "metadata": {},
     "output_type": "execute_result"
    }
   ],
   "source": [
    "# \"by hand\"\n",
    "n, _ = dtm.shape\n",
    "dist = np.zeros((n, n))\n",
    "for i in range(n):\n",
    "    for j in range(n):\n",
    "        x, y = dtm[i, :], dtm[j, :]\n",
    "        dist[i, j] = np.sqrt(np.sum((x - y)**2))\n",
    "\n",
    "from sklearn.metrics.pairwise import euclidean_distances\n",
    "dist = euclidean_distances(dtm)\n",
    "\n",
    "np.round(dist, 1)\n",
    "# *Pride and Prejudice* is index 1 and *Jane Eyre* is index 3\n",
    "filenames[1] == 'data/austen-bronte/Austen_Pride.txt'\n",
    "filenames[3] == 'data/austen-bronte/CBronte_Jane.txt'\n",
    "\n",
    "# the distance between *Pride and Prejudice* and *Jane Eyre*\n",
    "dist[1, 3]\n",
    "\n",
    "# which is greater than the distance between *Jane Eyre* and *Villette* (index 5)\n",
    "dist[1, 3] > dist[3, 5]\n"
   ]
  },
  {
   "cell_type": "markdown",
   "metadata": {},
   "source": [
    "And if we want to use a measure of distance that takes into consideration the length of the novels (an excellent idea), we can calculate the cosine similarity by importing sklearn.metrics.pairwise.cosine_similarity and use it in place of euclidean_distances.\n",
    "\n",
    "Keep in mind that cosine similarity is a measure of similarity (rather than distance) that ranges between 0 and 1 (as it is the cosine of the angle between the two vectors). In order to get a measure of distance (or dissimilarity), we need to \"flip\" the measure so that a larger angle receives a larger value. The distance measure derived from cosine similarity is therefore one minus the cosine similarity between two vectors."
   ]
  },
  {
   "cell_type": "code",
   "execution_count": 13,
   "metadata": {},
   "outputs": [
    {
     "data": {
      "text/plain": [
       "True"
      ]
     },
     "execution_count": 13,
     "metadata": {},
     "output_type": "execute_result"
    }
   ],
   "source": [
    "from sklearn.metrics.pairwise import cosine_similarity\n",
    "    \n",
    "dist = 1 - cosine_similarity(dtm)\n",
    "np.round(dist, 2)\n",
    "\n",
    "# the distance between *Pride and Prejudice* (index 1)\n",
    "# and *Jane Eyre* (index 3) is\n",
    "dist[1, 3]\n",
    "\n",
    "# which is greater than the distance between *Jane Eyre* and\n",
    "# *Villette* (index 5)\n",
    "dist[1, 3] > dist[3, 5]"
   ]
  },
  {
   "cell_type": "markdown",
   "metadata": {},
   "source": [
    "Those interested in doing the calculation for themselves can use the following steps:"
   ]
  },
  {
   "cell_type": "code",
   "execution_count": 14,
   "metadata": {},
   "outputs": [
    {
     "data": {
      "text/plain": [
       "0.95297376567683456"
      ]
     },
     "execution_count": 14,
     "metadata": {},
     "output_type": "execute_result"
    }
   ],
   "source": [
    "norms = np.sqrt(np.sum(dtm * dtm, axis=1, keepdims=True))  # multiplication between arrays is element-wise\n",
    "    \n",
    "dtm_normed = dtm / norms\n",
    "similarities = np.dot(dtm_normed, dtm_normed.T)\n",
    "np.round(similarities, 2)\n",
    "# similarities between *Pride and Prejudice* and *Jane Eyre* is\n",
    "similarities[1, 3]"
   ]
  },
  {
   "cell_type": "code",
   "execution_count": 15,
   "metadata": {
    "collapsed": true
   },
   "outputs": [],
   "source": [
    "import os\n",
    "import pandas as pd\n",
    "OUTPUT_HTML_PATH = os.path.join('source', 'generated')\n",
    "OUTPUT_FILENAME = 'getting_started_cosine.txt'\n",
    "names = [os.path.basename(fn).replace('.txt', '') for fn in filenames]\n",
    "ARR, ROWNAMES, COLNAMES = dist, names, names\n",
    "\n",
    "html = pd.DataFrame(np.round(ARR, 2), index=ROWNAMES, columns=COLNAMES).to_html()\n",
    "with open(os.path.join(OUTPUT_HTML_PATH, OUTPUT_FILENAME), 'w') as f:\n",
    "    f.write(html)"
   ]
  },
  {
   "cell_type": "code",
   "execution_count": 16,
   "metadata": {},
   "outputs": [
    {
     "data": {
      "text/html": [
       "<div>\n",
       "<style>\n",
       "    .dataframe thead tr:only-child th {\n",
       "        text-align: right;\n",
       "    }\n",
       "\n",
       "    .dataframe thead th {\n",
       "        text-align: left;\n",
       "    }\n",
       "\n",
       "    .dataframe tbody tr th {\n",
       "        vertical-align: top;\n",
       "    }\n",
       "</style>\n",
       "<table border=\"1\" class=\"dataframe\">\n",
       "  <thead>\n",
       "    <tr style=\"text-align: right;\">\n",
       "      <th></th>\n",
       "      <th>Austen_Emma</th>\n",
       "      <th>Austen_Pride</th>\n",
       "      <th>Austen_Sense</th>\n",
       "      <th>CBronte_Jane</th>\n",
       "      <th>CBronte_Professor</th>\n",
       "      <th>CBronte_Villette</th>\n",
       "    </tr>\n",
       "  </thead>\n",
       "  <tbody>\n",
       "    <tr>\n",
       "      <th>Austen_Emma</th>\n",
       "      <td>-0.00</td>\n",
       "      <td>0.02</td>\n",
       "      <td>0.03</td>\n",
       "      <td>0.05</td>\n",
       "      <td>0.06</td>\n",
       "      <td>0.05</td>\n",
       "    </tr>\n",
       "    <tr>\n",
       "      <th>Austen_Pride</th>\n",
       "      <td>0.02</td>\n",
       "      <td>-0.00</td>\n",
       "      <td>0.02</td>\n",
       "      <td>0.05</td>\n",
       "      <td>0.04</td>\n",
       "      <td>0.04</td>\n",
       "    </tr>\n",
       "    <tr>\n",
       "      <th>Austen_Sense</th>\n",
       "      <td>0.03</td>\n",
       "      <td>0.02</td>\n",
       "      <td>-0.00</td>\n",
       "      <td>0.06</td>\n",
       "      <td>0.05</td>\n",
       "      <td>0.05</td>\n",
       "    </tr>\n",
       "    <tr>\n",
       "      <th>CBronte_Jane</th>\n",
       "      <td>0.05</td>\n",
       "      <td>0.05</td>\n",
       "      <td>0.06</td>\n",
       "      <td>0.00</td>\n",
       "      <td>0.02</td>\n",
       "      <td>0.01</td>\n",
       "    </tr>\n",
       "    <tr>\n",
       "      <th>CBronte_Professor</th>\n",
       "      <td>0.06</td>\n",
       "      <td>0.04</td>\n",
       "      <td>0.05</td>\n",
       "      <td>0.02</td>\n",
       "      <td>-0.00</td>\n",
       "      <td>0.01</td>\n",
       "    </tr>\n",
       "    <tr>\n",
       "      <th>CBronte_Villette</th>\n",
       "      <td>0.05</td>\n",
       "      <td>0.04</td>\n",
       "      <td>0.05</td>\n",
       "      <td>0.01</td>\n",
       "      <td>0.01</td>\n",
       "      <td>0.00</td>\n",
       "    </tr>\n",
       "  </tbody>\n",
       "</table>\n",
       "</div>"
      ],
      "text/plain": [
       "                   Austen_Emma  Austen_Pride  Austen_Sense  CBronte_Jane  \\\n",
       "Austen_Emma              -0.00          0.02          0.03          0.05   \n",
       "Austen_Pride              0.02         -0.00          0.02          0.05   \n",
       "Austen_Sense              0.03          0.02         -0.00          0.06   \n",
       "CBronte_Jane              0.05          0.05          0.06          0.00   \n",
       "CBronte_Professor         0.06          0.04          0.05          0.02   \n",
       "CBronte_Villette          0.05          0.04          0.05          0.01   \n",
       "\n",
       "                   CBronte_Professor  CBronte_Villette  \n",
       "Austen_Emma                     0.06              0.05  \n",
       "Austen_Pride                    0.04              0.04  \n",
       "Austen_Sense                    0.05              0.05  \n",
       "CBronte_Jane                    0.02              0.01  \n",
       "CBronte_Professor              -0.00              0.01  \n",
       "CBronte_Villette                0.01              0.00  "
      ]
     },
     "execution_count": 16,
     "metadata": {},
     "output_type": "execute_result"
    }
   ],
   "source": [
    "#display inline\n",
    "df = pd.DataFrame(np.round(ARR, 2), index=ROWNAMES, columns=COLNAMES)\n",
    "df"
   ]
  },
  {
   "cell_type": "markdown",
   "metadata": {},
   "source": [
    "### 1c. Visualizing distances\n",
    "-------------------------------\n",
    "\n",
    "It is often desirable to visualize the pairwise distances between our texts. A general approach to visualizing distances is to assign a point in a plane to each text, making sure that the distance between points is proportional to the pairwise distances we calculated. This kind of visualization is common enough that it has a name, \"multidimensional scaling\" (MDS) and family of functions in scikit-learn (and R too, see mdscale)."
   ]
  },
  {
   "cell_type": "code",
   "execution_count": 17,
   "metadata": {
    "collapsed": true
   },
   "outputs": [],
   "source": [
    "import os  # for os.path.basename\n",
    "    \n",
    "import matplotlib.pyplot as plt\n",
    "from sklearn.manifold import MDS\n",
    "\n",
    "# two components as we're plotting points in a two-dimensional plane\n",
    "# \"precomputed\" because we provide a distance matrix\n",
    "# we will also specify `random_state` so the plot is reproducible.\n",
    "mds = MDS(n_components=2, dissimilarity=\"precomputed\", random_state=1)\n",
    "pos = mds.fit_transform(dist)  # shape (n_components, n_samples)"
   ]
  },
  {
   "cell_type": "code",
   "execution_count": 18,
   "metadata": {},
   "outputs": [
    {
     "data": {
      "image/png": "[encoded data removed]",
      "text/plain": [
       "<matplotlib.figure.Figure at 0x1e3d851db70>"
      ]
     },
     "metadata": {},
     "output_type": "display_data"
    }
   ],
   "source": [
    "xs, ys = pos[:, 0], pos[:, 1]\n",
    "# short versions of filenames:\n",
    "# convert 'data/austen-brontë/Austen_Emma.txt' to 'Austen_Emma'\n",
    "names = [os.path.basename(fn).replace('.txt', '') for fn in filenames]\n",
    "# color-blind-friendly palette\n",
    "for x, y, name in zip(xs, ys, names):\n",
    "    color = 'orange' if \"Austen\" in name else 'skyblue'\n",
    "    plt.scatter(x, y, c=color)\n",
    "    plt.text(x, y, name)\n",
    "\n",
    "plt.tight_layout()\n",
    "\n",
    "plt.savefig('plots/plot_getting_started_cosine_mds.png', bbox_inches='tight')\n",
    "plt.show()"
   ]
  },
  {
   "cell_type": "markdown",
   "metadata": {},
   "source": [
    "We can also do MDS in three dimensions:"
   ]
  },
  {
   "cell_type": "code",
   "execution_count": 19,
   "metadata": {
    "collapsed": true
   },
   "outputs": [],
   "source": [
    "# après Jeremy M. Stober, Tim Vieira\n",
    "# https://github.com/timvieira/viz/blob/master/mds.py\n",
    "\n",
    "mds = MDS(n_components=3, dissimilarity=\"precomputed\", random_state=1)\n",
    "pos = mds.fit_transform(dist)\n"
   ]
  },
  {
   "cell_type": "code",
   "execution_count": 20,
   "metadata": {},
   "outputs": [
    {
     "data": {
      "image/png": "[encoded data removed]",
      "text/plain": [
       "<matplotlib.figure.Figure at 0x1e3d851d208>"
      ]
     },
     "metadata": {},
     "output_type": "display_data"
    }
   ],
   "source": [
    "from mpl_toolkits.mplot3d import Axes3D\n",
    "fig = plt.figure()\n",
    "ax = fig.add_subplot(111, projection='3d')\n",
    "ax.scatter(pos[:, 0], pos[:, 1], pos[:, 2])\n",
    "for x, y, z, s in zip(pos[:, 0], pos[:, 1], pos[:, 2], names):\n",
    "    ax.text(x, y, z, s)\n",
    "\n",
    "plt.savefig('plots/plot_getting_started_cosine_mds_3d.png', bbox_inches='tight')\n",
    "plt.show()"
   ]
  },
  {
   "cell_type": "markdown",
   "metadata": {},
   "source": [
    "### 1d. Clustering texts based on distance\n",
    "--------------------------------------------------\n",
    "\n",
    "Clustering texts into discrete groups of similar texts is often a useful exploratory step. For example, a researcher may be wondering if certain textual features partition a collection of texts by author or by genre. Pairwise distances alone do not produce any kind of classification. To put a set of distance measurements to work in classification requires additional assumptions, such as a definition of a group or cluster.\n",
    "\n",
    "The ideas underlying the transition from distances to clusters are, for the most part, common sense. Any clustering of texts should result in texts that are closer to each other (in the distance matrix) residing in the same cluster. There are many ways of satisfying this requirement; there no unique clustering based on distances that is the \"best\". One strategy for clustering in circulation is called Ward's method. Rather than producing a single clustering, Ward's method produces a hierarchy of clusterings, as we will see in a moment. All that Ward's method requires is a set of pairwise distance measurements–such as those we calculated a moment ago. Ward's method produces a hierarchical clustering of texts via the following procedure:\n",
    "\n",
    "Start with each text in its own cluster\n",
    "Until only a single cluster remains,\n",
    "Find the closest clusters and merge them. The distance between two clusters is the change in the sum of squared distances when they are merged.\n",
    "Return a tree containing a record of cluster-merges.\n",
    "The function scipy.cluster.hierarchy.ward performs this algorithm and returns a tree of cluster-merges. The hierarchy of clusters can be visualized using scipy.cluster.hierarchy.dendrogram."
   ]
  },
  {
   "cell_type": "code",
   "execution_count": 21,
   "metadata": {},
   "outputs": [
    {
     "data": {
      "image/png": "[encoded data removed]",
      "text/plain": [
       "<matplotlib.figure.Figure at 0x1e3d8521630>"
      ]
     },
     "metadata": {},
     "output_type": "display_data"
    }
   ],
   "source": [
    "from scipy.cluster.hierarchy import ward, dendrogram\n",
    "\n",
    "linkage_matrix = ward(dist)\n",
    "\n",
    "# match dendrogram to that returned by R's hclust()\n",
    "dendrogram(linkage_matrix, orientation=\"right\", labels=names)\n",
    "\n",
    "plt.tight_layout()  # fixes margins\n",
    "\n",
    "plt.savefig('plots/plot_getting_started_ward_dendrogram.png', bbox_inches='tight')\n",
    "plt.show()"
   ]
  },
  {
   "cell_type": "code",
   "execution_count": 22,
   "metadata": {
    "collapsed": true
   },
   "outputs": [],
   "source": [
    "#$acskipped: exercises\n",
    "\n",
    "#$acskipped: part2 Preprocessing: tokenizing, chunking, grouping, exercises"
   ]
  },
  {
   "cell_type": "markdown",
   "metadata": {},
   "source": [
    "============================\n",
    "## 3. Feature selection: finding distinctive words\n",
    "==========================================================\n",
    "\n",
    "We often want to know what words distinguish one group of texts from another group of texts. For instance, we might be working with an archive of two city newspapers, say, the Frankfurter Allgemeine Zeitung and the Frankfurter Rundschau and want to know which words tend to appear in one newspaper rather than the other. Or we might be interested in comparing word usage in US Presidents' State of the Union addresses given during recessions with addresses given during periods of economic growth. Or we might be comparing the style of several novelists and want to know if one author tends to use words not found in the works of others.\n",
    "\n",
    "This section illustrates how distinctive words can be identified using a corpus of novels containing works by two authors: Jane Austen and Charlotte Brontë.\n",
    "\n",
    "Austen, Emma\n",
    "Austen, Pride and Prejudice\n",
    "Austen, Sense and Sensibility\n",
    "C. Brontë, Jane Eyre\n",
    "C. Brontë, The Professor\n",
    "C. Brontë, Villette\n",
    "This :ref:`corpus of six novels <datasets>` consists of the following text files:"
   ]
  },
  {
   "cell_type": "code",
   "execution_count": 23,
   "metadata": {
    "collapsed": true
   },
   "outputs": [],
   "source": [
    "#indexing aka keywords\n",
    "#index:: feature selection, distinctive words, Bayesian t-test, keyness, chi-squared test, Dunning log-likelihood, G-test\n",
    "#authors: Austen, Jane; Brönte, Charlotte"
   ]
  },
  {
   "cell_type": "code",
   "execution_count": 24,
   "metadata": {
    "collapsed": true
   },
   "outputs": [],
   "source": [
    "N_WORDS_DISPLAY = 11\n",
    "CORPUS_PATH = os.path.join('data', 'british-fiction-corpus')\n",
    "OUTPUT_HTML_PATH = os.path.join('source', 'generated')\n",
    "AUSTEN_FILENAMES = ['Austen_Emma.txt', 'Austen_Pride.txt', 'Austen_Sense.txt']\n",
    "CBRONTE_FILENAMES = ['CBronte_Jane.txt', 'CBronte_Professor.txt', 'CBronte_Villette.txt']\n",
    "filenames = AUSTEN_FILENAMES + CBRONTE_FILENAMES"
   ]
  },
  {
   "cell_type": "markdown",
   "metadata": {},
   "source": [
    "We will find that among the words that reliably distinguish Austen from Brontë are \"such\", \"could\", and \"any\". This tutorial demonstrates how we arrived at these words.\n",
    "\n",
    "Note\n",
    "\n",
    "The following features an introduction to the concepts underlying feature selection. Those who are working with a very large corpus and are familiar with statistics may wish to skip ahead to the section on :ref:`group comparison <bayesian-group-comparison>` or the section :ref:`chi2`.\n",
    "\n",
    "Since we are concerned with words, we begin by extracting word frequencies from each of the texts in our corpus and :ref:`construct a document-term matrix <working-with-text>` that records the rate per 1,000 words for each word appearing in the corpus. Using rates rather than counts will allow us to account for differences in the length of the novels. Accounting for differences in document lengths when dealing with word counts is essential. For example, a text using \"whence\" ten times in a 1,000 word article uses the word at a rate of 10 per 1,000 words, while a 100,000 word novel that uses \"whence\" 20 times uses it at a rate of 0.2 per 1,000 words. While the word occurs more in absolute terms in the second text, the rate is higher in the first text. While there are other ways to account for document length---a procedure called \"normalization\"---considering the rate per 1,000 words will serve us well. An appealing feature of word rates per 1,000 words is that readers are familiar with documents of this length (e.g., a newspaper article)."
   ]
  },
  {
   "cell_type": "code",
   "execution_count": 25,
   "metadata": {
    "collapsed": true
   },
   "outputs": [],
   "source": [
    "import os\n",
    "import nltk\n",
    "import numpy as np\n",
    "from sklearn.feature_extraction.text import CountVectorizer\n",
    "\n",
    "filenames_with_path = [os.path.join(CORPUS_PATH, fn) for fn in filenames]\n",
    "# these texts have underscores ('_') that indicate italics; remove them.\n",
    "raw_texts = []\n",
    "for fn in filenames_with_path:\n",
    "    with open(fn) as f:\n",
    "        text = f.read()\n",
    "        text = text.replace('_', '')  # remove underscores (italics)\n",
    "        raw_texts.append(text)\n",
    "\n",
    "vectorizer = CountVectorizer(input='content')\n",
    "dtm = vectorizer.fit_transform(raw_texts)\n",
    "vocab = np.array(vectorizer.get_feature_names())\n",
    "# fit_transform returns a sparse matrix (which uses less memory)\n",
    "# but we want to work with a normal numpy array.\n",
    "dtm = dtm.toarray()\n",
    "\n",
    "# normalize counts to rates per 1000 words\n",
    "rates = 1000 * dtm / np.sum(dtm, axis=1, keepdims=True)"
   ]
  },
  {
   "cell_type": "code",
   "execution_count": 26,
   "metadata": {},
   "outputs": [
    {
     "data": {
      "text/plain": [
       "array(['abdiel', 'abdy', 'abed', 'aberdeen', 'aberration'],\n",
       "      dtype='<U20')"
      ]
     },
     "execution_count": 26,
     "metadata": {},
     "output_type": "execute_result"
    }
   ],
   "source": [
    "# just examine a sample, those at offsets 100 to 105\n",
    "rates[:, 100:105]\n",
    "vocab[100:105]"
   ]
  },
  {
   "cell_type": "code",
   "execution_count": 27,
   "metadata": {
    "collapsed": true
   },
   "outputs": [],
   "source": [
    "assert rates.shape == dtm.shape\n",
    "\n",
    "filenames_short = [fn.rstrip('.txt') for fn in filenames]\n",
    "\n",
    "html = pd.DataFrame(np.round(rates[:, 100:105], 2), index=filenames_short, columns=vocab[100:105]).to_html()\n",
    "with open(os.path.join(OUTPUT_HTML_PATH, 'feature_selection_rates.txt'), 'w') as f:\n",
    "    f.write(html)"
   ]
  },
  {
   "cell_type": "code",
   "execution_count": 28,
   "metadata": {},
   "outputs": [
    {
     "data": {
      "text/html": [
       "<div>\n",
       "<style>\n",
       "    .dataframe thead tr:only-child th {\n",
       "        text-align: right;\n",
       "    }\n",
       "\n",
       "    .dataframe thead th {\n",
       "        text-align: left;\n",
       "    }\n",
       "\n",
       "    .dataframe tbody tr th {\n",
       "        vertical-align: top;\n",
       "    }\n",
       "</style>\n",
       "<table border=\"1\" class=\"dataframe\">\n",
       "  <thead>\n",
       "    <tr style=\"text-align: right;\">\n",
       "      <th></th>\n",
       "      <th>abdiel</th>\n",
       "      <th>abdy</th>\n",
       "      <th>abed</th>\n",
       "      <th>aberdeen</th>\n",
       "      <th>aberration</th>\n",
       "    </tr>\n",
       "  </thead>\n",
       "  <tbody>\n",
       "    <tr>\n",
       "      <th>Austen_Emma</th>\n",
       "      <td>0.00</td>\n",
       "      <td>0.01</td>\n",
       "      <td>0.00</td>\n",
       "      <td>0.00</td>\n",
       "      <td>0.00</td>\n",
       "    </tr>\n",
       "    <tr>\n",
       "      <th>Austen_Pride</th>\n",
       "      <td>0.00</td>\n",
       "      <td>0.00</td>\n",
       "      <td>0.00</td>\n",
       "      <td>0.00</td>\n",
       "      <td>0.00</td>\n",
       "    </tr>\n",
       "    <tr>\n",
       "      <th>Austen_Sense</th>\n",
       "      <td>0.00</td>\n",
       "      <td>0.00</td>\n",
       "      <td>0.00</td>\n",
       "      <td>0.00</td>\n",
       "      <td>0.00</td>\n",
       "    </tr>\n",
       "    <tr>\n",
       "      <th>CBronte_Jane</th>\n",
       "      <td>0.00</td>\n",
       "      <td>0.00</td>\n",
       "      <td>0.00</td>\n",
       "      <td>0.00</td>\n",
       "      <td>0.00</td>\n",
       "    </tr>\n",
       "    <tr>\n",
       "      <th>CBronte_Professor</th>\n",
       "      <td>0.01</td>\n",
       "      <td>0.00</td>\n",
       "      <td>0.00</td>\n",
       "      <td>0.00</td>\n",
       "      <td>0.00</td>\n",
       "    </tr>\n",
       "    <tr>\n",
       "      <th>CBronte_Villette</th>\n",
       "      <td>0.00</td>\n",
       "      <td>0.00</td>\n",
       "      <td>0.01</td>\n",
       "      <td>0.01</td>\n",
       "      <td>0.01</td>\n",
       "    </tr>\n",
       "  </tbody>\n",
       "</table>\n",
       "</div>"
      ],
      "text/plain": [
       "                   abdiel  abdy  abed  aberdeen  aberration\n",
       "Austen_Emma          0.00  0.01  0.00      0.00        0.00\n",
       "Austen_Pride         0.00  0.00  0.00      0.00        0.00\n",
       "Austen_Sense         0.00  0.00  0.00      0.00        0.00\n",
       "CBronte_Jane         0.00  0.00  0.00      0.00        0.00\n",
       "CBronte_Professor    0.01  0.00  0.00      0.00        0.00\n",
       "CBronte_Villette     0.00  0.00  0.01      0.01        0.01"
      ]
     },
     "execution_count": 28,
     "metadata": {},
     "output_type": "execute_result"
    }
   ],
   "source": [
    "#display inline\n",
    "df = pd.DataFrame(np.round(rates[:, 100:105], 2), index=filenames_short, columns=vocab[100:105])\n",
    "df"
   ]
  },
  {
   "cell_type": "markdown",
   "metadata": {},
   "source": [
    "### 3a. Measuring \"distinctiveness\"\n",
    "--------------------------------------------------\n",
    "\n",
    "Finding distinctive words requires a decision about what \"distinctive\" means. As we will see, there are a variety of definitions that we might use. It seems reasonable to expect that all definitions of distinctive would identify as distinctive words found exclusively in texts associated with a single author (or group). For example, if Brontë uses the word \"access\" and Austen never does, we should count \"access\" as distinctive. A more challenging question is how to treat words that occur in both groups of texts but do so with different rates.\n",
    "\n",
    "Finding words that are unique to a group is a simple exercise. Indeed, it is worth treating these words a special case so they will not clutter our work later on. We will quickly identify these words and remove them. (They tend not to be terribly interesting words.)\n",
    "\n",
    "A simple way of identifying words unique to one author would be to calculate the average rate of word use across all texts for each author and then to look for cases where the average rate is zero for one author."
   ]
  },
  {
   "cell_type": "code",
   "execution_count": 29,
   "metadata": {},
   "outputs": [
    {
     "data": {
      "text/plain": [
       "array(['elinor', 'emma', 'marianne', ..., 'incautious', 'incedingly',\n",
       "       'kitten'],\n",
       "      dtype='<U20')"
      ]
     },
     "execution_count": 29,
     "metadata": {},
     "output_type": "execute_result"
    }
   ],
   "source": [
    "# indices so we can refer to the rows for the relevant author\n",
    "austen_indices, cbronte_indices = [], []\n",
    "for index, fn in enumerate(filenames):\n",
    "    if \"Austen\" in fn:\n",
    "        austen_indices.append(index)\n",
    "    elif \"CBronte\" in fn:\n",
    "        cbronte_indices.append(index)\n",
    "\n",
    "# this kind of slicing should be familiar if you've used R or Octave/Matlab\n",
    "austen_rates = rates[austen_indices, :]\n",
    "cbronte_rates = rates[cbronte_indices, :]\n",
    "\n",
    "# np.mean(..., axis=0) calculates the column-wise mean\n",
    "austen_rates_avg = np.mean(austen_rates, axis=0)\n",
    "cbronte_rates_avg = np.mean(cbronte_rates, axis=0)\n",
    "\n",
    "# since zero times any number is zero, this will identify documents where\n",
    "# any author's average rate is zero\n",
    "distinctive_indices = (austen_rates_avg * cbronte_rates_avg) == 0\n",
    "\n",
    "# examine words that are unique, ranking by rates\n",
    "np.count_nonzero(distinctive_indices)\n",
    "ranking = np.argsort(austen_rates_avg[distinctive_indices] + cbronte_rates_avg[distinctive_indices])[::-1]  # from highest to lowest; [::-1] reverses order.\n",
    "vocab[distinctive_indices][ranking]"
   ]
  },
  {
   "cell_type": "code",
   "execution_count": 30,
   "metadata": {
    "collapsed": true
   },
   "outputs": [],
   "source": [
    "arr = np.vstack([austen_rates_avg[distinctive_indices][ranking][0:N_WORDS_DISPLAY],\n",
    "                 cbronte_rates_avg[distinctive_indices][ranking][0:N_WORDS_DISPLAY]])\n",
    "colnames = vocab[distinctive_indices][ranking][0:N_WORDS_DISPLAY]\n",
    "rownames = ['Austen', 'Brontë']\n",
    "html = pd.DataFrame(np.round(arr, 2), index=rownames, columns=colnames).to_html()\n",
    "with open(os.path.join(OUTPUT_HTML_PATH, 'feature_selection_distinctive.txt'), 'w') as f:\n",
    "    f.write(html)"
   ]
  },
  {
   "cell_type": "code",
   "execution_count": 31,
   "metadata": {},
   "outputs": [
    {
     "data": {
      "text/html": [
       "<div>\n",
       "<style>\n",
       "    .dataframe thead tr:only-child th {\n",
       "        text-align: right;\n",
       "    }\n",
       "\n",
       "    .dataframe thead th {\n",
       "        text-align: left;\n",
       "    }\n",
       "\n",
       "    .dataframe tbody tr th {\n",
       "        vertical-align: top;\n",
       "    }\n",
       "</style>\n",
       "<table border=\"1\" class=\"dataframe\">\n",
       "  <thead>\n",
       "    <tr style=\"text-align: right;\">\n",
       "      <th></th>\n",
       "      <th>elinor</th>\n",
       "      <th>emma</th>\n",
       "      <th>marianne</th>\n",
       "      <th>darcy</th>\n",
       "      <th>weston</th>\n",
       "      <th>bennet</th>\n",
       "      <th>bingley</th>\n",
       "      <th>monsieur</th>\n",
       "      <th>knightley</th>\n",
       "      <th>elton</th>\n",
       "      <th>dashwood</th>\n",
       "    </tr>\n",
       "  </thead>\n",
       "  <tbody>\n",
       "    <tr>\n",
       "      <th>Austen</th>\n",
       "      <td>1.97</td>\n",
       "      <td>1.86</td>\n",
       "      <td>1.63</td>\n",
       "      <td>1.18</td>\n",
       "      <td>0.95</td>\n",
       "      <td>0.91</td>\n",
       "      <td>0.86</td>\n",
       "      <td>0.00</td>\n",
       "      <td>0.84</td>\n",
       "      <td>0.83</td>\n",
       "      <td>0.72</td>\n",
       "    </tr>\n",
       "    <tr>\n",
       "      <th>Brontë</th>\n",
       "      <td>0.00</td>\n",
       "      <td>0.00</td>\n",
       "      <td>0.00</td>\n",
       "      <td>0.00</td>\n",
       "      <td>0.00</td>\n",
       "      <td>0.00</td>\n",
       "      <td>0.00</td>\n",
       "      <td>0.86</td>\n",
       "      <td>0.00</td>\n",
       "      <td>0.00</td>\n",
       "      <td>0.00</td>\n",
       "    </tr>\n",
       "  </tbody>\n",
       "</table>\n",
       "</div>"
      ],
      "text/plain": [
       "        elinor  emma  marianne  darcy  weston  bennet  bingley  monsieur  \\\n",
       "Austen    1.97  1.86      1.63   1.18    0.95    0.91     0.86      0.00   \n",
       "Brontë    0.00  0.00      0.00   0.00    0.00    0.00     0.00      0.86   \n",
       "\n",
       "        knightley  elton  dashwood  \n",
       "Austen       0.84   0.83      0.72  \n",
       "Brontë       0.00   0.00      0.00  "
      ]
     },
     "execution_count": 31,
     "metadata": {},
     "output_type": "execute_result"
    }
   ],
   "source": [
    "#display inline\n",
    "df = pd.DataFrame(np.round(arr, 2), index=rownames, columns=colnames)\n",
    "df"
   ]
  },
  {
   "cell_type": "markdown",
   "metadata": {},
   "source": [
    "Now that we have identified these words, we will remove them from our corpus in order to focus on identifying distinctive words that appear in texts associated with every author."
   ]
  },
  {
   "cell_type": "code",
   "execution_count": 32,
   "metadata": {
    "collapsed": true
   },
   "outputs": [],
   "source": [
    "dtm = dtm[:, np.invert(distinctive_indices)]\n",
    "rates = rates[:, np.invert(distinctive_indices)]\n",
    "vocab = vocab[np.invert(distinctive_indices)]\n",
    "\n",
    "# recalculate variables that depend on rates\n",
    "austen_rates = rates[austen_indices, :]\n",
    "cbronte_rates = rates[cbronte_indices, :]\n",
    "austen_rates_avg = np.mean(austen_rates, axis=0)\n",
    "cbronte_rates_avg = np.mean(cbronte_rates, axis=0)\n"
   ]
  },
  {
   "cell_type": "markdown",
   "metadata": {},
   "source": [
    "#### Differences in averages\n",
    "\n",
    "How can we identify a distinctive word? One approach would compare the average rate at which authors use a word. A simple quantitative comparison would calculate the difference between the rates. If one author uses a word often across his or her oeuvre and another barely uses the word at all, then we suspect the difference in rates will be large. This will be the first definition of distinctiveness (sometimes called \"keyness\") we will consider. Using this measure we can calculate the top ten distinctive words in the Austen-Brontë comparison as follows:"
   ]
  },
  {
   "cell_type": "code",
   "execution_count": 33,
   "metadata": {},
   "outputs": [
    {
     "data": {
      "text/plain": [
       "array(['the', 'to', 'her', 'my', 'me', 'be', 'and', 'she', 'mr', 'very'],\n",
       "      dtype='<U20')"
      ]
     },
     "execution_count": 33,
     "metadata": {},
     "output_type": "execute_result"
    }
   ],
   "source": [
    "# calculate absolute value because we only care about the magnitude of the difference\n",
    "keyness = np.abs(austen_rates_avg - cbronte_rates_avg)\n",
    "ranking = np.argsort(keyness)[::-1]  # from highest to lowest; [::-1] reverses order in Python sequences\n",
    "\n",
    "# print the top 10 words along with their rates and the difference\n",
    "vocab[ranking][0:10]"
   ]
  },
  {
   "cell_type": "code",
   "execution_count": 34,
   "metadata": {
    "collapsed": true
   },
   "outputs": [],
   "source": [
    "    arr = np.vstack([keyness[ranking][0:N_WORDS_DISPLAY],\n",
    "                     austen_rates[:, ranking][:, 0:N_WORDS_DISPLAY],\n",
    "                     cbronte_rates[:, ranking][:, 0:N_WORDS_DISPLAY]])\n",
    "    colnames = vocab[ranking][0:N_WORDS_DISPLAY]\n",
    "    rownames = [\"--keyness--\"] + filenames_short\n",
    "    html = pd.DataFrame(np.round(arr, 2), index=rownames, columns=colnames).to_html()\n",
    "    with open(os.path.join(OUTPUT_HTML_PATH, 'feature_selection_distinctive_avg_diff.txt'), 'w') as f:\n",
    "        f.write(html)"
   ]
  },
  {
   "cell_type": "code",
   "execution_count": 35,
   "metadata": {},
   "outputs": [
    {
     "data": {
      "text/html": [
       "<div>\n",
       "<style>\n",
       "    .dataframe thead tr:only-child th {\n",
       "        text-align: right;\n",
       "    }\n",
       "\n",
       "    .dataframe thead th {\n",
       "        text-align: left;\n",
       "    }\n",
       "\n",
       "    .dataframe tbody tr th {\n",
       "        vertical-align: top;\n",
       "    }\n",
       "</style>\n",
       "<table border=\"1\" class=\"dataframe\">\n",
       "  <thead>\n",
       "    <tr style=\"text-align: right;\">\n",
       "      <th></th>\n",
       "      <th>the</th>\n",
       "      <th>to</th>\n",
       "      <th>her</th>\n",
       "      <th>my</th>\n",
       "      <th>me</th>\n",
       "      <th>be</th>\n",
       "      <th>and</th>\n",
       "      <th>she</th>\n",
       "      <th>mr</th>\n",
       "      <th>very</th>\n",
       "      <th>mrs</th>\n",
       "    </tr>\n",
       "  </thead>\n",
       "  <tbody>\n",
       "    <tr>\n",
       "      <th>--keyness--</th>\n",
       "      <td>9.87</td>\n",
       "      <td>7.07</td>\n",
       "      <td>6.98</td>\n",
       "      <td>6.66</td>\n",
       "      <td>6.23</td>\n",
       "      <td>6.03</td>\n",
       "      <td>4.94</td>\n",
       "      <td>4.80</td>\n",
       "      <td>3.70</td>\n",
       "      <td>3.26</td>\n",
       "      <td>3.14</td>\n",
       "    </tr>\n",
       "    <tr>\n",
       "      <th>Austen_Emma</th>\n",
       "      <td>33.65</td>\n",
       "      <td>33.90</td>\n",
       "      <td>16.10</td>\n",
       "      <td>4.73</td>\n",
       "      <td>3.77</td>\n",
       "      <td>12.78</td>\n",
       "      <td>31.67</td>\n",
       "      <td>15.29</td>\n",
       "      <td>7.46</td>\n",
       "      <td>7.84</td>\n",
       "      <td>4.53</td>\n",
       "    </tr>\n",
       "    <tr>\n",
       "      <th>Austen_Pride</th>\n",
       "      <td>36.67</td>\n",
       "      <td>35.24</td>\n",
       "      <td>18.86</td>\n",
       "      <td>6.04</td>\n",
       "      <td>3.79</td>\n",
       "      <td>10.49</td>\n",
       "      <td>30.35</td>\n",
       "      <td>14.48</td>\n",
       "      <td>6.66</td>\n",
       "      <td>4.12</td>\n",
       "      <td>2.90</td>\n",
       "    </tr>\n",
       "    <tr>\n",
       "      <th>Austen_Sense</th>\n",
       "      <td>35.42</td>\n",
       "      <td>35.52</td>\n",
       "      <td>22.01</td>\n",
       "      <td>5.42</td>\n",
       "      <td>3.83</td>\n",
       "      <td>11.22</td>\n",
       "      <td>30.13</td>\n",
       "      <td>13.92</td>\n",
       "      <td>1.54</td>\n",
       "      <td>4.31</td>\n",
       "      <td>4.57</td>\n",
       "    </tr>\n",
       "    <tr>\n",
       "      <th>CBronte_Jane</th>\n",
       "      <td>44.44</td>\n",
       "      <td>29.64</td>\n",
       "      <td>9.71</td>\n",
       "      <td>12.65</td>\n",
       "      <td>11.63</td>\n",
       "      <td>5.82</td>\n",
       "      <td>37.53</td>\n",
       "      <td>8.37</td>\n",
       "      <td>3.08</td>\n",
       "      <td>2.14</td>\n",
       "      <td>1.42</td>\n",
       "    </tr>\n",
       "    <tr>\n",
       "      <th>CBronte_Professor</th>\n",
       "      <td>45.63</td>\n",
       "      <td>27.91</td>\n",
       "      <td>14.74</td>\n",
       "      <td>13.18</td>\n",
       "      <td>9.07</td>\n",
       "      <td>5.17</td>\n",
       "      <td>34.93</td>\n",
       "      <td>10.45</td>\n",
       "      <td>1.23</td>\n",
       "      <td>2.26</td>\n",
       "      <td>0.32</td>\n",
       "    </tr>\n",
       "    <tr>\n",
       "      <th>CBronte_Villette</th>\n",
       "      <td>45.29</td>\n",
       "      <td>25.91</td>\n",
       "      <td>11.59</td>\n",
       "      <td>10.33</td>\n",
       "      <td>9.39</td>\n",
       "      <td>5.39</td>\n",
       "      <td>34.50</td>\n",
       "      <td>10.46</td>\n",
       "      <td>0.25</td>\n",
       "      <td>2.11</td>\n",
       "      <td>0.84</td>\n",
       "    </tr>\n",
       "  </tbody>\n",
       "</table>\n",
       "</div>"
      ],
      "text/plain": [
       "                     the     to    her     my     me     be    and    she  \\\n",
       "--keyness--         9.87   7.07   6.98   6.66   6.23   6.03   4.94   4.80   \n",
       "Austen_Emma        33.65  33.90  16.10   4.73   3.77  12.78  31.67  15.29   \n",
       "Austen_Pride       36.67  35.24  18.86   6.04   3.79  10.49  30.35  14.48   \n",
       "Austen_Sense       35.42  35.52  22.01   5.42   3.83  11.22  30.13  13.92   \n",
       "CBronte_Jane       44.44  29.64   9.71  12.65  11.63   5.82  37.53   8.37   \n",
       "CBronte_Professor  45.63  27.91  14.74  13.18   9.07   5.17  34.93  10.45   \n",
       "CBronte_Villette   45.29  25.91  11.59  10.33   9.39   5.39  34.50  10.46   \n",
       "\n",
       "                     mr  very   mrs  \n",
       "--keyness--        3.70  3.26  3.14  \n",
       "Austen_Emma        7.46  7.84  4.53  \n",
       "Austen_Pride       6.66  4.12  2.90  \n",
       "Austen_Sense       1.54  4.31  4.57  \n",
       "CBronte_Jane       3.08  2.14  1.42  \n",
       "CBronte_Professor  1.23  2.26  0.32  \n",
       "CBronte_Villette   0.25  2.11  0.84  "
      ]
     },
     "execution_count": 35,
     "metadata": {},
     "output_type": "execute_result"
    }
   ],
   "source": [
    "#display inline\n",
    "df = pd.DataFrame(np.round(arr, 2), index=rownames, columns=colnames)\n",
    "df"
   ]
  },
  {
   "cell_type": "markdown",
   "metadata": {},
   "source": [
    "This is a start. The problem with this measure is that it tends to highlight differences in very frequent words. For example, this method gives greater attention to a word that occurs 30 times per 1,000 words in Austen and 25 times per 1,000 in Brontë than it does to a word that occurs 5 times per 1,000 words in Austen and 0.1 times per 1,000 words in Brontë. This does not seem right. It seems important to recognize cases when one author uses a word frequently and another author barely uses it.\n",
    "\n",
    "As this initial attempt suggests, identifying distinctive words will be a balancing act. When comparing two groups of texts differences in the rates of frequent words will tend to be large relative to differences in the rates of rarer words. Human language is variable; some words occur more frequently than others regardless of who is writing. We need to find a way of adjusting our definition of distinctive in light of this.\n",
    "\n",
    "One adjustment that is easy to make is to divide the difference in authors' average rates by the average rate across all authors. Since dividing a quantity by a large number will make that quantity smaller, our new distinctiveness score will tend to be lower for words that occur frequently. While this is merely a heuristic, it does move us in the right direction."
   ]
  },
  {
   "cell_type": "code",
   "execution_count": 36,
   "metadata": {},
   "outputs": [
    {
     "data": {
      "text/plain": [
       "array(['madame', 'elizabeth', 'graham', 'lizzy', 'flowers', 'french',\n",
       "       'lessons', 'smallest', 'clean', 'movement'],\n",
       "      dtype='<U20')"
      ]
     },
     "execution_count": 36,
     "metadata": {},
     "output_type": "execute_result"
    }
   ],
   "source": [
    "# we have already calculated the following quantities\n",
    "# austen_rates_avg\n",
    "# cbronte_rates_avg\n",
    "\n",
    "rates_avg = np.mean(rates, axis=0)\n",
    "\n",
    "keyness = np.abs(austen_rates_avg - cbronte_rates_avg) / rates_avg\n",
    "ranking = np.argsort(keyness)[::-1]  # from highest to lowest; [::-1] reverses order.\n",
    "\n",
    "# print the top 10 words along with their rates and the difference\n",
    "vocab[ranking][0:10]"
   ]
  },
  {
   "cell_type": "code",
   "execution_count": 37,
   "metadata": {
    "collapsed": true
   },
   "outputs": [],
   "source": [
    "arr = np.vstack([keyness[ranking][0:N_WORDS_DISPLAY],\n",
    "                 austen_rates[:, ranking][:, 0:N_WORDS_DISPLAY],\n",
    "                 cbronte_rates[:, ranking][:, 0:N_WORDS_DISPLAY]])\n",
    "colnames = vocab[ranking][0:N_WORDS_DISPLAY]\n",
    "rownames = [\"--keyness--\"] + filenames_short\n",
    "html = pd.DataFrame(np.round(arr, 2), index=rownames, columns=colnames).to_html()\n",
    "with open(os.path.join(OUTPUT_HTML_PATH, 'feature_selection_distinctive_avg_diff_divided_by_avg.txt'), 'w') as f:\n",
    "    f.write(html)"
   ]
  },
  {
   "cell_type": "code",
   "execution_count": 38,
   "metadata": {},
   "outputs": [
    {
     "data": {
      "text/html": [
       "<div>\n",
       "<style>\n",
       "    .dataframe thead tr:only-child th {\n",
       "        text-align: right;\n",
       "    }\n",
       "\n",
       "    .dataframe thead th {\n",
       "        text-align: left;\n",
       "    }\n",
       "\n",
       "    .dataframe tbody tr th {\n",
       "        vertical-align: top;\n",
       "    }\n",
       "</style>\n",
       "<table border=\"1\" class=\"dataframe\">\n",
       "  <thead>\n",
       "    <tr style=\"text-align: right;\">\n",
       "      <th></th>\n",
       "      <th>madame</th>\n",
       "      <th>elizabeth</th>\n",
       "      <th>graham</th>\n",
       "      <th>lizzy</th>\n",
       "      <th>flowers</th>\n",
       "      <th>french</th>\n",
       "      <th>lessons</th>\n",
       "      <th>smallest</th>\n",
       "      <th>clean</th>\n",
       "      <th>movement</th>\n",
       "      <th>schoolroom</th>\n",
       "    </tr>\n",
       "  </thead>\n",
       "  <tbody>\n",
       "    <tr>\n",
       "      <th>--keyness--</th>\n",
       "      <td>1.99</td>\n",
       "      <td>1.99</td>\n",
       "      <td>1.98</td>\n",
       "      <td>1.97</td>\n",
       "      <td>1.96</td>\n",
       "      <td>1.95</td>\n",
       "      <td>1.95</td>\n",
       "      <td>1.94</td>\n",
       "      <td>1.94</td>\n",
       "      <td>1.94</td>\n",
       "      <td>1.94</td>\n",
       "    </tr>\n",
       "    <tr>\n",
       "      <th>Austen_Emma</th>\n",
       "      <td>0.01</td>\n",
       "      <td>0.05</td>\n",
       "      <td>0.01</td>\n",
       "      <td>0.00</td>\n",
       "      <td>0.01</td>\n",
       "      <td>0.01</td>\n",
       "      <td>0.01</td>\n",
       "      <td>0.13</td>\n",
       "      <td>0.01</td>\n",
       "      <td>0.01</td>\n",
       "      <td>0.01</td>\n",
       "    </tr>\n",
       "    <tr>\n",
       "      <th>Austen_Pride</th>\n",
       "      <td>0.00</td>\n",
       "      <td>5.38</td>\n",
       "      <td>0.00</td>\n",
       "      <td>0.81</td>\n",
       "      <td>0.00</td>\n",
       "      <td>0.01</td>\n",
       "      <td>0.00</td>\n",
       "      <td>0.09</td>\n",
       "      <td>0.00</td>\n",
       "      <td>0.00</td>\n",
       "      <td>0.00</td>\n",
       "    </tr>\n",
       "    <tr>\n",
       "      <th>Austen_Sense</th>\n",
       "      <td>0.00</td>\n",
       "      <td>0.00</td>\n",
       "      <td>0.00</td>\n",
       "      <td>0.00</td>\n",
       "      <td>0.00</td>\n",
       "      <td>0.00</td>\n",
       "      <td>0.00</td>\n",
       "      <td>0.17</td>\n",
       "      <td>0.00</td>\n",
       "      <td>0.00</td>\n",
       "      <td>0.00</td>\n",
       "    </tr>\n",
       "    <tr>\n",
       "      <th>CBronte_Jane</th>\n",
       "      <td>0.07</td>\n",
       "      <td>0.01</td>\n",
       "      <td>0.00</td>\n",
       "      <td>0.01</td>\n",
       "      <td>0.18</td>\n",
       "      <td>0.23</td>\n",
       "      <td>0.06</td>\n",
       "      <td>0.01</td>\n",
       "      <td>0.16</td>\n",
       "      <td>0.11</td>\n",
       "      <td>0.19</td>\n",
       "    </tr>\n",
       "    <tr>\n",
       "      <th>CBronte_Professor</th>\n",
       "      <td>0.56</td>\n",
       "      <td>0.00</td>\n",
       "      <td>0.00</td>\n",
       "      <td>0.00</td>\n",
       "      <td>0.21</td>\n",
       "      <td>0.71</td>\n",
       "      <td>0.31</td>\n",
       "      <td>0.00</td>\n",
       "      <td>0.14</td>\n",
       "      <td>0.19</td>\n",
       "      <td>0.14</td>\n",
       "    </tr>\n",
       "    <tr>\n",
       "      <th>CBronte_Villette</th>\n",
       "      <td>1.92</td>\n",
       "      <td>0.01</td>\n",
       "      <td>1.22</td>\n",
       "      <td>0.00</td>\n",
       "      <td>0.21</td>\n",
       "      <td>0.32</td>\n",
       "      <td>0.15</td>\n",
       "      <td>0.00</td>\n",
       "      <td>0.12</td>\n",
       "      <td>0.12</td>\n",
       "      <td>0.06</td>\n",
       "    </tr>\n",
       "  </tbody>\n",
       "</table>\n",
       "</div>"
      ],
      "text/plain": [
       "                   madame  elizabeth  graham  lizzy  flowers  french  lessons  \\\n",
       "--keyness--          1.99       1.99    1.98   1.97     1.96    1.95     1.95   \n",
       "Austen_Emma          0.01       0.05    0.01   0.00     0.01    0.01     0.01   \n",
       "Austen_Pride         0.00       5.38    0.00   0.81     0.00    0.01     0.00   \n",
       "Austen_Sense         0.00       0.00    0.00   0.00     0.00    0.00     0.00   \n",
       "CBronte_Jane         0.07       0.01    0.00   0.01     0.18    0.23     0.06   \n",
       "CBronte_Professor    0.56       0.00    0.00   0.00     0.21    0.71     0.31   \n",
       "CBronte_Villette     1.92       0.01    1.22   0.00     0.21    0.32     0.15   \n",
       "\n",
       "                   smallest  clean  movement  schoolroom  \n",
       "--keyness--            1.94   1.94      1.94        1.94  \n",
       "Austen_Emma            0.13   0.01      0.01        0.01  \n",
       "Austen_Pride           0.09   0.00      0.00        0.00  \n",
       "Austen_Sense           0.17   0.00      0.00        0.00  \n",
       "CBronte_Jane           0.01   0.16      0.11        0.19  \n",
       "CBronte_Professor      0.00   0.14      0.19        0.14  \n",
       "CBronte_Villette       0.00   0.12      0.12        0.06  "
      ]
     },
     "execution_count": 38,
     "metadata": {},
     "output_type": "execute_result"
    }
   ],
   "source": [
    "#display inline\n",
    "df = pd.DataFrame(np.round(arr, 2), index=rownames, columns=colnames)\n",
    "df"
   ]
  },
  {
   "cell_type": "markdown",
   "metadata": {},
   "source": [
    "This method improves on our initial attempt. It has the virtue of being simple and easy to implement. Yet it has its flaws. For example, the method tends to overemphasize very rare words.\n",
    "\n",
    "Just as there are many definitions of \"similarity\" or \"distance\" available to compare two texts (see :ref:`working-with-text`), there are many definitions of distinctive that can be used to identify words that characterize a group of texts.\n",
    "\n",
    "Note\n",
    "\n",
    "While we used the absolute value of the difference in average rates, |x-y| we might have easily used the squared difference, (x-y)^2 as it has similar properties (always positive, increasing as difference increases)."
   ]
  },
  {
   "cell_type": "markdown",
   "metadata": {},
   "source": [
    "### 3b. Bayesian group comparison\n",
    "--------------------------------------------------\n",
    "\n",
    "Note\n",
    "\n",
    "The following sections assume some familiarity with statistics and probability. Introductory texts include :cite:`casella_statistical_2001`, :cite:`hoff_first_2009`, and :cite:`lee_bayesian_2004`.\n",
    "\n",
    "Note\n",
    "\n",
    "The following excursion into the world of Bayesian inference and Gibbs sampling is closely related to topic modeling and Latent Dirichlet Allocation (LDA). The inference for the model discussed below proceeds using a Gibbs sampler from the full condition distribution of each variable of interest---precisely the same procedure is used in LDA.\n",
    "\n",
    "A more nuanced comparison of word use in two groups takes account of the variability in word use. Consider for instance the word \"green\" in Austen and Brontë. In Austen the word occurs with the following rates: 0.01, 0.03, and 0.06 (0.03 on average). In Brontë the word is consistently more frequent: 0.16, 0.36, and 0.22 (0.24 on average). These two groups of rates look different. But consider how our judgment might change if the rates observed in Brontë's novels were much more variable, say, 0.03, 0.04, and 0.66 (0.24 on average). Although the averages remain the same, the difference does not seem so pronounced; with only one observation (0.66) noticeably greater than we find in Austen, we might reasonably doubt that there is evidence of a systematic difference between the authors. [1]\n",
    "\n",
    "One way of formalizing a comparison of two groups that takes account of the variability of word usage comes from Bayesian statistics. To describe our beliefs about the word frequencies we observe, we use a probability distribution, which we will call our a sampling model. Under the model we will use, the rates are assumed to come from two different normal distributions. The question we will be asking is how confident we are that the means of the two normal distributions are different. How confident we are (expressed as a probability) that the means are indeed different will stand in as our measure of distinctiveness.\n",
    "\n",
    "We will use the parameterization below for our two normal sampling distributions. Group 1 corresponds to Austen and group 2 corresponds to Brontë:\n",
    "\n",
    "Y_{i,1} = \\mu + \\delta + \\epsilon_{i,1}\n",
    "Y_{i,2} = \\mu - \\delta + \\epsilon_{i,2}\n",
    "\\{\\epsilon_{i,j}\\} \\sim \\textrm{i.i.d.} \\; \\textrm{Normal}(0, \\sigma^2)\n",
    "n = 1, 2, 3\n",
    "(i.i.d. stands for independently and identically distributed)\n",
    "\n",
    "It is easy to relate this parameterization back to two normal distributions. Austen's texts come from a normal distribution with mean parameter \\theta_1 = \\mu + \\delta and variance \\sigma^2, whereas Brontë's novels come from a distribution with the same variance and with mean parameter \\theta_2 = \\mu - \\delta. \\delta corresponds to half the difference between the two means and it is through this parameter that we will judge how confident we are of a difference between the two distributions.\n",
    "\n",
    "As we consider the question of what prior distributions to assign to \\mu, \\delta, and \\sigma^2 we need to keep in mind that the word rates must be positive even though we are using normal distributions (which will always assign some, potentially quite small, probability to negative values). A compromise that will allow us to make use of computationally-convenient conjugate prior distributions will be to use normal prior distributions that favor positive values in most cases. As we will be modeling more than ten thousand of vocabulary items, computational speed will be important. These are the prior distributions that we will use:\n",
    "\n",
    "\\mu \\sim \\textrm{Normal}(\\mu_0, \\tau_0^2)\n",
    "\\delta \\sim \\textrm{Normal}(0, \\gamma_0^2)\n",
    "\\sigma^2 \\sim \\textrm{Inverse-Gamma}(\\nu_0/2, \\nu_0\\sigma_0^2/2)"
   ]
  },
  {
   "cell_type": "markdown",
   "metadata": {},
   "source": [
    "We need to determine suitable values for the priors' parameters (called hyperparameters): \\mu_0, \\tau_0^2, \\gamma_0^2, \\nu_0, and \\sigma_0^2. Let us consider \\mu_0 and \\sigma_0^2 first. While words like \"the\" and \"she\" occur quite frequently, almost all words (>99%) occur less than four times per 1,000 words:"
   ]
  },
  {
   "cell_type": "code",
   "execution_count": 39,
   "metadata": {},
   "outputs": [
    {
     "data": {
      "text/plain": [
       "array([ 0.        ,  0.01189641,  1.63135755])"
      ]
     },
     "execution_count": 39,
     "metadata": {},
     "output_type": "execute_result"
    }
   ],
   "source": [
    "np.mean(rates < 4)\n",
    "\n",
    "np.mean(rates > 1)\n",
    "\n",
    "from scipy.stats.mstats import mquantiles  # analgous to R's quantiles\n",
    "mquantiles(rates, prob=[0.01, 0.5, 0.99])\n"
   ]
  },
  {
   "cell_type": "markdown",
   "metadata": {},
   "source": [
    "In keeping with this observation we will set \\mu_0 to be 3 and \\tau^2 to be 1.5^2, with the reasoning that when drawing from a normal distribution, the great majority (.95) of observations will fall between two standard deviations of the mean. There isn't tremendous variability in rates across the works of a single author, so we will set \\sigma_0^2 to be 1 and \\nu_0 to be 1. (If we were to use non-conjugate priors we could model our prior beliefs about rates more realistically.) We know there is considerable variability in the rates between authors, so we will choose \\gamma_0^2 to be 1.5^2, as \\delta represents half the difference between the means and its value is unlikely to be greater than 3 in absolute value.\n",
    "\n",
    "With these conjugate priors it is possible to use a Gibbs sampler to sample efficiently from the posterior distribution, using the full conditional distributions for the parameters of interest :cite:`hoff_first_2009`:\n",
    "\n",
    "\\{\\mu|\\mathbf{y_1}, \\mathbf{y_2}, \\delta, \\sigma^2\\} &\\sim \\textrm{Normal}(\\mu_n, \\gamma_n^2)\\\\\n",
    "    \\mu_n &= \\gamma_n^2 \\times [\\mu_0/\\gamma_0^2 + \\sum_{i=1}^{n_1} (y_{i,1} - \\delta)/\\sigma^2 +\n",
    "        \\sum_{i=1}^{n_2} (y_{i,2} - \\delta)/\\sigma^2 ] \\\\\n",
    "    \\gamma_n^2 &= [1/\\gamma_0^2 + (n_1+n_2)/\\sigma^2]^{-1} \\\\\n",
    "\\{\\delta|\\mathbf{y_1}, \\mathbf{y_2}, \\mu, \\sigma^2\\} &\\sim \\textrm{Normal}(\\delta_n, \\tau_n^2)\\\\\n",
    "    \\delta_n &= \\tau_n^2 \\times [ \\delta_0/\\tau_0^2 +\n",
    "        \\sum_{i=1}^{n_1} (y_{i,1} - \\mu)/\\sigma^2 - \\sum_{i=1}^{n_2} (y_{i,2} - \\mu)/\\sigma^2 ]\\\\\n",
    "    \\tau_n^2 &= [1/\\tau_0^2 + (n_1+n_2)/\\sigma^2]^{-1} \\\\\n",
    "\\{\\sigma^2|\\mathbf{y_1}, \\mathbf{y_2}, \\delta, \\mu\\} &\\sim \\textrm{Inverse-Gamma}(\\nu_n/2, \\nu_n\\sigma_n^2/2)\\\\\n",
    "    \\nu_n &= \\nu_0 + n_1 + n_2 \\\\\n",
    "    \\nu_n\\sigma_n^2 &= \\nu_0\\sigma_0^2 +\n",
    "        \\sum_{i=1}^{n_1} (y_{i,1} - (\\mu+\\delta)) + \\sum_{i=1}^{n_2} (y_{i,2} - (\\mu - \\delta)) \\\\\n",
    "In Python, we can wrap the Gibbs sampler in single function and use it to get a distribution of posterior values for \\delta, which is the variable we care about in this context as it characterizes our belief about the difference in authors' word usage."
   ]
  },
  {
   "cell_type": "code",
   "execution_count": 40,
   "metadata": {
    "collapsed": true
   },
   "outputs": [],
   "source": [
    "def sample_posterior(y1, y2, mu0, sigma20, nu0, delta0, gamma20, tau20, S):\n",
    "    \"\"\"Draw samples from posterior distribution using Gibbs sampling\n",
    "    Parameters\n",
    "    ----------\n",
    "    `S` is the number of samples\n",
    "    Returns\n",
    "    -------\n",
    "    chains : dict of array\n",
    "        Dictionary has keys: 'mu', 'delta', and 'sigma2'.\n",
    "    \"\"\"\n",
    "    n1, n2 = len(y1), len(y2)\n",
    "    # initial values\n",
    "    mu = (np.mean(y1) + np.mean(y2))/2\n",
    "    delta = (np.mean(y1) - np.mean(y2))/2\n",
    "    vars = ['mu', 'delta', 'sigma2']\n",
    "    chains = {key: np.empty(S) for key in vars}\n",
    "    for s in range(S):\n",
    "        # update sigma2\n",
    "        a = (nu0+n1+n2)/2\n",
    "        b = (nu0*sigma20 + np.sum((y1-mu-delta)**2) + np.sum((y2-mu+delta)**2))/2\n",
    "        sigma2 = 1 / np.random.gamma(a, 1/b)\n",
    "        # update mu\n",
    "        mu_var = 1/(1/gamma20 + (n1+n2)/sigma2)\n",
    "        mu_mean = mu_var * (mu0/gamma20 + np.sum(y1-delta)/sigma2 +\n",
    "                            np.sum(y2+delta)/sigma2)\n",
    "        mu = np.random.normal(mu_mean, np.sqrt(mu_var))\n",
    "        # update delta\n",
    "        delta_var = 1/(1/tau20 + (n1+n2)/sigma2)\n",
    "        delta_mean = delta_var * (delta0/tau20 + np.sum(y1-mu)/sigma2 -\n",
    "                                np.sum(y2-mu)/sigma2)\n",
    "        delta = np.random.normal(delta_mean, np.sqrt(delta_var))\n",
    "        # save values\n",
    "        chains['mu'][s] = mu\n",
    "        chains['delta'][s] = delta\n",
    "        chains['sigma2'][s] = sigma2\n",
    "    return chains"
   ]
  },
  {
   "cell_type": "code",
   "execution_count": 41,
   "metadata": {
    "collapsed": true
   },
   "outputs": [],
   "source": [
    " # data\n",
    "word = \"green\"\n",
    "y1, y2 = austen_rates[:, vocab == word], cbronte_rates[:, vocab == word]\n",
    "\n",
    "# prior parameters\n",
    "mu0 = 3\n",
    "tau20 = 1.5**2\n",
    "\n",
    "nu0 = 1\n",
    "sigma20 = 1\n",
    "\n",
    "delta0 = 0\n",
    "gamma20 = 1.5**2\n",
    "\n",
    "# number of samples\n",
    "S = 2000\n",
    "\n",
    "chains = sample_posterior(y1, y2, mu0, sigma20, nu0, delta0, gamma20, tau20, S)\n",
    "\n",
    "delta = chains['delta']"
   ]
  },
  {
   "cell_type": "markdown",
   "metadata": {},
   "source": [
    "These samples reflect what our belief about \\delta ought to be given our prior specification. Our interest is in \\delta, which represents the half the difference between the population means for the distributions characterizing word rates in Austen and Brontë. We aren't concerned with whether or not it is negative or positive, but we do care whether or not it is likely to be zero. In fact, we need to have a measure of how confident we are that \\delta is something other than zero (implying no difference in means). If, for instance, the moment that samples of \\delta tend to be negative; we need to know the posterior probability of its being definitively less than zero, \\textrm{p}(\\delta < 0). This probability can be estimated from the output of the Gibbs sampler. The following demonstrates the calculation of this probability for two different words, 'green' and 'dark', both words more characteristic of the Brontë novels than the Austen novels."
   ]
  },
  {
   "cell_type": "code",
   "execution_count": 42,
   "metadata": {},
   "outputs": [
    {
     "data": {
      "text/plain": [
       "0.85299999999999998"
      ]
     },
     "execution_count": 42,
     "metadata": {},
     "output_type": "execute_result"
    }
   ],
   "source": [
    "y1 = austen_rates[:, vocab == 'green']\n",
    "y2 = cbronte_rates[:, vocab == 'green']\n",
    "chains = sample_posterior(y1, y2, mu0, sigma20, nu0, delta0, gamma20, tau20, S)\n",
    "delta_green = chains['delta']\n",
    "\n",
    "y1 = austen_rates[:, vocab == 'dark']\n",
    "y2 = cbronte_rates[:, vocab == 'dark']\n",
    "chains = sample_posterior(y1, y2, mu0, sigma20, nu0, delta0, gamma20, tau20, S)\n",
    "delta_dark = chains['delta']\n",
    "\n",
    "# estimate of p(delta < 0)\n",
    "np.mean(delta_dark < 0)"
   ]
  },
  {
   "cell_type": "code",
   "execution_count": 43,
   "metadata": {
    "collapsed": true
   },
   "outputs": [],
   "source": [
    "words = ['dark', 'green']\n",
    "ix = np.in1d(vocab, words)\n",
    "\n",
    "all(vocab[ix] == words)  # order matters for subsequent display\n",
    "\n",
    "keyness = np.asarray([np.mean(delta_dark < 0), np.mean(delta_green < 0)])\n"
   ]
  },
  {
   "cell_type": "code",
   "execution_count": 44,
   "metadata": {
    "collapsed": true
   },
   "outputs": [],
   "source": [
    "arr = [keyness, austen_rates_avg[ix], cbronte_rates_avg[ix]]\n",
    "colnames = vocab[ix]\n",
    "rownames = ['p(delta<0)', 'Austen average', 'Bronte average']\n",
    "html = pd.DataFrame(np.round(arr, 2), index=rownames, columns=colnames).to_html()\n",
    "with open(os.path.join(OUTPUT_HTML_PATH, 'feature_selection_bayesian_dark_green.txt'), 'w') as f:\n",
    "    f.write(html)"
   ]
  },
  {
   "cell_type": "code",
   "execution_count": 45,
   "metadata": {},
   "outputs": [
    {
     "data": {
      "text/html": [
       "<div>\n",
       "<style>\n",
       "    .dataframe thead tr:only-child th {\n",
       "        text-align: right;\n",
       "    }\n",
       "\n",
       "    .dataframe thead th {\n",
       "        text-align: left;\n",
       "    }\n",
       "\n",
       "    .dataframe tbody tr th {\n",
       "        vertical-align: top;\n",
       "    }\n",
       "</style>\n",
       "<table border=\"1\" class=\"dataframe\">\n",
       "  <thead>\n",
       "    <tr style=\"text-align: right;\">\n",
       "      <th></th>\n",
       "      <th>dark</th>\n",
       "      <th>green</th>\n",
       "    </tr>\n",
       "  </thead>\n",
       "  <tbody>\n",
       "    <tr>\n",
       "      <th>p(delta&lt;0)</th>\n",
       "      <td>0.85</td>\n",
       "      <td>0.69</td>\n",
       "    </tr>\n",
       "    <tr>\n",
       "      <th>Austen average</th>\n",
       "      <td>0.03</td>\n",
       "      <td>0.03</td>\n",
       "    </tr>\n",
       "    <tr>\n",
       "      <th>Bronte average</th>\n",
       "      <td>0.47</td>\n",
       "      <td>0.24</td>\n",
       "    </tr>\n",
       "  </tbody>\n",
       "</table>\n",
       "</div>"
      ],
      "text/plain": [
       "                dark  green\n",
       "p(delta<0)      0.85   0.69\n",
       "Austen average  0.03   0.03\n",
       "Bronte average  0.47   0.24"
      ]
     },
     "execution_count": 45,
     "metadata": {},
     "output_type": "execute_result"
    }
   ],
   "source": [
    "#display inline\n",
    "df = pd.DataFrame(np.round(arr, 2), index=rownames, columns=colnames)\n",
    "df"
   ]
  },
  {
   "cell_type": "markdown",
   "metadata": {},
   "source": [
    "As 'dark' is more distinctive of Brontë than 'green' is, the probabilities (our measure of distinctiveness or keyness) reflect this.\n",
    "\n",
    "If we want to apply this \"feature selection\" method en masse to every word occurring in the corpus, we need only write one short loop and make an adjustment for the fact that we don't care whether or not \\delta is positive or negative:"
   ]
  },
  {
   "cell_type": "code",
   "execution_count": 46,
   "metadata": {
    "collapsed": true
   },
   "outputs": [],
   "source": [
    "# fewer samples to speed things up, this may take several minutes to run\n",
    "S = 200\n",
    "\n",
    "def delta_confidence(rates_one_word):\n",
    "    austen_rates = rates_one_word[0:3]\n",
    "    bronte_rates = rates_one_word[3:6]\n",
    "    chains = sample_posterior(austen_rates, bronte_rates, mu0, sigma20, nu0,\n",
    "                              delta0, gamma20, tau20, S)\n",
    "    delta = chains['delta']\n",
    "    return np.max([np.mean(delta < 0), np.mean(delta > 0)])"
   ]
  },
  {
   "cell_type": "code",
   "execution_count": 47,
   "metadata": {},
   "outputs": [
    {
     "data": {
      "text/plain": [
       "True"
      ]
     },
     "execution_count": 47,
     "metadata": {},
     "output_type": "execute_result"
    }
   ],
   "source": [
    "# because this computation takes so long, we will try to cache it\n",
    "CACHE_PATH = os.path.join('source', 'cache')\n",
    "KEYNESS_FILENAME = os.path.join(CACHE_PATH, 'feature_selection_keyness.npy')\n",
    "os.path.exists(KEYNESS_FILENAME)\n",
    "keyness = np.load(KEYNESS_FILENAME) if os.path.exists(KEYNESS_FILENAME) else np.apply_along_axis(delta_confidence, axis=0, arr=rates)\n",
    "np.save(KEYNESS_FILENAME, keyness)\n",
    "os.path.exists(KEYNESS_FILENAME)\n"
   ]
  },
  {
   "cell_type": "code",
   "execution_count": 48,
   "metadata": {
    "collapsed": true
   },
   "outputs": [],
   "source": [
    "# apply the function over all columns\n",
    "keyness = np.apply_along_axis(delta_confidence, axis=0, arr=rates)"
   ]
  },
  {
   "cell_type": "code",
   "execution_count": 49,
   "metadata": {},
   "outputs": [
    {
     "data": {
      "text/plain": [
       "array(['herself', 'such', 'me', 'mrs', 'much', 'any', 'so', 'could', 'be',\n",
       "       'been'],\n",
       "      dtype='<U20')"
      ]
     },
     "execution_count": 49,
     "metadata": {},
     "output_type": "execute_result"
    }
   ],
   "source": [
    "ranking = np.argsort(keyness)[::-1]  # from highest to lowest; [::-1] reverses order.\n",
    "\n",
    "# print the top 10 words along with their rates and the difference\n",
    "vocab[ranking][0:10]"
   ]
  },
  {
   "cell_type": "code",
   "execution_count": 50,
   "metadata": {
    "collapsed": true
   },
   "outputs": [],
   "source": [
    "arr = np.vstack([keyness[ranking][0:N_WORDS_DISPLAY],\n",
    "                 austen_rates[:, ranking][:, 0:N_WORDS_DISPLAY],\n",
    "                 cbronte_rates[:, ranking][:, 0:N_WORDS_DISPLAY]])\n",
    "colnames = vocab[ranking][0:N_WORDS_DISPLAY]\n",
    "rownames = [\"--keyness--\"] + filenames_short\n",
    "html = pd.DataFrame(np.round(arr, 1), index=rownames, columns=colnames).to_html()\n",
    "with open(os.path.join(OUTPUT_HTML_PATH, 'feature_selection_bayesian.txt'), 'w') as f:\n",
    "    f.write(html)"
   ]
  },
  {
   "cell_type": "code",
   "execution_count": 51,
   "metadata": {},
   "outputs": [
    {
     "data": {
      "text/html": [
       "<div>\n",
       "<style>\n",
       "    .dataframe thead tr:only-child th {\n",
       "        text-align: right;\n",
       "    }\n",
       "\n",
       "    .dataframe thead th {\n",
       "        text-align: left;\n",
       "    }\n",
       "\n",
       "    .dataframe tbody tr th {\n",
       "        vertical-align: top;\n",
       "    }\n",
       "</style>\n",
       "<table border=\"1\" class=\"dataframe\">\n",
       "  <thead>\n",
       "    <tr style=\"text-align: right;\">\n",
       "      <th></th>\n",
       "      <th>herself</th>\n",
       "      <th>such</th>\n",
       "      <th>me</th>\n",
       "      <th>mrs</th>\n",
       "      <th>much</th>\n",
       "      <th>any</th>\n",
       "      <th>so</th>\n",
       "      <th>could</th>\n",
       "      <th>be</th>\n",
       "      <th>been</th>\n",
       "      <th>all</th>\n",
       "    </tr>\n",
       "  </thead>\n",
       "  <tbody>\n",
       "    <tr>\n",
       "      <th>--keyness--</th>\n",
       "      <td>1.0</td>\n",
       "      <td>1.0</td>\n",
       "      <td>1.0</td>\n",
       "      <td>1.0</td>\n",
       "      <td>1.0</td>\n",
       "      <td>1.0</td>\n",
       "      <td>1.0</td>\n",
       "      <td>1.0</td>\n",
       "      <td>1.0</td>\n",
       "      <td>1.0</td>\n",
       "      <td>1.0</td>\n",
       "    </tr>\n",
       "    <tr>\n",
       "      <th>Austen_Emma</th>\n",
       "      <td>1.8</td>\n",
       "      <td>3.2</td>\n",
       "      <td>3.8</td>\n",
       "      <td>4.5</td>\n",
       "      <td>3.1</td>\n",
       "      <td>4.2</td>\n",
       "      <td>6.3</td>\n",
       "      <td>5.4</td>\n",
       "      <td>12.8</td>\n",
       "      <td>4.9</td>\n",
       "      <td>5.5</td>\n",
       "    </tr>\n",
       "    <tr>\n",
       "      <th>Austen_Pride</th>\n",
       "      <td>1.9</td>\n",
       "      <td>3.3</td>\n",
       "      <td>3.8</td>\n",
       "      <td>2.9</td>\n",
       "      <td>2.8</td>\n",
       "      <td>2.3</td>\n",
       "      <td>5.0</td>\n",
       "      <td>4.5</td>\n",
       "      <td>10.5</td>\n",
       "      <td>4.4</td>\n",
       "      <td>5.3</td>\n",
       "    </tr>\n",
       "    <tr>\n",
       "      <th>Austen_Sense</th>\n",
       "      <td>2.2</td>\n",
       "      <td>3.1</td>\n",
       "      <td>3.8</td>\n",
       "      <td>4.6</td>\n",
       "      <td>2.5</td>\n",
       "      <td>3.4</td>\n",
       "      <td>5.6</td>\n",
       "      <td>5.0</td>\n",
       "      <td>11.2</td>\n",
       "      <td>3.8</td>\n",
       "      <td>5.7</td>\n",
       "    </tr>\n",
       "    <tr>\n",
       "      <th>CBronte_Jane</th>\n",
       "      <td>0.3</td>\n",
       "      <td>1.5</td>\n",
       "      <td>11.6</td>\n",
       "      <td>1.4</td>\n",
       "      <td>1.2</td>\n",
       "      <td>1.2</td>\n",
       "      <td>3.6</td>\n",
       "      <td>2.9</td>\n",
       "      <td>5.8</td>\n",
       "      <td>2.2</td>\n",
       "      <td>3.6</td>\n",
       "    </tr>\n",
       "    <tr>\n",
       "      <th>CBronte_Professor</th>\n",
       "      <td>0.5</td>\n",
       "      <td>1.4</td>\n",
       "      <td>9.1</td>\n",
       "      <td>0.3</td>\n",
       "      <td>1.3</td>\n",
       "      <td>1.2</td>\n",
       "      <td>3.9</td>\n",
       "      <td>2.3</td>\n",
       "      <td>5.2</td>\n",
       "      <td>2.2</td>\n",
       "      <td>3.0</td>\n",
       "    </tr>\n",
       "    <tr>\n",
       "      <th>CBronte_Villette</th>\n",
       "      <td>0.6</td>\n",
       "      <td>1.6</td>\n",
       "      <td>9.4</td>\n",
       "      <td>0.8</td>\n",
       "      <td>1.4</td>\n",
       "      <td>1.0</td>\n",
       "      <td>3.8</td>\n",
       "      <td>2.9</td>\n",
       "      <td>5.4</td>\n",
       "      <td>1.9</td>\n",
       "      <td>3.9</td>\n",
       "    </tr>\n",
       "  </tbody>\n",
       "</table>\n",
       "</div>"
      ],
      "text/plain": [
       "                   herself  such    me  mrs  much  any   so  could    be  \\\n",
       "--keyness--            1.0   1.0   1.0  1.0   1.0  1.0  1.0    1.0   1.0   \n",
       "Austen_Emma            1.8   3.2   3.8  4.5   3.1  4.2  6.3    5.4  12.8   \n",
       "Austen_Pride           1.9   3.3   3.8  2.9   2.8  2.3  5.0    4.5  10.5   \n",
       "Austen_Sense           2.2   3.1   3.8  4.6   2.5  3.4  5.6    5.0  11.2   \n",
       "CBronte_Jane           0.3   1.5  11.6  1.4   1.2  1.2  3.6    2.9   5.8   \n",
       "CBronte_Professor      0.5   1.4   9.1  0.3   1.3  1.2  3.9    2.3   5.2   \n",
       "CBronte_Villette       0.6   1.6   9.4  0.8   1.4  1.0  3.8    2.9   5.4   \n",
       "\n",
       "                   been  all  \n",
       "--keyness--         1.0  1.0  \n",
       "Austen_Emma         4.9  5.5  \n",
       "Austen_Pride        4.4  5.3  \n",
       "Austen_Sense        3.8  5.7  \n",
       "CBronte_Jane        2.2  3.6  \n",
       "CBronte_Professor   2.2  3.0  \n",
       "CBronte_Villette    1.9  3.9  "
      ]
     },
     "execution_count": 51,
     "metadata": {},
     "output_type": "execute_result"
    }
   ],
   "source": [
    "#display inline\n",
    "df = pd.DataFrame(np.round(arr, 1), index=rownames, columns=colnames)\n",
    "df"
   ]
  },
  {
   "cell_type": "markdown",
   "metadata": {},
   "source": [
    "This produces a useful ordering of characteristic words. Unlikely frequentist methods discussed below (chi-squared and log likelihood) this approach considers the variability of observations within groups. This method will also work for small corpora provided useful prior information is available. To the extent that we are interested in a close reading of differences of vocabulary use, the Bayesian method should be preferred. [2]"
   ]
  },
  {
   "cell_type": "markdown",
   "metadata": {},
   "source": [
    "### #c. Log likelihood ratio and :math:`\\chi^2` feature selection\n",
    "=========================================================\n",
    "\n",
    "We can recast our discussions about measuring distinctiveness in terms of hypothesis testing. This turns out to be a satisfying way of thinking about the problem and it also allows us to introduce a range of feature selection methods, including the log likelihood test and the χ 2  \n",
    "χ2\n",
    " test.\n",
    "\n",
    "One hypothesis that we might test comes as no surprise: rather than two groups of texts characterized by different word rates, this hypothesis claims that there is, in fact, a single group. Words are examined one at a time; those words for which this hypothesis seems most wrong will be counted as distinctive (classical statistics is always a workout in counterfactual language).\n",
    "\n",
    "Consider again the word “green”. Taking all the Austen texts together, the word “green” occurs 11 times out of ~370,000 words (0.03 per 1,000 words). In the novels by Brontë, “green” occurs 96 times out of ~400,000 (0.24 per 1,000 words). We do not really need statistics to tell us that this is a large difference: picking a word from each author-specific corpus at random, one is ten times more likely to find “green” in the Brontë corpus. To summarize the appearance of the word “green” we may assemble a table with the following code:\n"
   ]
  },
  {
   "cell_type": "code",
   "execution_count": 52,
   "metadata": {},
   "outputs": [
    {
     "data": {
      "text/plain": [
       "array([[    11, 374596],\n",
       "       [    96, 404720]], dtype=int64)"
      ]
     },
     "execution_count": 52,
     "metadata": {},
     "output_type": "execute_result"
    }
   ],
   "source": [
    "green_austen = np.sum(dtm[austen_indices, vocab == \"green\"])\n",
    "nongreen_austen = np.sum(dtm[austen_indices, :]) - green_austen\n",
    "green_cbronte = np.sum(dtm[cbronte_indices, vocab == \"green\"])\n",
    "nongreen_cbronte = np.sum(dtm[cbronte_indices, :]) - green_cbronte\n",
    "\n",
    "green_table = np.array([[green_austen, nongreen_austen],\n",
    "                        [green_cbronte, nongreen_cbronte]])\n",
    "green_table"
   ]
  },
  {
   "cell_type": "code",
   "execution_count": 60,
   "metadata": {
    "collapsed": true
   },
   "outputs": [],
   "source": [
    "arr = green_table\n",
    "colnames = ['\"green\"', 'not \"green\"']\n",
    "rownames = ['Austen', 'C. Bronte']\n",
    "html = pd.DataFrame(arr, index=rownames, columns=colnames).to_html()\n",
    "with open(os.path.join(OUTPUT_HTML_PATH, 'feature_selection_green_table.txt'), 'w') as f:\n",
    "    f.write(html)"
   ]
  },
  {
   "cell_type": "code",
   "execution_count": 61,
   "metadata": {},
   "outputs": [
    {
     "data": {
      "text/html": [
       "<div>\n",
       "<style>\n",
       "    .dataframe thead tr:only-child th {\n",
       "        text-align: right;\n",
       "    }\n",
       "\n",
       "    .dataframe thead th {\n",
       "        text-align: left;\n",
       "    }\n",
       "\n",
       "    .dataframe tbody tr th {\n",
       "        vertical-align: top;\n",
       "    }\n",
       "</style>\n",
       "<table border=\"1\" class=\"dataframe\">\n",
       "  <thead>\n",
       "    <tr style=\"text-align: right;\">\n",
       "      <th></th>\n",
       "      <th>\"green\"</th>\n",
       "      <th>not \"green\"</th>\n",
       "    </tr>\n",
       "  </thead>\n",
       "  <tbody>\n",
       "    <tr>\n",
       "      <th>Austen</th>\n",
       "      <td>11</td>\n",
       "      <td>374596</td>\n",
       "    </tr>\n",
       "    <tr>\n",
       "      <th>C. Bronte</th>\n",
       "      <td>96</td>\n",
       "      <td>404720</td>\n",
       "    </tr>\n",
       "  </tbody>\n",
       "</table>\n",
       "</div>"
      ],
      "text/plain": [
       "           \"green\"  not \"green\"\n",
       "Austen          11       374596\n",
       "C. Bronte       96       404720"
      ]
     },
     "execution_count": 61,
     "metadata": {},
     "output_type": "execute_result"
    }
   ],
   "source": [
    "#display inline\n",
    "df = pd.DataFrame(np.round(green_table, 1), index=rownames, columns=colnames)\n",
    "df"
   ]
  },
  {
   "cell_type": "markdown",
   "metadata": {},
   "source": [
    "The hypothesis being tested is that the grouping of the counts by author is unnecessary, that P(word=\"green\"|author=\"Austen\")=P(word=\"green\"|author!=\"Austen\") \n",
    "P(word=\"green\"|author=\"Austen\")=P(word=\"green\"|author!=\"Austen\")\n",
    ". If this were the case, then the rate of “green” in the corpus is the same, namely 0.14 per 1,000 words, and we would anticipate seeing the following frequencies given the total number of words for each group of texts:"
   ]
  },
  {
   "cell_type": "code",
   "execution_count": 64,
   "metadata": {},
   "outputs": [
    {
     "name": "stdout",
     "output_type": "stream",
     "text": [
      "[[  0.00000000e+00   0.00000000e+00]\n",
      " [  1.07000000e+02   4.04664440e+05]]\n"
     ]
    },
    {
     "data": {
      "text/plain": [
       "array([[  5.35000000e+01,   3.89658000e+05],\n",
       "       [  5.35000000e+01,   3.89658000e+05]])"
      ]
     },
     "execution_count": 64,
     "metadata": {},
     "output_type": "execute_result"
    }
   ],
   "source": [
    "prob_green = np.sum(dtm[:, vocab == \"green\"]) / np.sum(dtm)\n",
    "prob_notgreen = 1 - prob_green\n",
    "labels = []\n",
    "for fn in filenames:\n",
    "    label = \"Austen\" if \"Austen\" in fn else \"CBrontÃ«\"\n",
    "    labels.append(label)\n",
    "n_austen = np.sum(dtm[labels == \"Austen\", :])\n",
    "n_cbronte = np.sum(dtm[labels != \"Austen\", :])\n",
    "\n",
    "expected_table = np.array([[prob_green * n_austen, prob_notgreen * n_austen],\n",
    "                           [prob_green * n_cbronte, prob_notgreen * nongreen_cbronte]])\n",
    "expected_table\n",
    "print(expected_table)\n",
    "\n",
    "# same result, but more concise and more general\n",
    "from sklearn.preprocessing import LabelBinarizer\n",
    "X = dtm[:, vocab == \"green\"]\n",
    "X = np.append(X, np.sum(dtm[:, vocab != \"green\"], axis=1, keepdims=True), axis=1)\n",
    "y = LabelBinarizer().fit_transform(labels)\n",
    "y = np.append(1 - y, y, axis=1)\n",
    "green_table = np.dot(y.T, X)\n",
    "green_table\n",
    "\n",
    "feature_count = np.sum(X, axis=0, keepdims=True)\n",
    "class_prob = np.mean(y, axis=0, keepdims=True)\n",
    "expected_table = np.dot(class_prob.T, feature_count)\n",
    "expected_table"
   ]
  },
  {
   "cell_type": "markdown",
   "metadata": {},
   "source": [
    "In classical statistics, hypothesis tests typically have a quantity called\n",
    "a test statistic associated with them. If the test statistic is greater than\n",
    "a critical value the hypothesis is rejected. In this case, the test statistic is\n",
    "identical with our measure of distinctiveness. The test commonly used to analyze\n",
    "the present hypothesis (that two distinct groups are unnecessary) is the log\n",
    "likelihood ratio test, and its statistic is called the log likelihood ratio\n",
    "(alternatively a `G-test <http://en.wikipedia.org/wiki/G-test>`_ statistic or\n",
    "`Dunning log likelihood <http://acl.ldc.upenn.edu/J/J93/J93-1003.pdf>`_\n",
    ":cite:`dunning_accurate_1993`).  Various symbols are associated with this\n",
    "statistic, including :math:`G`, :math:`G^2`, :math:`l`,  and :math:`\\lambda`.\n",
    "(The theoretical underpinnings of the log likelihood ratio test and its\n",
    "application to corpus analysis are covered in chapter 8 of Casella and Berger\n",
    "(2001) and Dunning (1993) :cite:`casella_statistical_2001`\n",
    ":cite:`dunning_accurate_1993`.)\n",
    "\n",
    "The log likelihood ratio is calculated as follows:\n",
    "\n",
    ".. math::\n",
    "\n",
    "    \\sum_i O_i \\times \\ln \\frac{O_i}{E_i}\n",
    "\n",
    "where :math:`i` indexes the cells. (Note the similarity of this formula to the\n",
    "calculation of :ref:`mutual information <mutual_information>`.) In Python:"
   ]
  },
  {
   "cell_type": "code",
   "execution_count": 66,
   "metadata": {},
   "outputs": [
    {
     "data": {
      "text/plain": [
       "621.08613083179262"
      ]
     },
     "execution_count": 66,
     "metadata": {},
     "output_type": "execute_result"
    }
   ],
   "source": [
    "G = np.sum(green_table * np.log(green_table / expected_table))\n",
    "G"
   ]
  },
  {
   "cell_type": "markdown",
   "metadata": {},
   "source": [
    "The higher the value of the test statistic, the more pronounced the deviation is\n",
    "from the hypothesis---and, for our purposes, the more \"distinctive\" the word is.\n",
    "\n",
    "Pearson's :math:`\\chi^2` test statistic approximates the log likelihood ratio\n",
    "test (:math:`\\chi^2` is read chi-squared). It is computationally easier to\n",
    "calculate. The Python library ``scikit-learn`` provides a function\n",
    "``sklearn.feature_selection.chi2`` that allows us to use this test statistic as\n",
    "a feature selection method:"
   ]
  },
  {
   "cell_type": "code",
   "execution_count": 67,
   "metadata": {},
   "outputs": [
    {
     "data": {
      "text/plain": [
       "array(['me', 'my', 'the', 'mr', 'mrs', 'elizabeth', 'be', 'and', 'very',\n",
       "       'every'],\n",
       "      dtype='<U20')"
      ]
     },
     "execution_count": 67,
     "metadata": {},
     "output_type": "execute_result"
    }
   ],
   "source": [
    "from sklearn.feature_selection import chi2\n",
    "labels = []\n",
    "for fn in filenames:\n",
    "    label = \"Austen\" if \"Austen\" in fn else \"CBrontÃ«\"\n",
    "    labels.append(label)\n",
    "\n",
    "# chi2 returns two arrays, the chi2 test statistic and an\n",
    "# array of \"p-values\", which we'll ignore\n",
    "keyness, _ = chi2(dtm, labels)\n",
    "ranking = np.argsort(keyness)[::-1]\n",
    "vocab[ranking][0:10]"
   ]
  },
  {
   "cell_type": "code",
   "execution_count": 68,
   "metadata": {
    "collapsed": true
   },
   "outputs": [],
   "source": [
    "arr = np.vstack([keyness[ranking][0:N_WORDS_DISPLAY],\n",
    "                     austen_rates[:, ranking][:, 0:N_WORDS_DISPLAY],\n",
    "                     cbronte_rates[:, ranking][:, 0:N_WORDS_DISPLAY]])\n",
    "colnames = vocab[ranking][0:N_WORDS_DISPLAY]\n",
    "rownames = [\"--keyness--\"] + filenames_short\n",
    "html = pd.DataFrame(np.round(arr, 1), index=rownames, columns=colnames).to_html()\n",
    "with open(os.path.join(OUTPUT_HTML_PATH, 'feature_selection_distinctive_chi2.txt'), 'w') as f:\n",
    "    f.write(html)"
   ]
  },
  {
   "cell_type": "code",
   "execution_count": 69,
   "metadata": {},
   "outputs": [
    {
     "data": {
      "text/html": [
       "<div>\n",
       "<style>\n",
       "    .dataframe thead tr:only-child th {\n",
       "        text-align: right;\n",
       "    }\n",
       "\n",
       "    .dataframe thead th {\n",
       "        text-align: left;\n",
       "    }\n",
       "\n",
       "    .dataframe tbody tr th {\n",
       "        vertical-align: top;\n",
       "    }\n",
       "</style>\n",
       "<table border=\"1\" class=\"dataframe\">\n",
       "  <thead>\n",
       "    <tr style=\"text-align: right;\">\n",
       "      <th></th>\n",
       "      <th>me</th>\n",
       "      <th>my</th>\n",
       "      <th>the</th>\n",
       "      <th>mr</th>\n",
       "      <th>mrs</th>\n",
       "      <th>elizabeth</th>\n",
       "      <th>be</th>\n",
       "      <th>and</th>\n",
       "      <th>very</th>\n",
       "      <th>every</th>\n",
       "      <th>harriet</th>\n",
       "    </tr>\n",
       "  </thead>\n",
       "  <tbody>\n",
       "    <tr>\n",
       "      <th>--keyness--</th>\n",
       "      <td>1570.7</td>\n",
       "      <td>1379.0</td>\n",
       "      <td>1220.0</td>\n",
       "      <td>722.4</td>\n",
       "      <td>648.7</td>\n",
       "      <td>634.1</td>\n",
       "      <td>606.1</td>\n",
       "      <td>563.0</td>\n",
       "      <td>489.7</td>\n",
       "      <td>469.5</td>\n",
       "      <td>458.2</td>\n",
       "    </tr>\n",
       "    <tr>\n",
       "      <th>Austen_Emma</th>\n",
       "      <td>3.8</td>\n",
       "      <td>4.7</td>\n",
       "      <td>33.7</td>\n",
       "      <td>7.5</td>\n",
       "      <td>4.5</td>\n",
       "      <td>0.1</td>\n",
       "      <td>12.8</td>\n",
       "      <td>31.7</td>\n",
       "      <td>7.8</td>\n",
       "      <td>2.8</td>\n",
       "      <td>3.3</td>\n",
       "    </tr>\n",
       "    <tr>\n",
       "      <th>Austen_Pride</th>\n",
       "      <td>3.8</td>\n",
       "      <td>6.0</td>\n",
       "      <td>36.7</td>\n",
       "      <td>6.7</td>\n",
       "      <td>2.9</td>\n",
       "      <td>5.4</td>\n",
       "      <td>10.5</td>\n",
       "      <td>30.4</td>\n",
       "      <td>4.1</td>\n",
       "      <td>1.7</td>\n",
       "      <td>0.0</td>\n",
       "    </tr>\n",
       "    <tr>\n",
       "      <th>Austen_Sense</th>\n",
       "      <td>3.8</td>\n",
       "      <td>5.4</td>\n",
       "      <td>35.4</td>\n",
       "      <td>1.5</td>\n",
       "      <td>4.6</td>\n",
       "      <td>0.0</td>\n",
       "      <td>11.2</td>\n",
       "      <td>30.1</td>\n",
       "      <td>4.3</td>\n",
       "      <td>3.3</td>\n",
       "      <td>0.0</td>\n",
       "    </tr>\n",
       "    <tr>\n",
       "      <th>CBronte_Jane</th>\n",
       "      <td>11.6</td>\n",
       "      <td>12.7</td>\n",
       "      <td>44.4</td>\n",
       "      <td>3.1</td>\n",
       "      <td>1.4</td>\n",
       "      <td>0.0</td>\n",
       "      <td>5.8</td>\n",
       "      <td>37.5</td>\n",
       "      <td>2.1</td>\n",
       "      <td>0.6</td>\n",
       "      <td>0.0</td>\n",
       "    </tr>\n",
       "    <tr>\n",
       "      <th>CBronte_Professor</th>\n",
       "      <td>9.1</td>\n",
       "      <td>13.2</td>\n",
       "      <td>45.6</td>\n",
       "      <td>1.2</td>\n",
       "      <td>0.3</td>\n",
       "      <td>0.0</td>\n",
       "      <td>5.2</td>\n",
       "      <td>34.9</td>\n",
       "      <td>2.3</td>\n",
       "      <td>0.6</td>\n",
       "      <td>0.0</td>\n",
       "    </tr>\n",
       "    <tr>\n",
       "      <th>CBronte_Villette</th>\n",
       "      <td>9.4</td>\n",
       "      <td>10.3</td>\n",
       "      <td>45.3</td>\n",
       "      <td>0.2</td>\n",
       "      <td>0.8</td>\n",
       "      <td>0.0</td>\n",
       "      <td>5.4</td>\n",
       "      <td>34.5</td>\n",
       "      <td>2.1</td>\n",
       "      <td>0.5</td>\n",
       "      <td>0.1</td>\n",
       "    </tr>\n",
       "  </tbody>\n",
       "</table>\n",
       "</div>"
      ],
      "text/plain": [
       "                       me      my     the     mr    mrs  elizabeth     be  \\\n",
       "--keyness--        1570.7  1379.0  1220.0  722.4  648.7      634.1  606.1   \n",
       "Austen_Emma           3.8     4.7    33.7    7.5    4.5        0.1   12.8   \n",
       "Austen_Pride          3.8     6.0    36.7    6.7    2.9        5.4   10.5   \n",
       "Austen_Sense          3.8     5.4    35.4    1.5    4.6        0.0   11.2   \n",
       "CBronte_Jane         11.6    12.7    44.4    3.1    1.4        0.0    5.8   \n",
       "CBronte_Professor     9.1    13.2    45.6    1.2    0.3        0.0    5.2   \n",
       "CBronte_Villette      9.4    10.3    45.3    0.2    0.8        0.0    5.4   \n",
       "\n",
       "                     and   very  every  harriet  \n",
       "--keyness--        563.0  489.7  469.5    458.2  \n",
       "Austen_Emma         31.7    7.8    2.8      3.3  \n",
       "Austen_Pride        30.4    4.1    1.7      0.0  \n",
       "Austen_Sense        30.1    4.3    3.3      0.0  \n",
       "CBronte_Jane        37.5    2.1    0.6      0.0  \n",
       "CBronte_Professor   34.9    2.3    0.6      0.0  \n",
       "CBronte_Villette    34.5    2.1    0.5      0.1  "
      ]
     },
     "execution_count": 69,
     "metadata": {},
     "output_type": "execute_result"
    }
   ],
   "source": [
    "#display inline\n",
    "df = pd.DataFrame(np.round(arr, 1), index=rownames, columns=colnames)\n",
    "df"
   ]
  },
  {
   "cell_type": "markdown",
   "metadata": {},
   "source": [
    "#### Note\n",
    "Logarithms are expensive. Calculating the log likelihood ratio over\n",
    "    a vocabulary of 10,000 words will involve taking 40,000 logarithms. The\n",
    "    :math:`\\chi^2` test statistic, by contrast, involves taking the square of\n",
    "    a quantity the same number of times. On my computer, calculating the\n",
    "    logarithm takes about twenty times longer than taking the square (simple\n",
    "    multiplication):"
   ]
  },
  {
   "cell_type": "code",
   "execution_count": 76,
   "metadata": {},
   "outputs": [
    {
     "name": "stderr",
     "output_type": "stream",
     "text": [
      "C:\\Anaconda3\\lib\\timeit.py:6: RuntimeWarning: divide by zero encountered in log\n",
      "  times.  See also Tim Peters' introduction to the Algorithms chapter in\n"
     ]
    },
    {
     "data": {
      "text/plain": [
       "6.052555754051099"
      ]
     },
     "execution_count": 76,
     "metadata": {},
     "output_type": "execute_result"
    }
   ],
   "source": [
    "import timeit\n",
    "time_log = timeit.timeit(\"import numpy as np; np.log(np.arange(40000))\", number=100)\n",
    "time_square = timeit.timeit(\"import numpy as np; np.square(np.arange(40000))\", number=100)\n",
    "time_log / time_square"
   ]
  },
  {
   "cell_type": "markdown",
   "metadata": {},
   "source": [
    "### 3d. Mutual information feature selection\n",
    "====================================\n",
    "\n",
    "Feature selection based on mutual information also delivers good results.\n",
    "Good introductions to the method can be found in `Cosma Shalizi's Data Mining\n",
    "course <http://www.stat.cmu.edu/~cshalizi/350/>`_ (`Finding Informative Features\n",
    "<http://www.stat.cmu.edu/~cshalizi/350/lectures/05/lecture-05.pdf>`_) and in\n",
    "`section 13.5\n",
    "<http://www-nlp.stanford.edu/IR-book/html/htmledition/feature-selection-1.html>`_\n",
    "in :cite:`manning_introduction_2008`.\n",
    "\n",
    "### Feature selection as exploratory data analysis\n",
    "==============================================\n",
    "\n",
    "If nothing else, studying methods of feature selection forces us to think\n",
    "critically about what we mean when we say some characteristic is \"distinctive\".\n",
    "\n",
    "In practice, these methods let us quickly identify features (when they exist)\n",
    "that appear more or less often in one group of texts.  As such, these methods\n",
    "are useful for dimensionality reduction and exploratory data analysis.  For\n",
    "example, if we suspect that there is a meaningful partition of a collection of\n",
    "texts, we can use one of the methods described above to pull out features that\n",
    "characterize the proposed groups of texts and explore whether those features\n",
    "make sense given other information. Or we may be confronted with a massive\n",
    "dataset---perhaps all 1-, 2-, and 3-grams in the corpus---and need to reduce the\n",
    "space of features so that our analyses can run on a computer with limited\n",
    "memory.\n",
    "\n",
    "Feature selection needs to be used with care when working with a small number of\n",
    "observations and a relatively large number of features---e.g., a corpus with of\n",
    "a small number of documents and a very large vocabulary. Feature selection is\n",
    "perfectly capable of pulling out features that are characteristic of any\n",
    "division of texts.\n",
    "\n",
    "#### Note\n",
    "The shorthand :math:`n << p` is used to describe situations where\n",
    "    the number of variables greatly outnumbers the number observations.\n",
    "    :math:`n` is the customary label for the number of observations and\n",
    "    :math:`p` refers to the number of covariates.\n",
    "\n",
    "A brief demonstration that feature selection \"works\" as expected can be seen by\n",
    "plotting the cosine distance among texts in the corpus before and after feature\n",
    "selection is applied. ``chi2`` is the feature selection used in the bottom\n",
    "figure and the top 50 words are used."
   ]
  },
  {
   "cell_type": "code",
   "execution_count": 77,
   "metadata": {
    "collapsed": true
   },
   "outputs": [],
   "source": [
    "import matplotlib.pyplot as plt\n",
    "from sklearn.metrics.pairwise import cosine_similarity\n",
    "from sklearn.manifold import MDS\n",
    "dist = 1 - cosine_similarity(dtm)\n",
    "mds = MDS(n_components=2, dissimilarity=\"precomputed\")\n",
    "pos = mds.fit_transform(dist)  # shape (n_components, n_samples)"
   ]
  },
  {
   "cell_type": "code",
   "execution_count": 80,
   "metadata": {},
   "outputs": [
    {
     "data": {
      "image/png": "[encoded data removed]",
      "text/plain": [
       "<matplotlib.figure.Figure at 0x1e3d8576160>"
      ]
     },
     "metadata": {},
     "output_type": "display_data"
    }
   ],
   "source": [
    "xs, ys = pos[:, 0], pos[:, 1]\n",
    "names = [os.path.basename(fn).replace('.txt', '') for fn in filenames]\n",
    "for x, y, name in zip(xs, ys, names):\n",
    "    color = 'orange' if \"Austen\" in name else 'skyblue'\n",
    "    plt.scatter(x, y, c=color)\n",
    "    plt.text(x, y, name)\n",
    "\n",
    "plt.savefig('plots/lot_feature_selection_mds_before.png', bbox_inches='tight')\n",
    "plt.title(\"Before feature selection\")\n",
    "plt.show()"
   ]
  },
  {
   "cell_type": "code",
   "execution_count": 81,
   "metadata": {
    "collapsed": true
   },
   "outputs": [],
   "source": [
    "keyness, _ = chi2(dtm, names)\n",
    "selected = np.argsort(keyness)[::-1][0:50]\n",
    "dtm_chi2 = dtm[:, selected]\n",
    "dist = 1 - cosine_similarity(dtm_chi2)\n",
    "mds = MDS(n_components=2, dissimilarity=\"precomputed\")\n",
    "pos = mds.fit_transform(dist)  # shape (n_components, n_samples)"
   ]
  },
  {
   "cell_type": "code",
   "execution_count": 82,
   "metadata": {},
   "outputs": [
    {
     "data": {
      "image/png": "[encoded data removed]",
      "text/plain": [
       "<matplotlib.figure.Figure at 0x1e3d851dbe0>"
      ]
     },
     "metadata": {},
     "output_type": "display_data"
    }
   ],
   "source": [
    " xs, ys = pos[:, 0], pos[:, 1]\n",
    "for x, y, name in zip(xs, ys, names):\n",
    "    color = 'orange' if \"Austen\" in name else 'skyblue'\n",
    "    plt.scatter(x, y, c=color)\n",
    "    plt.text(x, y, name)\n",
    "\n",
    "plt.savefig('plots/lot_feature_selection_mds_after.png', bbox_inches='tight')\n",
    "plt.title(\"After feature selection\")\n",
    "plt.show()"
   ]
  },
  {
   "cell_type": "markdown",
   "metadata": {},
   "source": [
    "#### Exercises\n",
    "=========\n",
    "\n",
    "1. Using the two groups of texts (Austen and C. BrontÃ«), find the top 40\n",
    "   characteristic words by the :math:`\\chi^2` statistic. Feel free to use\n",
    "   scikit-learn's ``chi2``.\n",
    "\n",
    "2. The following is a random partition of the texts. Find the top 40\n",
    "   characteristic words by the :math:`\\chi^2` statistic. How do these\n",
    "   compare with those you found in exercise 1?"
   ]
  },
  {
   "cell_type": "code",
   "execution_count": 83,
   "metadata": {
    "collapsed": true
   },
   "outputs": [],
   "source": [
    "import random\n",
    "random.seed(1)\n",
    "shuffled = filenames.copy()\n",
    "random.shuffle(shuffled)\n",
    "group_a = shuffled[:len(filenames)//2]\n",
    "group_b = shuffled[len(filenames)//2:]"
   ]
  },
  {
   "cell_type": "code",
   "execution_count": 84,
   "metadata": {},
   "outputs": [
    {
     "data": {
      "text/plain": [
       "['Austen_Emma.txt', 'CBronte_Professor.txt', 'Austen_Pride.txt']"
      ]
     },
     "execution_count": 84,
     "metadata": {},
     "output_type": "execute_result"
    }
   ],
   "source": [
    "group_a\n",
    "group_b"
   ]
  },
  {
   "cell_type": "markdown",
   "metadata": {},
   "source": [
    "3. Reconstruct the corpus using only these 40 words. Find the cosine distances\n",
    "   between pairs of texts and visualize these using multi-dimensional scaling\n",
    "   (see :ref:`working-with-text` for a refresher). Compare this plot to the MDS\n",
    "   plot of the distances between texts using the full vocabulary."
   ]
  },
  {
   "cell_type": "markdown",
   "metadata": {},
   "source": [
    "============================\n",
    "## 4. Topic modeling with MALLET\n",
    "============================\n",
    "\n",
    "This section illustrates how to use `MALLET <http://mallet.cs.umass.edu/>`_ to\n",
    "model a corpus of texts using a topic model and how to analyze the results using\n",
    "Python.\n",
    "\n",
    "A topic model is a probabilistic model of the words appearing in a corpus of\n",
    "documents.  (There are a number of general introductions to topic models\n",
    "available, such as :cite:`blei_introduction_2012`.) The particular topic model\n",
    "used in this section is Latent Dirichlet Allocation (LDA), a model introduced in\n",
    "the context of text analysis in 2003 :cite:`blei_latent_2003`. LDA is an\n",
    "instance of a more general class of models called mixed-membership models. While\n",
    "LDA involves a greater number of distributions and parameters than the Bayesian\n",
    "model introduced in the section on :ref:`group comparison\n",
    "<bayesian-group-comparison>`, both are instances of a Bayesian probabilistic\n",
    "model. In fact, posterior inference for both models is typically performed in\n",
    "precisely the same manner, using Gibbs sampling with conjugate priors.\n",
    "\n",
    "This section assumes prior exposure to topic modeling and proceeds as follows:\n",
    "\n",
    "1. MALLET is downloaded and used to fit a topic model of six novels, three by\n",
    "   BrontÃ« and three by Austen. Because these are lengthy texts, the novels are split\n",
    "   up into smaller sections---a preprocessing step which improves results considerably.\n",
    "2. The output of MALLET is loaded into Python as a document-topic matrix (a\n",
    "   2-dimensional array) of topic shares.\n",
    "3. Topics, discrete distributions over the vocabulary, are analyzed.\n",
    "\n",
    "Note that :ref:`an entire section <topic-model-visualization>` is devoted to\n",
    "visualizing topic models. This section focuses on using MALLET and processing\n",
    "the results.\n",
    "\n",
    "This section uses six novels by BrontÃ« and Austen. These novels are divided into\n",
    "parts as follows:"
   ]
  },
  {
   "cell_type": "code",
   "execution_count": 86,
   "metadata": {},
   "outputs": [],
   "source": [
    "import numpy as np; np.set_printoptions(precision=2)\n",
    "\n",
    "import os\n",
    "CORPUS_PATH = os.path.join('data', 'austen-bronte-split')\n",
    "filenames = sorted([os.path.join(CORPUS_PATH, fn) for fn in os.listdir(CORPUS_PATH)])"
   ]
  },
  {
   "cell_type": "code",
   "execution_count": 87,
   "metadata": {},
   "outputs": [
    {
     "data": {
      "text/plain": [
       "['data\\\\austen-bronte-split\\\\Austen_Emma0000.txt',\n",
       " 'data\\\\austen-bronte-split\\\\Austen_Emma0001.txt',\n",
       " 'data\\\\austen-bronte-split\\\\Austen_Emma0002.txt',\n",
       " 'data\\\\austen-bronte-split\\\\Austen_Emma0003.txt',\n",
       " 'data\\\\austen-bronte-split\\\\Austen_Emma0004.txt']"
      ]
     },
     "execution_count": 87,
     "metadata": {},
     "output_type": "execute_result"
    }
   ],
   "source": [
    "# files are located in data/austen-brontÃ«-split\n",
    "len(filenames)\n",
    "filenames[:5]"
   ]
  },
  {
   "cell_type": "markdown",
   "metadata": {},
   "source": [
    "### 4a. Running Mallet\n",
    "=======================\n",
    "#### Note\n",
    "The ``nltk`` package provides a thin wrapper for MALLET which may be  worth investigating. See ``nltk.classify.mallet``.\n",
    "   \n",
    "Under Windows the commands are similar. For detailed instructions see the\n",
    "article [\"Getting Started with Topic Modeling and MALLET\"](http://programminghistorian.org/lessons/topic-modeling-and-mallet).  The MALLET homepage also has [instructions on how to install and run the software\n",
    "under Windows](http://mallet.cs.umass.edu/download.php).\n",
    "\n",
    "We will run MALLET using the default parameters. Using the option\n",
    "``--random-seed 1`` should guarantee that the results produced match those\n",
    "appearing below.\n",
    "\n",
    ".. code-block:: bash\n",
    "\n",
    "    mallet-2.0.7/bin/mallet import-dir --input data/austen-brontÃ«-split/ --output /tmp/topic-input-austen-brontÃ«.mallet --keep-sequence --remove-stopwords\n",
    "    mallet-2.0.7/bin/mallet train-topics --input /tmp/topic-input-austen-brontÃ«.mallet --num-topics 20 --output-doc-topics /tmp/doc-topics-austen-brontÃ«.txt --output-topic-keys /tmp/topic-keys-austen-brontÃ«.txt --random-seed 1\n"
   ]
  },
  {
   "cell_type": "markdown",
   "metadata": {},
   "source": [
    "myNotes: Getting Started link incudes instructions on how to install Mallet (and JDK) first, before can run Mallet.\n",
    "\n",
    "After successful install, my run from C:\\mallet directory:\n",
    "\n",
    "$dir_name bin\\mallet import-dir --input C:\\Users\\chq-anyac\\miniconda\\myTAToM\\data\\austen-bronte-split\\ --output C:\\Users\\chq-anyac\\miniconda\\myTAToM\\tmp\\topic-input-austen-bronte.mallet --keep-sequence --remove-stopwords\n",
    "\n",
    "$dir_name bin\\mallet train-topics --input C:\\Users\\chq-anyac\\miniconda\\myTAToM\\tmp\\topic-input-austen-bronte.mallet --num-topics 20 --output-doc-topics C:\\Users\\chq-anyac\\miniconda\\myTAToM\\tmp\\doc-topics-austen-bronte.txt --output-topic-keys C:\\Users\\chq-anyac\\miniconda\\myTAToM\\tmp\\topic-keys-austen-bronte.txt --random-seed 1"
   ]
  },
  {
   "cell_type": "markdown",
   "metadata": {},
   "source": [
    "### 4b. Processing MALLET output\n",
    "===================================\n",
    "\n",
    "We have already seen that :ref:`a document-term matrix is a convenient way to\n",
    "represent the word frequencies <working-with-text>` associated with each\n",
    "document. Similarly, as each document is associated with a set of topic shares,\n",
    "it will be useful to gather these features into a document-topic\n",
    "matrix.\n",
    "\n",
    "#### Note\n",
    "Topic shares are also referred to as topic *weights*,\n",
    "   *mixture weights*, or *component weights*. Different communities favor\n",
    "   different terms.\n",
    "\n",
    "Manipulating the output of MALLET into a document-topic matrix is not\n",
    "entirely intuitive. Fortunately the tools required for the job are available in\n",
    "Python and the procedure is similar to that reviewed in the previous section on\n",
    ":ref:`grouping texts <grouping-texts>`.\n",
    "\n",
    "MALLET delivers the topic shares for each document into a file specified by the\n",
    "``--output-doc-topics`` option. In this case we have provided the output\n",
    "filename ``/tmp/doc-topics-austen-brontÃ«.txt``. The first lines of this file\n",
    "should look something like this:\n",
    "\n",
    "#doc name topic proportion ...\n",
    "\n",
    "   0\tfile:/.../austen-brontÃ«-split/Austen_Pride0103.txt\t3\t0.2110215053763441\t14\t0.13306451612903225\n",
    "   \n",
    "   1\tfile:/.../austen-brontÃ«-split/Austen_Pride0068.txt\t17\t0.19915254237288135\t3\t0.14548022598870056\n",
    "     ...\n"
   ]
  },
  {
   "cell_type": "markdown",
   "metadata": {},
   "source": [
    "The first two columns of ``doc-topics.txt`` record the document number\n",
    "(0-based indexing) and the full path to the filename. The rest of the columns are best\n",
    "considered as (topic-number, topic-share) pairs. There are as many of these\n",
    "pairs as there are topics. All columns are separated by tabs (there's even\n",
    "a trailing tab at the end of the line). With the exception of the header (the\n",
    "first line), this file records data using `tab-separated values\n",
    "<https://en.wikipedia.org/wiki/Tab-separated_values>`_. There are two challenges\n",
    "in parsing this file into a document-topic matrix. The first is sorting.\n",
    "The texts do not appear in a consistent order in ``doc-topics.txt`` and the\n",
    "topic number and share pairs appear in different columns depending on the\n",
    "document. We will need to reorder these pairs before assembling them into\n",
    "a matrix.[#fnmapreduce]_ The second challenge is that the number of columns will\n",
    "vary with the number of topics specified (``--num-topics``). Fortunately, the\n",
    "documentation in the Python library `itertools\n",
    "<http://docs.python.org/dev/library/itertools.html>`_ describes a function\n",
    "called ``grouper`` using ``itertools.izip_longest`` that solves our problem."
   ]
  },
  {
   "cell_type": "code",
   "execution_count": null,
   "metadata": {},
   "outputs": [],
   "source": [
    "'''$ac didnt' run this part\n",
    "import os\n",
    "import shutil\n",
    "import subprocess\n",
    "\n",
    "N_TOPICS = 20\n",
    "MALLET_INPUT = 'source/cache/topic-input-austen-bronte-split.mallet'\n",
    "MALLET_TOPICS = 'source/cache/doc-topic-austen-bronte-{}topics.txt'.format(N_TOPICS)\n",
    "MALLET_KEYS = 'source/cache/doc-topic-austen-bronte-{}topics-keys.txt'.format(N_TOPICS)\n",
    "if not os.path.exists(MALLET_INPUT):\n",
    "    subprocess.check_call('mallet/bin/mallet import-dir --input data/austen-bronte-split/ --output {} --keep-sequence  remove-stopwords'.format(MALLET_INPUT), shell=True)\n",
    "    \n",
    " # again, splitting up to help IPython parse\n",
    "\n",
    "    shutil.copy(MALLET_INPUT,'/tmp/topic-input-austen-brontÃ«.mallet')\n",
    "\n",
    "    if not os.path.exists(MALLET_TOPICS):\n",
    "        subprocess.check_call('mallet-2.0.7/bin/mallet train-topics --input /tmp/topic-input-austen-brontÃ«.mallet --num-topics {} --output-doc-topics {} --output-topic-keys {} --random-seed 1'.format(N_TOPICS, MALLET_TOPICS, MALLET_KEYS), shell=True)\n",
    "    shutil.copy(MALLET_TOPICS,'/tmp/doc-topics-austen-brontÃ«.txt')\n",
    "    shutil.copy(MALLET_KEYS,'/tmp/topic-keys-austen-brontÃ«.txt')\n",
    "'''"
   ]
  },
  {
   "cell_type": "code",
   "execution_count": 106,
   "metadata": {},
   "outputs": [],
   "source": [
    "'''$ac didnt' work with my_ generated files\n",
    "   substituded with tatom files from directory cache\n",
    "   specifically replaced myTAToM\\tmp\\doc-topics-austen-bronte\n",
    "   with tatom\\tatom-develop\\source\\cache\\doc-topic-austen-brontë-20topics.txt\n",
    "   saved mine just in case, starting with my_\n",
    "'''\n",
    "\n",
    "import numpy as np\n",
    "import itertools\n",
    "import operator\n",
    "import os\n",
    "\n",
    "def grouper(n, iterable, fillvalue=None):\n",
    "    \"Collect data into fixed-length chunks or blocks\"\n",
    "    # grouper(3, 'ABCDEFG', 'x') --> ABC DEF Gxx\"\n",
    "    args = [iter(iterable)] * n\n",
    "    return itertools.zip_longest(*args, fillvalue=fillvalue)\n",
    "\n",
    "doctopic_triples = []\n",
    "mallet_docnames = []\n",
    "\n",
    "with open(\"tmp/doc-topics-austen-bronte.txt\") as f:\n",
    "    f.readline()  # read one line in order to skip the header\n",
    "    for line in f:\n",
    "        # ``docnum, docname, *values`` performs \"tuple unpacking\", useful Python feature\n",
    "        # ``.rstrip()`` removes the superfluous trailing tab\n",
    "        docnum, docname, *values = line.rstrip().split('\\t')\n",
    "        mallet_docnames.append(docname)\n",
    "        for topic, share in grouper(2, values):\n",
    "            triple = (docname, int(topic), float(share))\n",
    "            doctopic_triples.append(triple)\n",
    "\n",
    "# sort the triples\n",
    "# triple is (docname, topicnum, share) so sort(key=operator.itemgetter(0,1))\n",
    "# sorts on (docname, topicnum) which is what we want\n",
    "doctopic_triples = sorted(doctopic_triples, key=operator.itemgetter(0,1))\n",
    "\n",
    "# sort the document names rather than relying on MALLET's ordering\n",
    "mallet_docnames = sorted(mallet_docnames)\n",
    "\n",
    "# collect into a document-term matrix\n",
    "num_docs = len(mallet_docnames)\n",
    "num_topics = len(doctopic_triples) // len(mallet_docnames)\n",
    "\n",
    "# the following works because we know that the triples are in sequential order\n",
    "doctopic = np.zeros((num_docs, num_topics))\n",
    "for triple in doctopic_triples:\n",
    "    docname, topic, share = triple\n",
    "    row_num = mallet_docnames.index(docname)\n",
    "    doctopic[row_num, topic] = share\n"
   ]
  },
  {
   "cell_type": "code",
   "execution_count": 107,
   "metadata": {},
   "outputs": [
    {
     "name": "stdout",
     "output_type": "stream",
     "text": [
      "True\n",
      "True\n",
      "True\n",
      "True\n"
     ]
    }
   ],
   "source": [
    "doctopic_orig = doctopic.copy()\n",
    "\n",
    "print( len(doctopic_triples) % num_docs == 0)\n",
    "print( np.all(doctopic > 0))\n",
    "print( len(doctopic) == len(filenames))\n",
    "print (np.allclose(np.sum(doctopic, axis=1), 1))"
   ]
  },
  {
   "cell_type": "code",
   "execution_count": 108,
   "metadata": {},
   "outputs": [
    {
     "name": "stdout",
     "output_type": "stream",
     "text": [
      "True\n",
      "True\n",
      "True\n",
      "True\n"
     ]
    }
   ],
   "source": [
    "# The following method is considerably faster. It uses the itertools library which is part of the Python standard library.\n",
    "import itertools\n",
    "import operator\n",
    "doctopic = np.zeros((num_docs, num_topics))\n",
    "for i, (doc_name, triples) in enumerate(itertools.groupby(doctopic_triples, key=operator.itemgetter(0))):\n",
    "    doctopic[i, :] = np.array([share for _, _, share in triples])\n",
    "    \n",
    "print(np.all(doctopic > 0))\n",
    "print(np.allclose(np.sum(doctopic, axis=1), 1))\n",
    "print( len(doctopic) == len(filenames))\n",
    "print( np.all(doctopic_orig == doctopic))"
   ]
  },
  {
   "cell_type": "markdown",
   "metadata": {},
   "source": [
    "Now we will calculate the average of the topic shares associated with each\n",
    "novel. Recall that we have been working with small sections of novels. The\n",
    "following step combines the topic shares for sections associated with the same\n",
    "novel."
   ]
  },
  {
   "cell_type": "code",
   "execution_count": 109,
   "metadata": {},
   "outputs": [
    {
     "name": "stdout",
     "output_type": "stream",
     "text": [
      "True\n"
     ]
    }
   ],
   "source": [
    " novel_names = []\n",
    "for fn in filenames:\n",
    "    basename = os.path.basename(fn)\n",
    "    # splitext splits the extension off, 'novel.txt' -> ('novel', '.txt')\n",
    "    name, ext = os.path.splitext(basename)\n",
    "    # remove trailing numbers identifying chunk\n",
    "    name = name.rstrip('0123456789')\n",
    "    novel_names.append(name)\n",
    "# turn this into an array so we can use NumPy functions\n",
    "novel_names = np.asarray(novel_names)\n",
    "\n",
    "print(len(set(novel_names)) == 6)\n",
    "\n",
    "doctopic_orig = doctopic.copy()\n",
    "\n",
    "# use method described in preprocessing section\n",
    "num_groups = len(set(novel_names))\n",
    "doctopic_grouped = np.zeros((num_groups, num_topics))\n",
    "for i, name in enumerate(sorted(set(novel_names))):\n",
    "    doctopic_grouped[i, :] = np.mean(doctopic[novel_names == name, :], axis=0)\n",
    "\n",
    "doctopic = doctopic_grouped\n",
    "\n",
    "#docnames = sorted(set(novel_names))"
   ]
  },
  {
   "cell_type": "code",
   "execution_count": 110,
   "metadata": {
    "collapsed": true
   },
   "outputs": [],
   "source": [
    "import pandas as pd\n",
    "OUTPUT_HTML_PATH = os.path.join('source', 'generated')\n",
    "rownames = sorted(set(novel_names))\n",
    "colnames = [\"Topic \" + str(i) for i in range(doctopic.shape[1])][0:15]\n",
    "html = pd.DataFrame(np.round(doctopic[:,0:15], 2), index=rownames, columns=colnames).to_html()\n",
    "with open(os.path.join(OUTPUT_HTML_PATH, 'topic_model_doctopic.txt'), 'w') as f:\n",
    "    f.write(html)"
   ]
  },
  {
   "cell_type": "code",
   "execution_count": 111,
   "metadata": {},
   "outputs": [
    {
     "data": {
      "text/html": [
       "<div>\n",
       "<style>\n",
       "    .dataframe thead tr:only-child th {\n",
       "        text-align: right;\n",
       "    }\n",
       "\n",
       "    .dataframe thead th {\n",
       "        text-align: left;\n",
       "    }\n",
       "\n",
       "    .dataframe tbody tr th {\n",
       "        vertical-align: top;\n",
       "    }\n",
       "</style>\n",
       "<table border=\"1\" class=\"dataframe\">\n",
       "  <thead>\n",
       "    <tr style=\"text-align: right;\">\n",
       "      <th></th>\n",
       "      <th>Topic 0</th>\n",
       "      <th>Topic 1</th>\n",
       "      <th>Topic 2</th>\n",
       "      <th>Topic 3</th>\n",
       "      <th>Topic 4</th>\n",
       "      <th>Topic 5</th>\n",
       "      <th>Topic 6</th>\n",
       "      <th>Topic 7</th>\n",
       "      <th>Topic 8</th>\n",
       "      <th>Topic 9</th>\n",
       "      <th>Topic 10</th>\n",
       "      <th>Topic 11</th>\n",
       "      <th>Topic 12</th>\n",
       "      <th>Topic 13</th>\n",
       "      <th>Topic 14</th>\n",
       "    </tr>\n",
       "  </thead>\n",
       "  <tbody>\n",
       "    <tr>\n",
       "      <th>Austen_Emma</th>\n",
       "      <td>0.02</td>\n",
       "      <td>0.01</td>\n",
       "      <td>0.06</td>\n",
       "      <td>0.02</td>\n",
       "      <td>0.07</td>\n",
       "      <td>0.05</td>\n",
       "      <td>0.04</td>\n",
       "      <td>0.01</td>\n",
       "      <td>0.02</td>\n",
       "      <td>0.02</td>\n",
       "      <td>0.02</td>\n",
       "      <td>0.26</td>\n",
       "      <td>0.08</td>\n",
       "      <td>0.10</td>\n",
       "      <td>0.02</td>\n",
       "    </tr>\n",
       "    <tr>\n",
       "      <th>Austen_Pride</th>\n",
       "      <td>0.03</td>\n",
       "      <td>0.01</td>\n",
       "      <td>0.06</td>\n",
       "      <td>0.02</td>\n",
       "      <td>0.07</td>\n",
       "      <td>0.05</td>\n",
       "      <td>0.04</td>\n",
       "      <td>0.01</td>\n",
       "      <td>0.02</td>\n",
       "      <td>0.02</td>\n",
       "      <td>0.02</td>\n",
       "      <td>0.02</td>\n",
       "      <td>0.09</td>\n",
       "      <td>0.11</td>\n",
       "      <td>0.24</td>\n",
       "    </tr>\n",
       "    <tr>\n",
       "      <th>Austen_Sense</th>\n",
       "      <td>0.23</td>\n",
       "      <td>0.01</td>\n",
       "      <td>0.07</td>\n",
       "      <td>0.02</td>\n",
       "      <td>0.08</td>\n",
       "      <td>0.05</td>\n",
       "      <td>0.04</td>\n",
       "      <td>0.01</td>\n",
       "      <td>0.02</td>\n",
       "      <td>0.02</td>\n",
       "      <td>0.02</td>\n",
       "      <td>0.02</td>\n",
       "      <td>0.07</td>\n",
       "      <td>0.11</td>\n",
       "      <td>0.02</td>\n",
       "    </tr>\n",
       "    <tr>\n",
       "      <th>CBronte_Jane</th>\n",
       "      <td>0.02</td>\n",
       "      <td>0.02</td>\n",
       "      <td>0.05</td>\n",
       "      <td>0.09</td>\n",
       "      <td>0.05</td>\n",
       "      <td>0.05</td>\n",
       "      <td>0.05</td>\n",
       "      <td>0.05</td>\n",
       "      <td>0.11</td>\n",
       "      <td>0.08</td>\n",
       "      <td>0.09</td>\n",
       "      <td>0.02</td>\n",
       "      <td>0.03</td>\n",
       "      <td>0.03</td>\n",
       "      <td>0.02</td>\n",
       "    </tr>\n",
       "    <tr>\n",
       "      <th>CBronte_Professor</th>\n",
       "      <td>0.01</td>\n",
       "      <td>0.06</td>\n",
       "      <td>0.05</td>\n",
       "      <td>0.06</td>\n",
       "      <td>0.05</td>\n",
       "      <td>0.06</td>\n",
       "      <td>0.06</td>\n",
       "      <td>0.06</td>\n",
       "      <td>0.04</td>\n",
       "      <td>0.07</td>\n",
       "      <td>0.04</td>\n",
       "      <td>0.01</td>\n",
       "      <td>0.04</td>\n",
       "      <td>0.03</td>\n",
       "      <td>0.01</td>\n",
       "    </tr>\n",
       "    <tr>\n",
       "      <th>CBronte_Villette</th>\n",
       "      <td>0.01</td>\n",
       "      <td>0.09</td>\n",
       "      <td>0.04</td>\n",
       "      <td>0.06</td>\n",
       "      <td>0.04</td>\n",
       "      <td>0.06</td>\n",
       "      <td>0.05</td>\n",
       "      <td>0.10</td>\n",
       "      <td>0.03</td>\n",
       "      <td>0.07</td>\n",
       "      <td>0.04</td>\n",
       "      <td>0.01</td>\n",
       "      <td>0.04</td>\n",
       "      <td>0.03</td>\n",
       "      <td>0.01</td>\n",
       "    </tr>\n",
       "  </tbody>\n",
       "</table>\n",
       "</div>"
      ],
      "text/plain": [
       "                   Topic 0  Topic 1  Topic 2  Topic 3  Topic 4  Topic 5  \\\n",
       "Austen_Emma           0.02     0.01     0.06     0.02     0.07     0.05   \n",
       "Austen_Pride          0.03     0.01     0.06     0.02     0.07     0.05   \n",
       "Austen_Sense          0.23     0.01     0.07     0.02     0.08     0.05   \n",
       "CBronte_Jane          0.02     0.02     0.05     0.09     0.05     0.05   \n",
       "CBronte_Professor     0.01     0.06     0.05     0.06     0.05     0.06   \n",
       "CBronte_Villette      0.01     0.09     0.04     0.06     0.04     0.06   \n",
       "\n",
       "                   Topic 6  Topic 7  Topic 8  Topic 9  Topic 10  Topic 11  \\\n",
       "Austen_Emma           0.04     0.01     0.02     0.02      0.02      0.26   \n",
       "Austen_Pride          0.04     0.01     0.02     0.02      0.02      0.02   \n",
       "Austen_Sense          0.04     0.01     0.02     0.02      0.02      0.02   \n",
       "CBronte_Jane          0.05     0.05     0.11     0.08      0.09      0.02   \n",
       "CBronte_Professor     0.06     0.06     0.04     0.07      0.04      0.01   \n",
       "CBronte_Villette      0.05     0.10     0.03     0.07      0.04      0.01   \n",
       "\n",
       "                   Topic 12  Topic 13  Topic 14  \n",
       "Austen_Emma            0.08      0.10      0.02  \n",
       "Austen_Pride           0.09      0.11      0.24  \n",
       "Austen_Sense           0.07      0.11      0.02  \n",
       "CBronte_Jane           0.03      0.03      0.02  \n",
       "CBronte_Professor      0.04      0.03      0.01  \n",
       "CBronte_Villette       0.04      0.03      0.01  "
      ]
     },
     "execution_count": 111,
     "metadata": {},
     "output_type": "execute_result"
    }
   ],
   "source": [
    "#display inline\n",
    "df= pd.DataFrame(np.round(doctopic[:,0:15], 2), index=rownames, columns=colnames)\n",
    "df"
   ]
  },
  {
   "cell_type": "markdown",
   "metadata": {},
   "source": [
    "In order to fit into the space available, the table above displays the first 15\n",
    "of 20 topics.\n",
    "\n",
    "### 4c. Inspecting the topic model\n",
    "==========================\n",
    "\n",
    "The first thing we should appreciate about our topic model is that the twenty\n",
    "shares do a remarkably good job of summarizing our corpus. For example, they\n",
    "preserve the distances between novels (see figures below). By this measure, LDA\n",
    "is good at dimensionality reduction: we have taken a matrix of dimensions 813 by\n",
    "14862 (occupying almost three megabytes of memory if stored in a spare matrix)\n",
    "and fashioned a representation that preserves important features in a matrix\n",
    "that is 813 by 20 (5% the size of the original)."
   ]
  },
  {
   "cell_type": "code",
   "execution_count": 113,
   "metadata": {},
   "outputs": [
    {
     "data": {
      "text/plain": [
       "130080"
      ]
     },
     "execution_count": 113,
     "metadata": {},
     "output_type": "execute_result"
    }
   ],
   "source": [
    "from sklearn.feature_extraction.text import CountVectorizer\n",
    "\n",
    "CORPUS_PATH_UNSPLIT = os.path.join('data', 'austen-bronte-split')\n",
    "filenames = [os.path.join(CORPUS_PATH_UNSPLIT, fn) for fn in sorted(os.listdir(CORPUS_PATH_UNSPLIT))]\n",
    "vectorizer = CountVectorizer(input='filename')\n",
    "dtm = vectorizer.fit_transform(filenames)  # a sparse matrix\n",
    "dtm.shape\n",
    "dtm.data.nbytes  # number of bytes dtm takes up\n",
    "dtm.toarray().data.nbytes  # number of bytes dtm as array takes up\n",
    "\n",
    "doctopic_orig.shape\n",
    "doctopic_orig.data.nbytes  # number of bytes document-topic shares take up"
   ]
  },
  {
   "cell_type": "code",
   "execution_count": 114,
   "metadata": {
    "collapsed": true
   },
   "outputs": [],
   "source": [
    "# COSINE SIMILARITY\n",
    "import os  # for os.path.basename\n",
    "import matplotlib.pyplot as plt\n",
    "from sklearn.manifold import MDS\n",
    "from sklearn.metrics.pairwise import cosine_similarity\n",
    "\n",
    "dist = 1 - cosine_similarity(dtm)\n",
    "mds = MDS(n_components=2, dissimilarity=\"precomputed\", random_state=1)\n",
    "pos = mds.fit_transform(dist)  # shape (n_components, n_samples)"
   ]
  },
  {
   "cell_type": "code",
   "execution_count": 116,
   "metadata": {},
   "outputs": [
    {
     "name": "stdout",
     "output_type": "stream",
     "text": [
      "True\n"
     ]
    },
    {
     "data": {
      "image/png": "[encoded data removed]",
      "text/plain": [
       "<matplotlib.figure.Figure at 0x1e3d87d0080>"
      ]
     },
     "metadata": {},
     "output_type": "display_data"
    }
   ],
   "source": [
    "print(dtm.shape[0] == doctopic_orig.shape[0])\n",
    "\n",
    "# NOTE: the IPython directive seems less prone to errors when these blocks\n",
    "# are split up.\n",
    "xs, ys = pos[:, 0], pos[:, 1]\n",
    "names = sorted(set(novel_names))\n",
    "for x, y, name in zip(xs, ys, names):\n",
    "    color = 'orange' if \"Austen\" in name else 'skyblue'\n",
    "    plt.scatter(x, y, c=color)\n",
    "    plt.text(x, y, name)\n",
    "\n",
    "plt.title(\"Distances calculated using word frequencies\")\n",
    "plt.savefig('plots/plot_topic_model_cosine_mds.png', bbox_inches='tight')\n",
    "plt.show()\n"
   ]
  },
  {
   "cell_type": "code",
   "execution_count": 117,
   "metadata": {
    "collapsed": true
   },
   "outputs": [],
   "source": [
    " # TOPIC-MODEL\n",
    "import os  # for os.path.basename\n",
    "import matplotlib.pyplot as plt\n",
    "from sklearn.manifold import MDS\n",
    "from sklearn.metrics.pairwise import euclidean_distances\n",
    "\n",
    "dist = euclidean_distances(doctopic)\n",
    "mds = MDS(n_components=2, dissimilarity=\"precomputed\", random_state=1)\n",
    "pos = mds.fit_transform(dist)  # shape (n_components, n_samples)\n"
   ]
  },
  {
   "cell_type": "code",
   "execution_count": 118,
   "metadata": {},
   "outputs": [
    {
     "data": {
      "image/png": "[encoded data removed]",
      "text/plain": [
       "<matplotlib.figure.Figure at 0x1e3d8afe978>"
      ]
     },
     "metadata": {},
     "output_type": "display_data"
    }
   ],
   "source": [
    "# NOTE: the IPython directive seems less prone to errors when these blocks are split up.\n",
    "xs, ys = pos[:, 0], pos[:, 1]\n",
    "names = sorted(set(novel_names))\n",
    "for x, y, name in zip(xs, ys, names):\n",
    "    color = 'orange' if \"Austen\" in name else 'skyblue'\n",
    "    plt.scatter(x, y, c=color)\n",
    "    plt.text(x, y, name)\n",
    "\n",
    "plt.title(\"Distances calculated using topic shares\")\n",
    "plt.savefig('plots/plot_topic_model_doctopic_euclidean_mds.png', bbox_inches='tight')\n",
    "plt.show()\n"
   ]
  },
  {
   "cell_type": "markdown",
   "metadata": {},
   "source": [
    "Even though a topic model \"discards\" the \"fine-grained\" information recorded in\n",
    "the matrix of word frequencies, it preserves salient details of the underlying\n",
    "matrix. That is, the topic shares associated with a document have an\n",
    "interpretation in terms of word frequencies. This is best illustrated by\n",
    "examining the present topic model.\n",
    "\n",
    "First let us identify the most significant topics for each text in the corpus.\n",
    "This procedure does not differ in essence from the procedure for identifying the\n",
    "most frequent words in each text."
   ]
  },
  {
   "cell_type": "code",
   "execution_count": 119,
   "metadata": {},
   "outputs": [
    {
     "name": "stdout",
     "output_type": "stream",
     "text": [
      "Top topics in...\n",
      "Austen_Emma: 11 13 12\n",
      "Austen_Pride: 14 13 12\n",
      "Austen_Sense: 0 13 4\n",
      "CBronte_Jane: 8 3 10\n",
      "CBronte_Professor: 17 9 5\n",
      "CBronte_Villette: 7 19 1\n"
     ]
    }
   ],
   "source": [
    "novels = sorted(set(novel_names))\n",
    "print(\"Top topics in...\")\n",
    "for i in range(len(doctopic)):\n",
    "    top_topics = np.argsort(doctopic[i,:])[::-1][0:3]\n",
    "    top_topics_str = ' '.join(str(t) for t in top_topics)\n",
    "    print(\"{}: {}\".format(novels[i], top_topics_str))"
   ]
  },
  {
   "cell_type": "markdown",
   "metadata": {},
   "source": [
    "#### Note\n",
    "\n",
    "Recall that, like everything else in Python (and C, Java, and many\n",
    "    other languages), the topics use 0-based indexing; the first topic is topic 0.\n",
    "\n",
    "Each topic in the topic model can be inspected. Each topic is a distribution\n",
    "which captures in probabilistic terms, the words associated with the topic and\n",
    "the strength of the association (the posterior probability of finding a word\n",
    "associated with a topic). Sometimes this distribution is called a topic-word\n",
    "distribution (in contrast to the document-topic distribution). Again, this is\n",
    "best illustrated by inspecting the topic-word distributions provided by MALLET\n",
    "for our Austen-BrontÃ« corpus.  MALLET places (a subset of) the topic-word\n",
    "distribution for each topic in a file specified by the command-line option\n",
    "``--output-topic-keys``. For the run of ``mallet`` used in this section, this\n",
    "file is ``/tmp/topic-keys-austen-brontÃ«.txt``. The first line of this file\n",
    "should resemble the following:\n",
    "\n",
    "0\t2.5\tlong room looked day eyes make voice head till girl morning feel called table turn continued times appeared breakfast\n",
    "\n",
    "We need to parse this file into something we can work with. Fortunately this\n",
    "task is not difficult."
   ]
  },
  {
   "cell_type": "code",
   "execution_count": 123,
   "metadata": {},
   "outputs": [
    {
     "data": {
      "text/plain": [
       "['elinor',\n",
       " 'mrs',\n",
       " 'marianne',\n",
       " 'sister',\n",
       " 'mother',\n",
       " 'edward',\n",
       " 'dashwood',\n",
       " 'colonel',\n",
       " 'jennings',\n",
       " 'willoughby',\n",
       " 'john',\n",
       " 'thing',\n",
       " 'lucy',\n",
       " 'great',\n",
       " 'miss',\n",
       " 'brandon',\n",
       " 'day',\n",
       " 'dear',\n",
       " 'happy']"
      ]
     },
     "execution_count": 123,
     "metadata": {},
     "output_type": "execute_result"
    }
   ],
   "source": [
    "with open('tmp/topic-keys-austen-bronte.txt') as input:\n",
    "    topic_keys_lines = input.readlines()\n",
    "topic_words = []\n",
    "for line in topic_keys_lines:\n",
    "    _, _, words = line.split('\\t')  # tab-separated\n",
    "    words = words.rstrip().split(' ')  # remove the trailing '\\n'\n",
    "    topic_words.append(words)\n",
    "\n",
    "# now we can get a list of the top words for topic 0 with topic_words[0]\n",
    "topic_words[0]"
   ]
  },
  {
   "cell_type": "markdown",
   "metadata": {},
   "source": [
    "Now we have everything we need to list the words associated with each topic."
   ]
  },
  {
   "cell_type": "code",
   "execution_count": 125,
   "metadata": {},
   "outputs": [
    {
     "name": "stdout",
     "output_type": "stream",
     "text": [
      "Topic 0: elinor mrs marianne sister mother edward dashwood colonel jennings willoughby\n",
      "Topic 1: madame monsieur paul de mademoiselle vous est emanuel la hand\n",
      "Topic 2: man good make years life woman wife suppose father young\n",
      "Topic 3: jane god st john heart mine felt put hand strange\n",
      "Topic 4: time morning long left found return felt days wished leave\n",
      "Topic 5: made moment looked eyes silence voice smile sat man gave\n",
      "Topic 6: house looked good thought place found small fine large asked\n",
      "Topic 7: madame beck dress pale knew light stood dark blue full\n",
      "Topic 8: mr sir rochester don hall back heard night master ll\n",
      "Topic 9: door long round house garden air black high rose great\n",
      "Topic 10: room miss mrs chair table eyes long head hands hair\n",
      "Topic 11: mr emma mrs miss harriet thing weston knightley elton jane\n",
      "Topic 12: young lady evening general people pleasure party pretty attention ladies\n",
      "Topic 13: feelings happiness opinion friend regard situation spirits affection ill give\n",
      "Topic 14: mr elizabeth darcy jane bennet mrs bingley miss sister wickham\n",
      "Topic 15: letter give make word told till heard cried knew speak\n",
      "Topic 16: day night hour hand evening life thought heart sweet long\n",
      "Topic 17: school english french hunsden frances mdlle pelet crimsworth read time\n",
      "Topic 18: love mind felt good feel heart thought world sense feeling\n",
      "Topic 19: bretton dr graham lucy home good john papa don child\n"
     ]
    }
   ],
   "source": [
    "N_WORDS_DISPLAY = 10\n",
    "for t in range(len(topic_words)):\n",
    "    print(\"Topic {}: {}\".format(t, ' '.join(topic_words[t][:N_WORDS_DISPLAY])))"
   ]
  },
  {
   "cell_type": "markdown",
   "metadata": {},
   "source": [
    "There are many ways to inspect and to visualize topic models. Some of the more\n",
    "common methods are covered in :ref:`next section <topic-model-visualization>`.\n",
    "\n",
    "#### Distinctive topics\n",
    "------------------\n",
    "\n",
    "Finding distinctive topics is analogous to the task of :ref:`finding distinctive\n",
    "words <feature-selection>`. The topic model does an excellent job of focusing\n",
    "attention on recurrent patterns (of co-occurrence) in the word frequencies\n",
    "appearing in a corpus. To the extent that we are interested in these kinds of\n",
    "patterns (rather than the rare or isolated feature of texts), working with\n",
    "topics tends to be easier than working with word frequencies.\n",
    "\n",
    "Consider the task of finding the distinctive topics in Austen's novels. Here the\n",
    "simple difference-in-averages provides an easy way of finding topics that tend\n",
    "to be associated more strongly with Austen's novels than with BrontÃ«'s.\n"
   ]
  },
  {
   "cell_type": "code",
   "execution_count": 138,
   "metadata": {},
   "outputs": [
    {
     "data": {
      "text/plain": [
       "array([11, 14,  0, 13, 17,  7,  9,  3,  1, 12], dtype=int64)"
      ]
     },
     "execution_count": 138,
     "metadata": {},
     "output_type": "execute_result"
    }
   ],
   "source": [
    "austen_indices, cbronte_indices = [], []\n",
    "for index, fn in enumerate(sorted(set(novel_names))):\n",
    "    if \"Austen\" in fn:\n",
    "        austen_indices.append(index)\n",
    "    elif \"CBronte\" in fn:\n",
    "        cbronte_indices.append(index)\n",
    "\n",
    "austen_avg = np.mean(doctopic[austen_indices, :], axis=0)\n",
    "cbronte_avg = np.mean(doctopic[cbronte_indices, :], axis=0)\n",
    "keyness = np.abs(austen_avg - cbronte_avg)\n",
    "ranking = np.argsort(keyness)[::-1]  # from highest to lowest; [::-1] reverses order in Python sequences\n",
    "\n",
    "# distinctive topics:\n",
    "ranking[:10]"
   ]
  },
  {
   "cell_type": "code",
   "execution_count": 139,
   "metadata": {
    "collapsed": true
   },
   "outputs": [],
   "source": [
    "N_WORDS_DISPLAY = 10\n",
    "N_TOPICS_DISPLAY = 10\n",
    "topics_display = sorted(ranking[0:N_TOPICS_DISPLAY])\n",
    "arr = doctopic[:, topics_display]\n",
    "colnames = [\"Topic {}\".format(t) for t in topics_display]\n",
    "rownames = sorted(set(novel_names))\n",
    "html = pd.DataFrame(np.round(arr,2), index=rownames, columns=colnames).to_html()\n",
    "arr = np.row_stack([topic_words[t][:N_WORDS_DISPLAY] for t in topics_display])\n",
    "rownames = [\"Topic {}\".format(t) for t in topics_display]\n",
    "colnames = ['']*N_WORDS_DISPLAY\n",
    "html += pd.DataFrame(arr, index=rownames, columns=colnames).to_html()\n",
    "with open(os.path.join(OUTPUT_HTML_PATH, 'topic_model_distinctive_avg_diff.txt'), 'w') as f:\n",
    "    f.write(html)\n"
   ]
  },
  {
   "cell_type": "code",
   "execution_count": 140,
   "metadata": {},
   "outputs": [
    {
     "data": {
      "text/html": [
       "<div>\n",
       "<style>\n",
       "    .dataframe thead tr:only-child th {\n",
       "        text-align: right;\n",
       "    }\n",
       "\n",
       "    .dataframe thead th {\n",
       "        text-align: left;\n",
       "    }\n",
       "\n",
       "    .dataframe tbody tr th {\n",
       "        vertical-align: top;\n",
       "    }\n",
       "</style>\n",
       "<table border=\"1\" class=\"dataframe\">\n",
       "  <thead>\n",
       "    <tr style=\"text-align: right;\">\n",
       "      <th></th>\n",
       "      <th>Topic 0</th>\n",
       "      <th>Topic 1</th>\n",
       "      <th>Topic 3</th>\n",
       "      <th>Topic 7</th>\n",
       "      <th>Topic 9</th>\n",
       "      <th>Topic 11</th>\n",
       "      <th>Topic 12</th>\n",
       "      <th>Topic 13</th>\n",
       "      <th>Topic 14</th>\n",
       "      <th>Topic 17</th>\n",
       "    </tr>\n",
       "  </thead>\n",
       "  <tbody>\n",
       "    <tr>\n",
       "      <th>Austen_Emma</th>\n",
       "      <td>0.02</td>\n",
       "      <td>0.01</td>\n",
       "      <td>0.02</td>\n",
       "      <td>0.01</td>\n",
       "      <td>0.02</td>\n",
       "      <td>0.26</td>\n",
       "      <td>0.08</td>\n",
       "      <td>0.10</td>\n",
       "      <td>0.02</td>\n",
       "      <td>0.02</td>\n",
       "    </tr>\n",
       "    <tr>\n",
       "      <th>Austen_Pride</th>\n",
       "      <td>0.03</td>\n",
       "      <td>0.01</td>\n",
       "      <td>0.02</td>\n",
       "      <td>0.01</td>\n",
       "      <td>0.02</td>\n",
       "      <td>0.02</td>\n",
       "      <td>0.09</td>\n",
       "      <td>0.11</td>\n",
       "      <td>0.24</td>\n",
       "      <td>0.01</td>\n",
       "    </tr>\n",
       "    <tr>\n",
       "      <th>Austen_Sense</th>\n",
       "      <td>0.23</td>\n",
       "      <td>0.01</td>\n",
       "      <td>0.02</td>\n",
       "      <td>0.01</td>\n",
       "      <td>0.02</td>\n",
       "      <td>0.02</td>\n",
       "      <td>0.07</td>\n",
       "      <td>0.11</td>\n",
       "      <td>0.02</td>\n",
       "      <td>0.01</td>\n",
       "    </tr>\n",
       "    <tr>\n",
       "      <th>CBronte_Jane</th>\n",
       "      <td>0.02</td>\n",
       "      <td>0.02</td>\n",
       "      <td>0.09</td>\n",
       "      <td>0.05</td>\n",
       "      <td>0.08</td>\n",
       "      <td>0.02</td>\n",
       "      <td>0.03</td>\n",
       "      <td>0.03</td>\n",
       "      <td>0.02</td>\n",
       "      <td>0.04</td>\n",
       "    </tr>\n",
       "    <tr>\n",
       "      <th>CBronte_Professor</th>\n",
       "      <td>0.01</td>\n",
       "      <td>0.06</td>\n",
       "      <td>0.06</td>\n",
       "      <td>0.06</td>\n",
       "      <td>0.07</td>\n",
       "      <td>0.01</td>\n",
       "      <td>0.04</td>\n",
       "      <td>0.03</td>\n",
       "      <td>0.01</td>\n",
       "      <td>0.16</td>\n",
       "    </tr>\n",
       "    <tr>\n",
       "      <th>CBronte_Villette</th>\n",
       "      <td>0.01</td>\n",
       "      <td>0.09</td>\n",
       "      <td>0.06</td>\n",
       "      <td>0.10</td>\n",
       "      <td>0.07</td>\n",
       "      <td>0.01</td>\n",
       "      <td>0.04</td>\n",
       "      <td>0.03</td>\n",
       "      <td>0.01</td>\n",
       "      <td>0.04</td>\n",
       "    </tr>\n",
       "  </tbody>\n",
       "</table>\n",
       "</div>"
      ],
      "text/plain": [
       "                   Topic 0  Topic 1  Topic 3  Topic 7  Topic 9  Topic 11  \\\n",
       "Austen_Emma           0.02     0.01     0.02     0.01     0.02      0.26   \n",
       "Austen_Pride          0.03     0.01     0.02     0.01     0.02      0.02   \n",
       "Austen_Sense          0.23     0.01     0.02     0.01     0.02      0.02   \n",
       "CBronte_Jane          0.02     0.02     0.09     0.05     0.08      0.02   \n",
       "CBronte_Professor     0.01     0.06     0.06     0.06     0.07      0.01   \n",
       "CBronte_Villette      0.01     0.09     0.06     0.10     0.07      0.01   \n",
       "\n",
       "                   Topic 12  Topic 13  Topic 14  Topic 17  \n",
       "Austen_Emma            0.08      0.10      0.02      0.02  \n",
       "Austen_Pride           0.09      0.11      0.24      0.01  \n",
       "Austen_Sense           0.07      0.11      0.02      0.01  \n",
       "CBronte_Jane           0.03      0.03      0.02      0.04  \n",
       "CBronte_Professor      0.04      0.03      0.01      0.16  \n",
       "CBronte_Villette       0.04      0.03      0.01      0.04  "
      ]
     },
     "execution_count": 140,
     "metadata": {},
     "output_type": "execute_result"
    }
   ],
   "source": [
    "#$acnote to display together redoing the block above in sequence of 2 steps\n",
    "N_WORDS_DISPLAY = 10\n",
    "N_TOPICS_DISPLAY = 10\n",
    "topics_display = sorted(ranking[0:N_TOPICS_DISPLAY])\n",
    "arr = doctopic[:, topics_display]\n",
    "colnames = [\"Topic {}\".format(t) for t in topics_display]\n",
    "rownames = sorted(set(novel_names))\n",
    "#html = pd.DataFrame(np.round(arr,2), index=rownames, columns=colnames).to_html()\n",
    "\n",
    "#display inline\n",
    "df = pd.DataFrame(np.round(arr,2), index=rownames, columns=colnames)\n",
    "df\n"
   ]
  },
  {
   "cell_type": "code",
   "execution_count": 141,
   "metadata": {},
   "outputs": [
    {
     "data": {
      "text/html": [
       "<div>\n",
       "<style>\n",
       "    .dataframe thead tr:only-child th {\n",
       "        text-align: right;\n",
       "    }\n",
       "\n",
       "    .dataframe thead th {\n",
       "        text-align: left;\n",
       "    }\n",
       "\n",
       "    .dataframe tbody tr th {\n",
       "        vertical-align: top;\n",
       "    }\n",
       "</style>\n",
       "<table border=\"1\" class=\"dataframe\">\n",
       "  <thead>\n",
       "    <tr style=\"text-align: right;\">\n",
       "      <th></th>\n",
       "      <th></th>\n",
       "      <th></th>\n",
       "      <th></th>\n",
       "      <th></th>\n",
       "      <th></th>\n",
       "      <th></th>\n",
       "      <th></th>\n",
       "      <th></th>\n",
       "      <th></th>\n",
       "      <th></th>\n",
       "    </tr>\n",
       "  </thead>\n",
       "  <tbody>\n",
       "    <tr>\n",
       "      <th>Topic 0</th>\n",
       "      <td>elinor</td>\n",
       "      <td>mrs</td>\n",
       "      <td>marianne</td>\n",
       "      <td>sister</td>\n",
       "      <td>mother</td>\n",
       "      <td>edward</td>\n",
       "      <td>dashwood</td>\n",
       "      <td>colonel</td>\n",
       "      <td>jennings</td>\n",
       "      <td>willoughby</td>\n",
       "    </tr>\n",
       "    <tr>\n",
       "      <th>Topic 1</th>\n",
       "      <td>madame</td>\n",
       "      <td>monsieur</td>\n",
       "      <td>paul</td>\n",
       "      <td>de</td>\n",
       "      <td>mademoiselle</td>\n",
       "      <td>vous</td>\n",
       "      <td>est</td>\n",
       "      <td>emanuel</td>\n",
       "      <td>la</td>\n",
       "      <td>hand</td>\n",
       "    </tr>\n",
       "    <tr>\n",
       "      <th>Topic 3</th>\n",
       "      <td>jane</td>\n",
       "      <td>god</td>\n",
       "      <td>st</td>\n",
       "      <td>john</td>\n",
       "      <td>heart</td>\n",
       "      <td>mine</td>\n",
       "      <td>felt</td>\n",
       "      <td>put</td>\n",
       "      <td>hand</td>\n",
       "      <td>strange</td>\n",
       "    </tr>\n",
       "    <tr>\n",
       "      <th>Topic 7</th>\n",
       "      <td>madame</td>\n",
       "      <td>beck</td>\n",
       "      <td>dress</td>\n",
       "      <td>pale</td>\n",
       "      <td>knew</td>\n",
       "      <td>light</td>\n",
       "      <td>stood</td>\n",
       "      <td>dark</td>\n",
       "      <td>blue</td>\n",
       "      <td>full</td>\n",
       "    </tr>\n",
       "    <tr>\n",
       "      <th>Topic 9</th>\n",
       "      <td>door</td>\n",
       "      <td>long</td>\n",
       "      <td>round</td>\n",
       "      <td>house</td>\n",
       "      <td>garden</td>\n",
       "      <td>air</td>\n",
       "      <td>black</td>\n",
       "      <td>high</td>\n",
       "      <td>rose</td>\n",
       "      <td>great</td>\n",
       "    </tr>\n",
       "    <tr>\n",
       "      <th>Topic 11</th>\n",
       "      <td>mr</td>\n",
       "      <td>emma</td>\n",
       "      <td>mrs</td>\n",
       "      <td>miss</td>\n",
       "      <td>harriet</td>\n",
       "      <td>thing</td>\n",
       "      <td>weston</td>\n",
       "      <td>knightley</td>\n",
       "      <td>elton</td>\n",
       "      <td>jane</td>\n",
       "    </tr>\n",
       "    <tr>\n",
       "      <th>Topic 12</th>\n",
       "      <td>young</td>\n",
       "      <td>lady</td>\n",
       "      <td>evening</td>\n",
       "      <td>general</td>\n",
       "      <td>people</td>\n",
       "      <td>pleasure</td>\n",
       "      <td>party</td>\n",
       "      <td>pretty</td>\n",
       "      <td>attention</td>\n",
       "      <td>ladies</td>\n",
       "    </tr>\n",
       "    <tr>\n",
       "      <th>Topic 13</th>\n",
       "      <td>feelings</td>\n",
       "      <td>happiness</td>\n",
       "      <td>opinion</td>\n",
       "      <td>friend</td>\n",
       "      <td>regard</td>\n",
       "      <td>situation</td>\n",
       "      <td>spirits</td>\n",
       "      <td>affection</td>\n",
       "      <td>ill</td>\n",
       "      <td>give</td>\n",
       "    </tr>\n",
       "    <tr>\n",
       "      <th>Topic 14</th>\n",
       "      <td>mr</td>\n",
       "      <td>elizabeth</td>\n",
       "      <td>darcy</td>\n",
       "      <td>jane</td>\n",
       "      <td>bennet</td>\n",
       "      <td>mrs</td>\n",
       "      <td>bingley</td>\n",
       "      <td>miss</td>\n",
       "      <td>sister</td>\n",
       "      <td>wickham</td>\n",
       "    </tr>\n",
       "    <tr>\n",
       "      <th>Topic 17</th>\n",
       "      <td>school</td>\n",
       "      <td>english</td>\n",
       "      <td>french</td>\n",
       "      <td>hunsden</td>\n",
       "      <td>frances</td>\n",
       "      <td>mdlle</td>\n",
       "      <td>pelet</td>\n",
       "      <td>crimsworth</td>\n",
       "      <td>read</td>\n",
       "      <td>time</td>\n",
       "    </tr>\n",
       "  </tbody>\n",
       "</table>\n",
       "</div>"
      ],
      "text/plain": [
       "                                                                           \\\n",
       "Topic 0     elinor        mrs  marianne   sister        mother     edward   \n",
       "Topic 1     madame   monsieur      paul       de  mademoiselle       vous   \n",
       "Topic 3       jane        god        st     john         heart       mine   \n",
       "Topic 7     madame       beck     dress     pale          knew      light   \n",
       "Topic 9       door       long     round    house        garden        air   \n",
       "Topic 11        mr       emma       mrs     miss       harriet      thing   \n",
       "Topic 12     young       lady   evening  general        people   pleasure   \n",
       "Topic 13  feelings  happiness   opinion   friend        regard  situation   \n",
       "Topic 14        mr  elizabeth     darcy     jane        bennet        mrs   \n",
       "Topic 17    school    english    french  hunsden       frances      mdlle   \n",
       "\n",
       "                                                       \n",
       "Topic 0   dashwood     colonel   jennings  willoughby  \n",
       "Topic 1        est     emanuel         la        hand  \n",
       "Topic 3       felt         put       hand     strange  \n",
       "Topic 7      stood        dark       blue        full  \n",
       "Topic 9      black        high       rose       great  \n",
       "Topic 11    weston   knightley      elton        jane  \n",
       "Topic 12     party      pretty  attention      ladies  \n",
       "Topic 13   spirits   affection        ill        give  \n",
       "Topic 14   bingley        miss     sister     wickham  \n",
       "Topic 17     pelet  crimsworth       read        time  "
      ]
     },
     "execution_count": 141,
     "metadata": {},
     "output_type": "execute_result"
    }
   ],
   "source": [
    "#part2\n",
    "arr = np.row_stack([topic_words[t][:N_WORDS_DISPLAY] for t in topics_display])\n",
    "rownames = [\"Topic {}\".format(t) for t in topics_display]\n",
    "colnames = ['']*N_WORDS_DISPLAY\n",
    "#html += pd.DataFrame(arr, index=rownames, columns=colnames).to_html()\n",
    "\n",
    "#display inline\n",
    "df2 = pd.DataFrame(arr, index=rownames, columns=colnames)\n",
    "df2"
   ]
  },
  {
   "cell_type": "markdown",
   "metadata": {},
   "source": [
    "Footnote: Those familiar with `MapReduce <https://en.wikipedia.org/wiki/MapReduce>`_ may recognize the pattern of splitting a dataset into smaller pieces and then (re)ordering them."
   ]
  },
  {
   "cell_type": "markdown",
   "metadata": {},
   "source": [
    "============================\n",
    "## 5. Topic modeling in Python\n",
    "============================\n",
    "\n",
    "This section illustrates how to do approximate topic modeling in Python. We will\n",
    "use a technique called `non-negative matrix factorization (NMF)\n",
    "<https://en.wikipedia.org/wiki/Non-negative_matrix_factorization>`_ that\n",
    "strongly resembles Latent Dirichlet Allocation (LDA) which we covered in the\n",
    "previous section, :ref:`topic-model-mallet`. [#fn_nmf]_ Whereas LDA is\n",
    "a probabilistic model capable of expressing uncertainty about the placement of\n",
    "topics across texts and the assignment of words to topics, NMF is\n",
    "a deterministic algorithm which arrives at a single representation of the\n",
    "corpus. For this reason, NMF is often characterized as a machine learning\n",
    "algorithm. Like LDA, NMF arrives at its representation of a corpus in terms of\n",
    "something resembling \"latent topics\".\n",
    "\n",
    "#### Note:: The name \"Non-negative matrix factorization\" has the virtue of being\n",
    "   transparent. A \"non-negative matrix\" is a matrix containing non-negative\n",
    "   values (here zero or positive word frequencies). And\n",
    "   factorization refers to the familiar kind of mathematical factorization.\n",
    "   Just as a polynomial :math:`x^2 + 3x + 2` may be factored into a simple\n",
    "   product :math:`(x+2)(x+1)`, so too may a matrix\n",
    "   :math:`\\bigl(\\begin{smallmatrix} 6&2&4\\\\ 9&3&6 \\end{smallmatrix} \\bigr)` be\n",
    "   factored into the product of two smaller matrices\n",
    "   :math:`\\bigl(\\begin{smallmatrix} 2\\\\ 3 \\end{smallmatrix} \\bigr)\n",
    "   \\bigl(\\begin{smallmatrix} 3&2&1 \\end{smallmatrix} \\bigr)`.\n",
    "\n",
    "This section follows the procedures described in :ref:`topic-model-mallet`,\n",
    "making the substitution of NMF for LDA where appropriate.\n",
    "\n",
    "This section uses the novels by BrontÃ« and Austen. These novels are divided into\n",
    "parts as follows:\n"
   ]
  },
  {
   "cell_type": "code",
   "execution_count": 164,
   "metadata": {},
   "outputs": [
    {
     "data": {
      "text/plain": [
       "['data\\\\austen-bronte-split\\\\Austen_Emma0000.txt',\n",
       " 'data\\\\austen-bronte-split\\\\Austen_Emma0001.txt',\n",
       " 'data\\\\austen-bronte-split\\\\Austen_Emma0002.txt',\n",
       " 'data\\\\austen-bronte-split\\\\Austen_Emma0003.txt',\n",
       " 'data\\\\austen-bronte-split\\\\Austen_Emma0004.txt']"
      ]
     },
     "execution_count": 164,
     "metadata": {},
     "output_type": "execute_result"
    }
   ],
   "source": [
    "#same as in previous Mallet part\n",
    "import os\n",
    "CORPUS_PATH = os.path.join('data', 'austen-bronte-split')\n",
    "filenames = sorted([os.path.join(CORPUS_PATH, fn) for fn in os.listdir(CORPUS_PATH)])\n",
    "len(filenames)    \n",
    "filenames[:5]"
   ]
  },
  {
   "cell_type": "markdown",
   "metadata": {},
   "source": [
    "### 5a. Using Non-negative matrix factorization\n",
    "=======================================\n",
    "\n",
    "As always we need to give Python access to our corpus. In this case we will work\n",
    "with our familiar document-term matrix."
   ]
  },
  {
   "cell_type": "code",
   "execution_count": 165,
   "metadata": {},
   "outputs": [
    {
     "data": {
      "text/plain": [
       "2902"
      ]
     },
     "execution_count": 165,
     "metadata": {},
     "output_type": "execute_result"
    }
   ],
   "source": [
    "import numpy as np  # a conventional alias\n",
    "import sklearn.feature_extraction.text as text\n",
    "\n",
    "vectorizer = text.CountVectorizer(input='filename', stop_words='english', min_df=20)\n",
    "dtm = vectorizer.fit_transform(filenames).toarray()\n",
    "vocab = np.array(vectorizer.get_feature_names())\n",
    "\n",
    "dtm.shape\n",
    "len(vocab)"
   ]
  },
  {
   "cell_type": "markdown",
   "metadata": {},
   "source": [
    "By analogy with LDA, we will use NMF to get a document-topic matrix (topics here\n",
    "will also be referred to as \"components\") and a list of top words for each\n",
    "topic. We will make analogy clear by using the same variable names:\n",
    "``doctopic`` and ``topic_words``"
   ]
  },
  {
   "cell_type": "code",
   "execution_count": 166,
   "metadata": {
    "collapsed": true
   },
   "outputs": [],
   "source": [
    "from sklearn import decomposition\n",
    "\n",
    "num_topics = 20\n",
    "num_top_words = 20\n",
    "\n",
    "clf = decomposition.NMF(n_components=num_topics, random_state=1)\n",
    "\n",
    "# this next step may take some time"
   ]
  },
  {
   "cell_type": "code",
   "execution_count": 167,
   "metadata": {},
   "outputs": [
    {
     "data": {
      "text/plain": [
       "\"\\nimport os\\nimport pickle\\n\\nNMF_TOPICS = 'source/cache/nmf-austen-brontÃ«-doc-topic.pkl'\\nNMF_CLF = 'source/cache/nmf-austen-brontÃ«-clf.pkl'\\n\\n# the ipython directive seems to have trouble with multi-line indented blocks\\nif not os.path.exists(NMF_CLF):\\n    doctopic = clf.fit_transform(dtm)\\n    pickle.dump(doctopic, open(NMF_TOPICS, 'wb'))\\n    pickle.dump(clf, open(NMF_CLF, 'wb'))\\n\\n\\nclf = pickle.load(open(NMF_CLF, 'rb'))\\ndoctopic = pickle.load(open(NMF_TOPICS, 'rb'))\\n\""
      ]
     },
     "execution_count": 167,
     "metadata": {},
     "output_type": "execute_result"
    }
   ],
   "source": [
    "\"\"\"\n",
    "import os\n",
    "import pickle\n",
    "\n",
    "NMF_TOPICS = 'source/cache/nmf-austen-brontÃ«-doc-topic.pkl'\n",
    "NMF_CLF = 'source/cache/nmf-austen-brontÃ«-clf.pkl'\n",
    "\n",
    "# the ipython directive seems to have trouble with multi-line indented blocks\n",
    "if not os.path.exists(NMF_CLF):\n",
    "    doctopic = clf.fit_transform(dtm)\n",
    "    pickle.dump(doctopic, open(NMF_TOPICS, 'wb'))\n",
    "    pickle.dump(clf, open(NMF_CLF, 'wb'))\n",
    "\n",
    "\n",
    "clf = pickle.load(open(NMF_CLF, 'rb'))\n",
    "doctopic = pickle.load(open(NMF_TOPICS, 'rb'))\n",
    "\"\"\""
   ]
  },
  {
   "cell_type": "code",
   "execution_count": 168,
   "metadata": {
    "collapsed": true
   },
   "outputs": [],
   "source": [
    "doctopic = clf.fit_transform(dtm)"
   ]
  },
  {
   "cell_type": "code",
   "execution_count": 169,
   "metadata": {
    "collapsed": true
   },
   "outputs": [],
   "source": [
    "# print words associated with topics\n",
    "topic_words = []\n",
    "for topic in clf.components_:\n",
    "    word_idx = np.argsort(topic)[::-1][0:num_top_words]\n",
    "    topic_words.append([vocab[i] for i in word_idx])"
   ]
  },
  {
   "cell_type": "markdown",
   "metadata": {},
   "source": [
    "To make the analysis and visualization of NMF components similar to that of\n",
    "LDA's topic proportions, we will scale the document-component matrix such that\n",
    "the component values associated with each document sum to one.\n"
   ]
  },
  {
   "cell_type": "code",
   "execution_count": 170,
   "metadata": {
    "collapsed": true
   },
   "outputs": [],
   "source": [
    "doctopic = doctopic / np.sum(doctopic, axis=1, keepdims=True)"
   ]
  },
  {
   "cell_type": "markdown",
   "metadata": {},
   "source": [
    "Now we will average those topic shares associated with the same novel together\n",
    "--- just as we did with the topic shares from MALLET."
   ]
  },
  {
   "cell_type": "code",
   "execution_count": 171,
   "metadata": {},
   "outputs": [],
   "source": [
    "novel_names = []\n",
    "for fn in filenames:\n",
    "    basename = os.path.basename(fn)\n",
    "    # splitext splits the extension off, 'novel.txt' -> ('novel', '.txt')\n",
    "    name, ext = os.path.splitext(basename)\n",
    "    # remove trailing numbers identifying chunk\n",
    "    name = name.rstrip('0123456789')\n",
    "    novel_names.append(name)\n",
    "# turn this into an array so we can use NumPy functions\n",
    "novel_names = np.asarray(novel_names)\n",
    "\n",
    "#print(len(set(novel_names)) == 6)\n",
    "#doctopic_orig = doctopic.copy()\n",
    "\n",
    "# use method described in preprocessing section\n",
    "num_groups = len(set(novel_names))\n",
    "doctopic_grouped = np.zeros((num_groups, num_topics))\n",
    "\n",
    "for i, name in enumerate(sorted(set(novel_names))):\n",
    "    doctopic_grouped[i, :] = np.mean(doctopic[novel_names == name, :], axis=0)\n",
    "\n",
    "doctopic = doctopic_grouped\n",
    "#docnames = sorted(set(novel_names))"
   ]
  },
  {
   "cell_type": "code",
   "execution_count": 175,
   "metadata": {},
   "outputs": [],
   "source": [
    "import pandas as pd\n",
    "OUTPUT_HTML_PATH = os.path.join('source', 'generated')\n",
    "rownames = sorted(set(novel_names))\n",
    "colnames = [\"NMF Topic \" + str(i + 1) for i in range(doctopic.shape[1])][0:15]\n",
    "html = pd.DataFrame(np.round(doctopic[:,0:15], 2), index=rownames, columns=colnames).to_html()\n",
    "with open(os.path.join(OUTPUT_HTML_PATH, 'NMF_doctopic.txt'), 'w') as f:\n",
    "    f.write(html)"
   ]
  },
  {
   "cell_type": "code",
   "execution_count": 176,
   "metadata": {},
   "outputs": [
    {
     "data": {
      "text/html": [
       "<div>\n",
       "<style>\n",
       "    .dataframe thead tr:only-child th {\n",
       "        text-align: right;\n",
       "    }\n",
       "\n",
       "    .dataframe thead th {\n",
       "        text-align: left;\n",
       "    }\n",
       "\n",
       "    .dataframe tbody tr th {\n",
       "        vertical-align: top;\n",
       "    }\n",
       "</style>\n",
       "<table border=\"1\" class=\"dataframe\">\n",
       "  <thead>\n",
       "    <tr style=\"text-align: right;\">\n",
       "      <th></th>\n",
       "      <th>NMF Topic 1</th>\n",
       "      <th>NMF Topic 2</th>\n",
       "      <th>NMF Topic 3</th>\n",
       "      <th>NMF Topic 4</th>\n",
       "      <th>NMF Topic 5</th>\n",
       "      <th>NMF Topic 6</th>\n",
       "      <th>NMF Topic 7</th>\n",
       "      <th>NMF Topic 8</th>\n",
       "      <th>NMF Topic 9</th>\n",
       "      <th>NMF Topic 10</th>\n",
       "      <th>NMF Topic 11</th>\n",
       "      <th>NMF Topic 12</th>\n",
       "      <th>NMF Topic 13</th>\n",
       "      <th>NMF Topic 14</th>\n",
       "      <th>NMF Topic 15</th>\n",
       "    </tr>\n",
       "  </thead>\n",
       "  <tbody>\n",
       "    <tr>\n",
       "      <th>Austen_Emma</th>\n",
       "      <td>0.06</td>\n",
       "      <td>0.12</td>\n",
       "      <td>0.00</td>\n",
       "      <td>0.00</td>\n",
       "      <td>0.10</td>\n",
       "      <td>0.02</td>\n",
       "      <td>0.01</td>\n",
       "      <td>0.06</td>\n",
       "      <td>0.09</td>\n",
       "      <td>0.05</td>\n",
       "      <td>0.01</td>\n",
       "      <td>0.01</td>\n",
       "      <td>0.01</td>\n",
       "      <td>0.13</td>\n",
       "      <td>0.05</td>\n",
       "    </tr>\n",
       "    <tr>\n",
       "      <th>Austen_Pride</th>\n",
       "      <td>0.04</td>\n",
       "      <td>0.09</td>\n",
       "      <td>0.01</td>\n",
       "      <td>0.25</td>\n",
       "      <td>0.05</td>\n",
       "      <td>0.02</td>\n",
       "      <td>0.01</td>\n",
       "      <td>0.06</td>\n",
       "      <td>0.04</td>\n",
       "      <td>0.04</td>\n",
       "      <td>0.01</td>\n",
       "      <td>0.13</td>\n",
       "      <td>0.01</td>\n",
       "      <td>0.00</td>\n",
       "      <td>0.06</td>\n",
       "    </tr>\n",
       "    <tr>\n",
       "      <th>Austen_Sense</th>\n",
       "      <td>0.04</td>\n",
       "      <td>0.03</td>\n",
       "      <td>0.24</td>\n",
       "      <td>0.01</td>\n",
       "      <td>0.10</td>\n",
       "      <td>0.02</td>\n",
       "      <td>0.03</td>\n",
       "      <td>0.00</td>\n",
       "      <td>0.04</td>\n",
       "      <td>0.08</td>\n",
       "      <td>0.01</td>\n",
       "      <td>0.02</td>\n",
       "      <td>0.01</td>\n",
       "      <td>0.00</td>\n",
       "      <td>0.05</td>\n",
       "    </tr>\n",
       "    <tr>\n",
       "      <th>CBronte_Jane</th>\n",
       "      <td>0.04</td>\n",
       "      <td>0.08</td>\n",
       "      <td>0.00</td>\n",
       "      <td>0.00</td>\n",
       "      <td>0.04</td>\n",
       "      <td>0.21</td>\n",
       "      <td>0.10</td>\n",
       "      <td>0.07</td>\n",
       "      <td>0.06</td>\n",
       "      <td>0.07</td>\n",
       "      <td>0.02</td>\n",
       "      <td>0.01</td>\n",
       "      <td>0.04</td>\n",
       "      <td>0.00</td>\n",
       "      <td>0.07</td>\n",
       "    </tr>\n",
       "    <tr>\n",
       "      <th>CBronte_Professor</th>\n",
       "      <td>0.06</td>\n",
       "      <td>0.04</td>\n",
       "      <td>0.00</td>\n",
       "      <td>0.00</td>\n",
       "      <td>0.01</td>\n",
       "      <td>0.19</td>\n",
       "      <td>0.01</td>\n",
       "      <td>0.01</td>\n",
       "      <td>0.00</td>\n",
       "      <td>0.05</td>\n",
       "      <td>0.02</td>\n",
       "      <td>0.01</td>\n",
       "      <td>0.30</td>\n",
       "      <td>0.00</td>\n",
       "      <td>0.08</td>\n",
       "    </tr>\n",
       "    <tr>\n",
       "      <th>CBronte_Villette</th>\n",
       "      <td>0.06</td>\n",
       "      <td>0.01</td>\n",
       "      <td>0.00</td>\n",
       "      <td>0.00</td>\n",
       "      <td>0.03</td>\n",
       "      <td>0.14</td>\n",
       "      <td>0.01</td>\n",
       "      <td>0.00</td>\n",
       "      <td>0.03</td>\n",
       "      <td>0.05</td>\n",
       "      <td>0.14</td>\n",
       "      <td>0.01</td>\n",
       "      <td>0.09</td>\n",
       "      <td>0.00</td>\n",
       "      <td>0.12</td>\n",
       "    </tr>\n",
       "  </tbody>\n",
       "</table>\n",
       "</div>"
      ],
      "text/plain": [
       "                   NMF Topic 1  NMF Topic 2  NMF Topic 3  NMF Topic 4  \\\n",
       "Austen_Emma               0.06         0.12         0.00         0.00   \n",
       "Austen_Pride              0.04         0.09         0.01         0.25   \n",
       "Austen_Sense              0.04         0.03         0.24         0.01   \n",
       "CBronte_Jane              0.04         0.08         0.00         0.00   \n",
       "CBronte_Professor         0.06         0.04         0.00         0.00   \n",
       "CBronte_Villette          0.06         0.01         0.00         0.00   \n",
       "\n",
       "                   NMF Topic 5  NMF Topic 6  NMF Topic 7  NMF Topic 8  \\\n",
       "Austen_Emma               0.10         0.02         0.01         0.06   \n",
       "Austen_Pride              0.05         0.02         0.01         0.06   \n",
       "Austen_Sense              0.10         0.02         0.03         0.00   \n",
       "CBronte_Jane              0.04         0.21         0.10         0.07   \n",
       "CBronte_Professor         0.01         0.19         0.01         0.01   \n",
       "CBronte_Villette          0.03         0.14         0.01         0.00   \n",
       "\n",
       "                   NMF Topic 9  NMF Topic 10  NMF Topic 11  NMF Topic 12  \\\n",
       "Austen_Emma               0.09          0.05          0.01          0.01   \n",
       "Austen_Pride              0.04          0.04          0.01          0.13   \n",
       "Austen_Sense              0.04          0.08          0.01          0.02   \n",
       "CBronte_Jane              0.06          0.07          0.02          0.01   \n",
       "CBronte_Professor         0.00          0.05          0.02          0.01   \n",
       "CBronte_Villette          0.03          0.05          0.14          0.01   \n",
       "\n",
       "                   NMF Topic 13  NMF Topic 14  NMF Topic 15  \n",
       "Austen_Emma                0.01          0.13          0.05  \n",
       "Austen_Pride               0.01          0.00          0.06  \n",
       "Austen_Sense               0.01          0.00          0.05  \n",
       "CBronte_Jane               0.04          0.00          0.07  \n",
       "CBronte_Professor          0.30          0.00          0.08  \n",
       "CBronte_Villette           0.09          0.00          0.12  "
      ]
     },
     "execution_count": 176,
     "metadata": {},
     "output_type": "execute_result"
    }
   ],
   "source": [
    "#display inline\n",
    "df = pd.DataFrame(np.round(doctopic[:,0:15], 2), index=rownames, columns=colnames)\n",
    "df"
   ]
  },
  {
   "cell_type": "markdown",
   "metadata": {},
   "source": [
    "In order to fit into the space available, the table above displays the first 15\n",
    "of 20 topics.\n"
   ]
  },
  {
   "cell_type": "markdown",
   "metadata": {},
   "source": [
    "### 5b. Inspecting the NMF fit\n",
    "======================\n",
    "\n",
    "The topics (or components) of the NMF fit preserve the distances between novels (see the figures below)."
   ]
  },
  {
   "cell_type": "code",
   "execution_count": 177,
   "metadata": {
    "collapsed": true
   },
   "outputs": [],
   "source": [
    "# COSINE SIMILARITY\n",
    "import os  # for os.path.basename\n",
    "import matplotlib.pyplot as plt\n",
    "from sklearn.manifold import MDS\n",
    "from sklearn.metrics.pairwise import cosine_similarity\n",
    "\n",
    "dist = 1 - cosine_similarity(dtm)\n",
    "mds = MDS(n_components=2, dissimilarity=\"precomputed\", random_state=1)\n",
    "pos = mds.fit_transform(dist)  # shape (n_components, n_samples)"
   ]
  },
  {
   "cell_type": "code",
   "execution_count": 178,
   "metadata": {},
   "outputs": [
    {
     "data": {
      "image/png": "[encoded data removed]",
      "text/plain": [
       "<matplotlib.figure.Figure at 0x1e3d8927e48>"
      ]
     },
     "metadata": {},
     "output_type": "display_data"
    }
   ],
   "source": [
    "assert dtm.shape[0] == doctopic_orig.shape[0]\n",
    "# NOTE: the IPython directive seems less prone to errors when these blocks\n",
    "# are split up.\n",
    "xs, ys = pos[:, 0], pos[:, 1]\n",
    "names = sorted(set(novel_names))\n",
    "for x, y, name in zip(xs, ys, names):\n",
    "    color = 'orange' if \"Austen\" in name else 'skyblue'\n",
    "    plt.scatter(x, y, c=color)\n",
    "    plt.text(x, y, name)\n",
    "\n",
    "plt.title(\"Distances calculated using word frequencies\")\n",
    "plt.savefig('plots/plot_nmf_section_austen_bronte_cosine_mds.png', bbox_inches='tight')\n",
    "plt.show()\n"
   ]
  },
  {
   "cell_type": "code",
   "execution_count": 179,
   "metadata": {
    "collapsed": true
   },
   "outputs": [],
   "source": [
    "# NMF\n",
    "import os  # for os.path.basename\n",
    "import matplotlib.pyplot as plt\n",
    "from sklearn.manifold import MDS\n",
    "from sklearn.metrics.pairwise import euclidean_distances\n",
    "\n",
    "dist = euclidean_distances(doctopic)\n",
    "mds = MDS(n_components=2, dissimilarity=\"precomputed\", random_state=1)\n",
    "pos = mds.fit_transform(dist)  # shape (n_components, n_samples)"
   ]
  },
  {
   "cell_type": "code",
   "execution_count": 180,
   "metadata": {},
   "outputs": [
    {
     "data": {
      "image/png": "[encoded data removed]",
      "text/plain": [
       "<matplotlib.figure.Figure at 0x1e3d8928438>"
      ]
     },
     "metadata": {},
     "output_type": "display_data"
    }
   ],
   "source": [
    "# NOTE: the IPython directive seems less prone to errors when these blocks are split up\n",
    "xs, ys = pos[:, 0], pos[:, 1]\n",
    "names = sorted(set(novel_names))\n",
    "for x, y, name in zip(xs, ys, names):\n",
    "    color = 'orange' if \"Austen\" in name else 'skyblue'\n",
    "    plt.scatter(x, y, c=color)\n",
    "    plt.text(x, y, name)\n",
    "\n",
    "plt.title(\"Distances calculated using NMF components\")\n",
    "plt.savefig('plots/plot_NMF_euclidean_mds.png', bbox_inches='tight')\n",
    "plt.show()"
   ]
  },
  {
   "cell_type": "markdown",
   "metadata": {},
   "source": [
    "Even though the NMF fit \"discards\" the fine-grained detail recorded in the\n",
    "matrix of word frequencies, the matrix factorization performed allows us to\n",
    "reconstruct the salient details of the underlying matrix.\n",
    "\n",
    "As we did in the previous section, let us identify the most significant topics\n",
    "for each text in the corpus.  This procedure does not differ in essence from the\n",
    "procedure for identifying the most frequent words in each text."
   ]
  },
  {
   "cell_type": "code",
   "execution_count": 181,
   "metadata": {},
   "outputs": [
    {
     "name": "stdout",
     "output_type": "stream",
     "text": [
      "Top NMF topics in...\n",
      "Austen_Emma: 18 13 1\n",
      "Austen_Pride: 3 11 19\n",
      "Austen_Sense: 2 17 4\n",
      "CBronte_Jane: 5 16 6\n",
      "CBronte_Professor: 12 5 16\n",
      "CBronte_Villette: 15 5 10\n"
     ]
    }
   ],
   "source": [
    "novels = sorted(set(novel_names))\n",
    "print(\"Top NMF topics in...\")\n",
    "for i in range(len(doctopic)):\n",
    "    top_topics = np.argsort(doctopic[i,:])[::-1][0:3]\n",
    "    top_topics_str = ' '.join(str(t) for t in top_topics)\n",
    "    print(\"{}: {}\".format(novels[i], top_topics_str))"
   ]
  },
  {
   "cell_type": "markdown",
   "metadata": {},
   "source": [
    "And we already have lists of words (``topic_words``) most strongly associated\n",
    "with the components. For reference, we will display them again:\n"
   ]
  },
  {
   "cell_type": "code",
   "execution_count": 182,
   "metadata": {},
   "outputs": [
    {
     "name": "stdout",
     "output_type": "stream",
     "text": [
      "Topic 0: know think like man good say does said oh quite sure yes thing believe way\n",
      "Topic 1: mr knightley rochester elton man did think evening business away wickham gentleman time dear wife\n",
      "Topic 2: marianne elinor willoughby sister jennings mother colonel dashwood mrs brandon time moment heart little barton\n",
      "Topic 3: elizabeth darcy bingley mr sister bennet wickham miss soon lydia friend room gardiner netherfield little\n",
      "Topic 4: mrs did quite elton room come good thing said weston jennings came day party palmer\n",
      "Topic 5: like room door night long saw thought looked house time eyes day face rochester light\n",
      "Topic 6: sir rochester yes shall adele don little good john said ll mr say eyre room\n",
      "Topic 7: jane fairfax love little think oh heard heart mother soon make feel voice campbell bates\n",
      "Topic 8: miss woodhouse bates quite sure young fairfax oh lady say room smith temple bessie great\n",
      "Topic 9: john man good father house mother years young dashwood life old family wife home woman\n",
      "Topic 10: little graham bretton papa dr lucy like polly home child paulina don think thought eyes\n",
      "Topic 11: lady collins elizabeth catherine bennet charlotte family mr young make mrs ladyship ladies daughter rosings\n",
      "Topic 12: monsieur little english mdlle frances mademoiselle vous est said pelet hand pupils eyes reuter henri\n",
      "Topic 13: harriet emma elton mr friend woodhouse knightley martin think good thing little smith thought mind\n",
      "Topic 14: did know heart felt look thought told knew night believe time day saw feelings think\n",
      "Topic 15: madame beck dr knew little door day paul old night good english pupils thought hand\n",
      "Topic 16: said come shall know tell think john cried looked did replied let asked answer door\n",
      "Topic 17: edward elinor lucy ferrars dashwood sister think mother say time sure brother soon thing make\n",
      "Topic 18: emma weston mr knightley frank churchill thing little father woodhouse great fairfax time hartfield body\n",
      "Topic 19: shall letter time dear day soon read come know say long hope away sure till\n"
     ]
    }
   ],
   "source": [
    "# show the top 15 words\n",
    "for t in range(len(topic_words)):\n",
    "    print(\"Topic {}: {}\".format(t, ' '.join(topic_words[t][:15])))\n"
   ]
  },
  {
   "cell_type": "markdown",
   "metadata": {},
   "source": [
    "There are many ways to inspect and to visualize topic models. Some of the most\n",
    "common methods are covered in :ref:`topic-model-visualization`."
   ]
  },
  {
   "cell_type": "markdown",
   "metadata": {},
   "source": [
    "#### Distinctive topics\n",
    "------------------\n",
    "\n",
    "Consider the task of finding the topics that are distinctive of Austen using the\n",
    "NMF \"topics\". Using the simple difference-in-averages we can find topics that to\n",
    "be associated with Austen's novels rather than BrontÃ«'s."
   ]
  },
  {
   "cell_type": "code",
   "execution_count": 183,
   "metadata": {},
   "outputs": [
    {
     "data": {
      "text/plain": [
       "array([ 5, 12,  3,  2, 15,  4, 17, 10, 18, 13], dtype=int64)"
      ]
     },
     "execution_count": 183,
     "metadata": {},
     "output_type": "execute_result"
    }
   ],
   "source": [
    "austen_indices, cbronte_indices = [], []\n",
    "for index, fn in enumerate(sorted(set(novel_names))):\n",
    "    if \"Austen\" in fn:\n",
    "        austen_indices.append(index)\n",
    "    elif \"CBronte\" in fn:\n",
    "        cbronte_indices.append(index)\n",
    "\n",
    "austen_avg = np.mean(doctopic[austen_indices, :], axis=0)\n",
    "cbronte_avg = np.mean(doctopic[cbronte_indices, :], axis=0)\n",
    "keyness = np.abs(austen_avg - cbronte_avg)\n",
    "ranking = np.argsort(keyness)[::-1]  # from highest to lowest; [::-1] reverses order in Python sequences\n",
    "\n",
    "# distinctive topics:\n",
    "ranking[:10]"
   ]
  },
  {
   "cell_type": "code",
   "execution_count": 184,
   "metadata": {
    "collapsed": true
   },
   "outputs": [],
   "source": [
    "N_WORDS_DISPLAY = 10\n",
    "N_TOPICS_DISPLAY = 10\n",
    "topics_display = sorted(ranking[0:N_TOPICS_DISPLAY])\n",
    "arr = doctopic[:, topics_display]\n",
    "colnames = [\"Topic {}\".format(t) for t in topics_display]\n",
    "rownames = sorted(set(novel_names))\n",
    "html = pd.DataFrame(np.round(arr,2), index=rownames, columns=colnames).to_html()\n",
    "arr = np.row_stack([topic_words[t][:N_WORDS_DISPLAY] for t in topics_display])\n",
    "rownames = [\"Topic {}\".format(t) for t in topics_display]\n",
    "colnames = ['']*N_WORDS_DISPLAY\n",
    "html += pd.DataFrame(arr, index=rownames, columns=colnames).to_html()\n",
    "with open(os.path.join(OUTPUT_HTML_PATH, 'topic_model_distinctive_avg_diff.txt'), 'w') as f:\n",
    "    f.write(html)\n"
   ]
  },
  {
   "cell_type": "code",
   "execution_count": 186,
   "metadata": {},
   "outputs": [
    {
     "data": {
      "text/html": [
       "<div>\n",
       "<style>\n",
       "    .dataframe thead tr:only-child th {\n",
       "        text-align: right;\n",
       "    }\n",
       "\n",
       "    .dataframe thead th {\n",
       "        text-align: left;\n",
       "    }\n",
       "\n",
       "    .dataframe tbody tr th {\n",
       "        vertical-align: top;\n",
       "    }\n",
       "</style>\n",
       "<table border=\"1\" class=\"dataframe\">\n",
       "  <thead>\n",
       "    <tr style=\"text-align: right;\">\n",
       "      <th></th>\n",
       "      <th>Topic 2</th>\n",
       "      <th>Topic 3</th>\n",
       "      <th>Topic 4</th>\n",
       "      <th>Topic 5</th>\n",
       "      <th>Topic 10</th>\n",
       "      <th>Topic 12</th>\n",
       "      <th>Topic 13</th>\n",
       "      <th>Topic 15</th>\n",
       "      <th>Topic 17</th>\n",
       "      <th>Topic 18</th>\n",
       "    </tr>\n",
       "  </thead>\n",
       "  <tbody>\n",
       "    <tr>\n",
       "      <th>Austen_Emma</th>\n",
       "      <td>0.00</td>\n",
       "      <td>0.00</td>\n",
       "      <td>0.10</td>\n",
       "      <td>0.02</td>\n",
       "      <td>0.01</td>\n",
       "      <td>0.01</td>\n",
       "      <td>0.13</td>\n",
       "      <td>0.00</td>\n",
       "      <td>0.01</td>\n",
       "      <td>0.16</td>\n",
       "    </tr>\n",
       "    <tr>\n",
       "      <th>Austen_Pride</th>\n",
       "      <td>0.01</td>\n",
       "      <td>0.25</td>\n",
       "      <td>0.05</td>\n",
       "      <td>0.02</td>\n",
       "      <td>0.01</td>\n",
       "      <td>0.01</td>\n",
       "      <td>0.00</td>\n",
       "      <td>0.00</td>\n",
       "      <td>0.01</td>\n",
       "      <td>0.00</td>\n",
       "    </tr>\n",
       "    <tr>\n",
       "      <th>Austen_Sense</th>\n",
       "      <td>0.24</td>\n",
       "      <td>0.01</td>\n",
       "      <td>0.10</td>\n",
       "      <td>0.02</td>\n",
       "      <td>0.01</td>\n",
       "      <td>0.01</td>\n",
       "      <td>0.00</td>\n",
       "      <td>0.00</td>\n",
       "      <td>0.18</td>\n",
       "      <td>0.00</td>\n",
       "    </tr>\n",
       "    <tr>\n",
       "      <th>CBronte_Jane</th>\n",
       "      <td>0.00</td>\n",
       "      <td>0.00</td>\n",
       "      <td>0.04</td>\n",
       "      <td>0.21</td>\n",
       "      <td>0.02</td>\n",
       "      <td>0.04</td>\n",
       "      <td>0.00</td>\n",
       "      <td>0.01</td>\n",
       "      <td>0.00</td>\n",
       "      <td>0.00</td>\n",
       "    </tr>\n",
       "    <tr>\n",
       "      <th>CBronte_Professor</th>\n",
       "      <td>0.00</td>\n",
       "      <td>0.00</td>\n",
       "      <td>0.01</td>\n",
       "      <td>0.19</td>\n",
       "      <td>0.02</td>\n",
       "      <td>0.30</td>\n",
       "      <td>0.00</td>\n",
       "      <td>0.04</td>\n",
       "      <td>0.01</td>\n",
       "      <td>0.00</td>\n",
       "    </tr>\n",
       "    <tr>\n",
       "      <th>CBronte_Villette</th>\n",
       "      <td>0.00</td>\n",
       "      <td>0.00</td>\n",
       "      <td>0.03</td>\n",
       "      <td>0.14</td>\n",
       "      <td>0.14</td>\n",
       "      <td>0.09</td>\n",
       "      <td>0.00</td>\n",
       "      <td>0.14</td>\n",
       "      <td>0.02</td>\n",
       "      <td>0.00</td>\n",
       "    </tr>\n",
       "  </tbody>\n",
       "</table>\n",
       "</div>"
      ],
      "text/plain": [
       "                   Topic 2  Topic 3  Topic 4  Topic 5  Topic 10  Topic 12  \\\n",
       "Austen_Emma           0.00     0.00     0.10     0.02      0.01      0.01   \n",
       "Austen_Pride          0.01     0.25     0.05     0.02      0.01      0.01   \n",
       "Austen_Sense          0.24     0.01     0.10     0.02      0.01      0.01   \n",
       "CBronte_Jane          0.00     0.00     0.04     0.21      0.02      0.04   \n",
       "CBronte_Professor     0.00     0.00     0.01     0.19      0.02      0.30   \n",
       "CBronte_Villette      0.00     0.00     0.03     0.14      0.14      0.09   \n",
       "\n",
       "                   Topic 13  Topic 15  Topic 17  Topic 18  \n",
       "Austen_Emma            0.13      0.00      0.01      0.16  \n",
       "Austen_Pride           0.00      0.00      0.01      0.00  \n",
       "Austen_Sense           0.00      0.00      0.18      0.00  \n",
       "CBronte_Jane           0.00      0.01      0.00      0.00  \n",
       "CBronte_Professor      0.00      0.04      0.01      0.00  \n",
       "CBronte_Villette       0.00      0.14      0.02      0.00  "
      ]
     },
     "execution_count": 186,
     "metadata": {},
     "output_type": "execute_result"
    }
   ],
   "source": [
    "#display inline\n",
    "N_WORDS_DISPLAY = 10\n",
    "N_TOPICS_DISPLAY = 10\n",
    "topics_display = sorted(ranking[0:N_TOPICS_DISPLAY])\n",
    "arr = doctopic[:, topics_display]\n",
    "colnames = [\"Topic {}\".format(t) for t in topics_display]\n",
    "rownames = sorted(set(novel_names))\n",
    "df = pd.DataFrame(np.round(arr,2), index=rownames, columns=colnames)\n",
    "df\n"
   ]
  },
  {
   "cell_type": "code",
   "execution_count": 185,
   "metadata": {},
   "outputs": [
    {
     "data": {
      "text/html": [
       "<div>\n",
       "<style>\n",
       "    .dataframe thead tr:only-child th {\n",
       "        text-align: right;\n",
       "    }\n",
       "\n",
       "    .dataframe thead th {\n",
       "        text-align: left;\n",
       "    }\n",
       "\n",
       "    .dataframe tbody tr th {\n",
       "        vertical-align: top;\n",
       "    }\n",
       "</style>\n",
       "<table border=\"1\" class=\"dataframe\">\n",
       "  <thead>\n",
       "    <tr style=\"text-align: right;\">\n",
       "      <th></th>\n",
       "      <th></th>\n",
       "      <th></th>\n",
       "      <th></th>\n",
       "      <th></th>\n",
       "      <th></th>\n",
       "      <th></th>\n",
       "      <th></th>\n",
       "      <th></th>\n",
       "      <th></th>\n",
       "      <th></th>\n",
       "    </tr>\n",
       "  </thead>\n",
       "  <tbody>\n",
       "    <tr>\n",
       "      <th>Topic 2</th>\n",
       "      <td>marianne</td>\n",
       "      <td>elinor</td>\n",
       "      <td>willoughby</td>\n",
       "      <td>sister</td>\n",
       "      <td>jennings</td>\n",
       "      <td>mother</td>\n",
       "      <td>colonel</td>\n",
       "      <td>dashwood</td>\n",
       "      <td>mrs</td>\n",
       "      <td>brandon</td>\n",
       "    </tr>\n",
       "    <tr>\n",
       "      <th>Topic 3</th>\n",
       "      <td>elizabeth</td>\n",
       "      <td>darcy</td>\n",
       "      <td>bingley</td>\n",
       "      <td>mr</td>\n",
       "      <td>sister</td>\n",
       "      <td>bennet</td>\n",
       "      <td>wickham</td>\n",
       "      <td>miss</td>\n",
       "      <td>soon</td>\n",
       "      <td>lydia</td>\n",
       "    </tr>\n",
       "    <tr>\n",
       "      <th>Topic 4</th>\n",
       "      <td>mrs</td>\n",
       "      <td>did</td>\n",
       "      <td>quite</td>\n",
       "      <td>elton</td>\n",
       "      <td>room</td>\n",
       "      <td>come</td>\n",
       "      <td>good</td>\n",
       "      <td>thing</td>\n",
       "      <td>said</td>\n",
       "      <td>weston</td>\n",
       "    </tr>\n",
       "    <tr>\n",
       "      <th>Topic 5</th>\n",
       "      <td>like</td>\n",
       "      <td>room</td>\n",
       "      <td>door</td>\n",
       "      <td>night</td>\n",
       "      <td>long</td>\n",
       "      <td>saw</td>\n",
       "      <td>thought</td>\n",
       "      <td>looked</td>\n",
       "      <td>house</td>\n",
       "      <td>time</td>\n",
       "    </tr>\n",
       "    <tr>\n",
       "      <th>Topic 10</th>\n",
       "      <td>little</td>\n",
       "      <td>graham</td>\n",
       "      <td>bretton</td>\n",
       "      <td>papa</td>\n",
       "      <td>dr</td>\n",
       "      <td>lucy</td>\n",
       "      <td>like</td>\n",
       "      <td>polly</td>\n",
       "      <td>home</td>\n",
       "      <td>child</td>\n",
       "    </tr>\n",
       "    <tr>\n",
       "      <th>Topic 12</th>\n",
       "      <td>monsieur</td>\n",
       "      <td>little</td>\n",
       "      <td>english</td>\n",
       "      <td>mdlle</td>\n",
       "      <td>frances</td>\n",
       "      <td>mademoiselle</td>\n",
       "      <td>vous</td>\n",
       "      <td>est</td>\n",
       "      <td>said</td>\n",
       "      <td>pelet</td>\n",
       "    </tr>\n",
       "    <tr>\n",
       "      <th>Topic 13</th>\n",
       "      <td>harriet</td>\n",
       "      <td>emma</td>\n",
       "      <td>elton</td>\n",
       "      <td>mr</td>\n",
       "      <td>friend</td>\n",
       "      <td>woodhouse</td>\n",
       "      <td>knightley</td>\n",
       "      <td>martin</td>\n",
       "      <td>think</td>\n",
       "      <td>good</td>\n",
       "    </tr>\n",
       "    <tr>\n",
       "      <th>Topic 15</th>\n",
       "      <td>madame</td>\n",
       "      <td>beck</td>\n",
       "      <td>dr</td>\n",
       "      <td>knew</td>\n",
       "      <td>little</td>\n",
       "      <td>door</td>\n",
       "      <td>day</td>\n",
       "      <td>paul</td>\n",
       "      <td>old</td>\n",
       "      <td>night</td>\n",
       "    </tr>\n",
       "    <tr>\n",
       "      <th>Topic 17</th>\n",
       "      <td>edward</td>\n",
       "      <td>elinor</td>\n",
       "      <td>lucy</td>\n",
       "      <td>ferrars</td>\n",
       "      <td>dashwood</td>\n",
       "      <td>sister</td>\n",
       "      <td>think</td>\n",
       "      <td>mother</td>\n",
       "      <td>say</td>\n",
       "      <td>time</td>\n",
       "    </tr>\n",
       "    <tr>\n",
       "      <th>Topic 18</th>\n",
       "      <td>emma</td>\n",
       "      <td>weston</td>\n",
       "      <td>mr</td>\n",
       "      <td>knightley</td>\n",
       "      <td>frank</td>\n",
       "      <td>churchill</td>\n",
       "      <td>thing</td>\n",
       "      <td>little</td>\n",
       "      <td>father</td>\n",
       "      <td>woodhouse</td>\n",
       "    </tr>\n",
       "  </tbody>\n",
       "</table>\n",
       "</div>"
      ],
      "text/plain": [
       "                                                                            \\\n",
       "Topic 2    marianne  elinor  willoughby     sister  jennings        mother   \n",
       "Topic 3   elizabeth   darcy     bingley         mr    sister        bennet   \n",
       "Topic 4         mrs     did       quite      elton      room          come   \n",
       "Topic 5        like    room        door      night      long           saw   \n",
       "Topic 10     little  graham     bretton       papa        dr          lucy   \n",
       "Topic 12   monsieur  little     english      mdlle   frances  mademoiselle   \n",
       "Topic 13    harriet    emma       elton         mr    friend     woodhouse   \n",
       "Topic 15     madame    beck          dr       knew    little          door   \n",
       "Topic 17     edward  elinor        lucy    ferrars  dashwood        sister   \n",
       "Topic 18       emma  weston          mr  knightley     frank     churchill   \n",
       "\n",
       "                                                  \n",
       "Topic 2     colonel  dashwood     mrs    brandon  \n",
       "Topic 3     wickham      miss    soon      lydia  \n",
       "Topic 4        good     thing    said     weston  \n",
       "Topic 5     thought    looked   house       time  \n",
       "Topic 10       like     polly    home      child  \n",
       "Topic 12       vous       est    said      pelet  \n",
       "Topic 13  knightley    martin   think       good  \n",
       "Topic 15        day      paul     old      night  \n",
       "Topic 17      think    mother     say       time  \n",
       "Topic 18      thing    little  father  woodhouse  "
      ]
     },
     "execution_count": 185,
     "metadata": {},
     "output_type": "execute_result"
    }
   ],
   "source": [
    "#display inline part2\n",
    "arr = np.row_stack([topic_words[t][:N_WORDS_DISPLAY] for t in topics_display])\n",
    "rownames = [\"Topic {}\".format(t) for t in topics_display]\n",
    "colnames = ['']*N_WORDS_DISPLAY\n",
    "df2 = pd.DataFrame(arr, index=rownames, columns=colnames)\n",
    "df2"
   ]
  },
  {
   "cell_type": "markdown",
   "metadata": {},
   "source": [
    "Footnotes: While there are significant differences between NMF and LDA, there\n",
    "   are also similarities. Indeed, if the texts in a corpus have certain\n",
    "   properties, NMF and LDA will arrive at the same representation of a corpus\n",
    "   :cite:`arora_practical_2013`."
   ]
  },
  {
   "cell_type": "markdown",
   "metadata": {},
   "source": [
    "==========================\n",
    "## 6. Visualizing topic models\n",
    "==========================\n",
    "\n",
    "see 6_TopicModelVis.ipynb"
   ]
  },
  {
   "cell_type": "code",
   "execution_count": 187,
   "metadata": {},
   "outputs": [
    {
     "ename": "NameError",
     "evalue": "name 'docnames' is not defined",
     "output_type": "error",
     "traceback": [
      "\u001b[1;31m---------------------------------------------------------------------------\u001b[0m",
      "\u001b[1;31mNameError\u001b[0m                                 Traceback (most recent call last)",
      "\u001b[1;32m<ipython-input-187-418e8b65cc61>\u001b[0m in \u001b[0;36m<module>\u001b[1;34m()\u001b[0m\n\u001b[1;32m----> 1\u001b[1;33m \u001b[0mdocnames\u001b[0m\u001b[1;33m\u001b[0m\u001b[0m\n\u001b[0m",
      "\u001b[1;31mNameError\u001b[0m: name 'docnames' is not defined"
     ]
    }
   ],
   "source": [
    "docnames"
   ]
  },
  {
   "cell_type": "code",
   "execution_count": null,
   "metadata": {
    "collapsed": true
   },
   "outputs": [],
   "source": []
  }
 ],
 "metadata": {
  "kernelspec": {
   "display_name": "Python 3",
   "language": "python",
   "name": "python3"
  },
  "language_info": {
   "codemirror_mode": {
    "name": "ipython",
    "version": 3
   },
   "file_extension": ".py",
   "mimetype": "text/x-python",
   "name": "python",
   "nbconvert_exporter": "python",
   "pygments_lexer": "ipython3",
   "version": "3.6.3"
  }
 },
 "nbformat": 4,
 "nbformat_minor": 1
}
