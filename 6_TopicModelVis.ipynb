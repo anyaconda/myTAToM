{
 "cells": [
  {
   "cell_type": "markdown",
   "metadata": {},
   "source": [
    "==========================\n",
    "## 6. Visualizing topic models\n",
    "==========================\n",
    "\n",
    "#### Note\n",
    "Unlike R or Octave/Matlab, Python has no native graphing or\n",
    "    visualization library. The most widely used library for visualization is\n",
    "    `matplotlib <http://matplotlib.org>`_ and its functions mimic those found in\n",
    "    Octave/Matlab (see :ref:`getting-started-matplotlib`).\n",
    "\n",
    "### 6a. Visualizing topic shares\n",
    "========================\n",
    "\n",
    "When using topic models to explore text collections, we are typically interested\n",
    "in examining texts in terms of their constituent topics (instead of word\n",
    "frequencies).  Because the number of topics is so much smaller than the number\n",
    "of unique vocabulary elements (say, 20 versus 20,000), a range of data\n",
    "visualization methods become available. The visualization techniques discussed\n",
    "below are not specific to topic models per se but rather fall into a more\n",
    "general category for techniques for visualizing count data.\n",
    "\n",
    "The first way of visualizing the topic proportions associated with documents in\n",
    "a corpus uses a \"stacked bar chart\".  This visualization tends to be used\n",
    "when the number of topics is small. For example, a stacked\n",
    "bar chart is found in a paper employing LDA *avant la lettre* on `allele\n",
    "<https://en.wikipedia.org/wiki/Allele>`_ frequency data\n",
    ":cite:`rosenberg_genetic_2002`. [#fnpritchard]_\n"
   ]
  },
  {
   "cell_type": "code",
   "execution_count": 63,
   "metadata": {
    "collapsed": true
   },
   "outputs": [],
   "source": [
    "import numpy as np; np.set_printoptions(precision=4)\n",
    "import pandas as pd"
   ]
  },
  {
   "cell_type": "markdown",
   "metadata": {},
   "source": [
    "### - Stacked bar chart\n",
    "-----------------\n",
    "\n",
    "The idea underlying the stacked bar chart is that each text has some proportion\n",
    "of its words associated with each topic. Because the model assumes that every\n",
    "word is associated with some topic, these proportions must add up to one. For\n",
    "example, in a three topic model, text number 1 might have 50% of its words\n",
    "associated with topic 1, 25% with topic 2, and 25% with topic 3. The stacked bar\n",
    "chart represents each document as a bar broken into colored segments matching\n",
    "the associated proportions of each topic. The stacked bar chart below expresses\n",
    "the topic proportions found in the six novels in the ``austen-brontÃ«`` corpus:\n",
    "\n",
    ".. figure:: _static/plot_doctopic_stacked_bar.png\n",
    "    :scale: 60 %\n",
    "    :alt: Topic shares in six novels\n",
    "\n",
    "If we look ahead to the :ref:`top 10 words associated with each topic\n",
    "<visualizing-topic-word>`, we find that topics 0 and 1 are associated with words\n",
    "we anticipate finding in Austen ('emma', 'elizabeth', 'darcy', 'sister'). Topic\n",
    "4 is connected with *Jane Eyre* ('rochester', 'house').\n",
    "\n",
    "This method of visualization works well when there are a small number of topics.\n",
    "With more than a handful of topics, the proportion associated with\n",
    "each topic tends to be difficult to distinguish. This is a limitation of the\n",
    "stacked bar chart. On the other hand, the visualization clearly communicates the\n",
    "idea that a document is made up of topic proportions that, taken together,\n",
    "account for all the words in a document.\n"
   ]
  },
  {
   "cell_type": "markdown",
   "metadata": {},
   "source": [
    "To reproduce the stacked bar chart shown above we first need to model the\n",
    "``austen-brontÃ«`` corpus using a five-topic topic model. We will use the\n",
    "procedure described in :ref:`topic-model-mallet`. First\n",
    "we run MALLET using default parameters. As we will be analyzing more precisely\n",
    "the association of words with topics, we will specify that the counts of\n",
    "word-topic assignments be saved with the command-line option ``--word-topic counts\n",
    "/tmp/word-topic.txt``.\n",
    "\n",
    "bash\n",
    "\n",
    "    mallet-2.0.7/bin/mallet import-dir --input data/austen-brontÃ«-split/ --output /tmp/topic-input.mallet --keep-sequence --remove-stopwords\n",
    "    mallet-2.0.7/bin/mallet train-topics --input /tmp/topic-input.mallet --num-topics 5 --output-doc-topics /tmp/doc-topics.txt --output-topic-keys /tmp/topic-keys.txt --word-topic-counts-file /tmp/word-topic.txt\n"
   ]
  },
  {
   "cell_type": "code",
   "execution_count": null,
   "metadata": {
    "collapsed": true
   },
   "outputs": [],
   "source": [
    "'''$ac didnt' work with my_ generated files\n",
    "   substituded with tatom files from directory cache\n",
    "   specifically replaced myTAToM\\tmp\\doc-topics-austen-bronte\n",
    "   with tatom\\tatom-develop\\source\\cache\\doc-topic-austen-brontë-20topics.txt\n",
    "   saved mine just in case, starting with my_\n",
    "'''"
   ]
  },
  {
   "cell_type": "code",
   "execution_count": 29,
   "metadata": {},
   "outputs": [
    {
     "data": {
      "text/plain": [
       "\"\\nif not os.path.exists(MALLET_INPUT):\\n    subprocess.check_call('mallet import-dir --input data/austen-bronte-split/ --output {} --keep-sequence --remove-stopwords'.format(MALLET_INPUT), shell=True)\\n\""
      ]
     },
     "execution_count": 29,
     "metadata": {},
     "output_type": "execute_result"
    }
   ],
   "source": [
    "#hardcoded a bunch to make it work\n",
    "\n",
    "import os\n",
    "import shutil\n",
    "import subprocess\n",
    "\n",
    "N_TOPICS = 5\n",
    "\"\"\"\n",
    "MALLET_INPUT = 'tmp6Vis/topic-input.mallet'\n",
    "MALLET_TOPICS = 'tmp6Vis/doc-topic{}topics.txt'.format(N_TOPICS)\n",
    "MALLET_WORD_TOPIC_COUNTS = 'tmp6Vis/doc-topic{}topics-word-topic.txt'.format(N_TOPICS)\n",
    "MALLET_KEYS = 'tmp6Vis/doc-topic{}topics-keys.txt'.format(N_TOPICS)\n",
    "\"\"\"\n",
    "\n",
    "MALLET_INPUT = 'source/cache_original/cache/topic-input.mallet'\n",
    "MALLET_TOPICS = 'source/cache_original/cache/doc-topic-austen-bronte-{}topics.txt'.format(N_TOPICS)\n",
    "MALLET_WORD_TOPIC_COUNTS = 'source/cache_original/cache/doc-topic-austen-bronte-{}topics-word-topic.txt'.format(N_TOPICS)\n",
    "MALLET_KEYS = 'source/cache_original/cache/doc-topic-austen-bronte-{}topics-keys.txt'.format(N_TOPICS)\n",
    "\n",
    "\"\"\"\n",
    "if not os.path.exists(MALLET_INPUT):\n",
    "    subprocess.check_call('mallet import-dir --input data/austen-bronte-split/ --output {} --keep-sequence --remove-stopwords'.format(MALLET_INPUT), shell=True)\n",
    "\"\"\""
   ]
  },
  {
   "cell_type": "code",
   "execution_count": 30,
   "metadata": {},
   "outputs": [
    {
     "data": {
      "text/plain": [
       "'tmp/word-topic.txt'"
      ]
     },
     "execution_count": 30,
     "metadata": {},
     "output_type": "execute_result"
    }
   ],
   "source": [
    "shutil.copy(MALLET_INPUT,'tmp/topic-input.mallet')\n",
    "\"\"\"\n",
    "if not os.path.exists(MALLET_TOPICS):\n",
    "    subprocess.check_call('mallet-2.0.7/bin/mallet train-topics --input/tmp/topic-input.mallet --num-topics {} --output-doc-topics {} --output-topic-keys {} --word-topic-counts-file {} --random-seed 1'.format(N_TOPICS, MALLET_TOPICS, MALLET_KEYS, MALLET_WORD_TOPIC_COUNTS), shell=True)\n",
    "\"\"\"\n",
    "shutil.copy(MALLET_TOPICS,'tmp/doc-topics.txt')\n",
    "shutil.copy(MALLET_KEYS,'tmp/topic-keys.txt')\n",
    "shutil.copy(MALLET_WORD_TOPIC_COUNTS,'tmp/word-topic.txt')\n"
   ]
  },
  {
   "cell_type": "code",
   "execution_count": 32,
   "metadata": {},
   "outputs": [],
   "source": [
    "import numpy as np\n",
    "import itertools\n",
    "import operator\n",
    "import os\n",
    "\n",
    "def grouper(n, iterable, fillvalue=None):\n",
    "    \"Collect data into fixed-length chunks or blocks\"\n",
    "    # grouper(3, 'ABCDEFG', 'x') --> ABC DEF Gxx\"\n",
    "    args = [iter(iterable)] * n\n",
    "    return itertools.zip_longest(*args, fillvalue=fillvalue)\n",
    "\n",
    "doctopic_triples = []\n",
    "\n",
    "with open(\"tmp/doc-topics.txt\") as f:\n",
    "    f.readline()  # read one line in order to skip the header\n",
    "    for line in f:\n",
    "        docnum, docname, *values = line.rstrip().split('\\t')\n",
    "        for topic, share in grouper(2, values):\n",
    "            triple = (docname, int(topic), float(share))\n",
    "            doctopic_triples.append(triple)\n",
    "\n",
    "# sort the triples\n",
    "doctopic_triples.sort(key=operator.itemgetter(0,1))\n",
    "docnames_chunks = sorted(set([triple[0] for triple in doctopic_triples]))\n",
    "docnames_chunks_base = np.array([os.path.splitext(n)[0].rstrip('0123456789') for n in docnames_chunks])\n",
    "num_topics = len(doctopic_triples) // len(docnames_chunks)\n",
    "\n",
    "doctopic_chunks = np.empty((len(docnames_chunks), num_topics))\n",
    "\n",
    "# the following works because we know that the triples are in sequential order\n",
    "for triple in doctopic_triples:\n",
    "    docname, topic, share = triple\n",
    "    row_num = docnames_chunks.index(docname)\n",
    "    doctopic_chunks[row_num, topic] = share\n"
   ]
  },
  {
   "cell_type": "code",
   "execution_count": 35,
   "metadata": {},
   "outputs": [
    {
     "data": {
      "text/plain": [
       "True"
      ]
     },
     "execution_count": 35,
     "metadata": {},
     "output_type": "execute_result"
    }
   ],
   "source": [
    "#assert\n",
    "np.all(doctopic_chunks > 0)\n",
    "np.allclose(np.sum(doctopic_chunks, axis=1), 1)\n"
   ]
  },
  {
   "cell_type": "code",
   "execution_count": 40,
   "metadata": {},
   "outputs": [],
   "source": [
    "num_groups = len(set(docnames_chunks_base))\n",
    "doctopic = np.zeros((num_groups, num_topics))\n",
    "for i, name in enumerate(sorted(set(docnames_chunks_base))):\n",
    "    doctopic[i, :] = np.mean(doctopic_chunks[docnames_chunks_base == name, :], axis=0)\n",
    "docnames = sorted(set(os.path.basename(n) for n in docnames_chunks_base))\n"
   ]
  },
  {
   "cell_type": "markdown",
   "metadata": {
    "scrolled": true
   },
   "source": [
    "We then gather the output into a document-topic matrix of topic shares, stored\n",
    "in the variable ``doctopic``. The names of the novels are stored in the variable\n",
    "``docnames``."
   ]
  },
  {
   "cell_type": "code",
   "execution_count": 41,
   "metadata": {},
   "outputs": [
    {
     "data": {
      "text/plain": [
       "array([[ 0.0625,  0.1736,  0.0819,  0.4649,  0.2171],\n",
       "       [ 0.0574,  0.1743,  0.0835,  0.4008,  0.2839],\n",
       "       [ 0.0599,  0.1645,  0.0922,  0.2034,  0.4801],\n",
       "       [ 0.189 ,  0.1897,  0.3701,  0.1149,  0.1362],\n",
       "       [ 0.2772,  0.2681,  0.2387,  0.0838,  0.1322],\n",
       "       [ 0.3553,  0.193 ,  0.2409,  0.0865,  0.1243]])"
      ]
     },
     "execution_count": 41,
     "metadata": {},
     "output_type": "execute_result"
    }
   ],
   "source": [
    "#assert\n",
    "docnames\n",
    "doctopic.shape\n",
    "doctopic"
   ]
  },
  {
   "cell_type": "markdown",
   "metadata": {},
   "source": [
    "To make the stacked bar chart we layer individual bar charts on top of each\n",
    "other. Recall that a single (unstacked) bar chart can be created in matplotlib\n",
    "with the following code:\n"
   ]
  },
  {
   "cell_type": "code",
   "execution_count": 56,
   "metadata": {},
   "outputs": [
    {
     "data": {
      "image/png": "[encoded data removed]",
      "text/plain": [
       "<matplotlib.figure.Figure at 0x1f391ce9e80>"
      ]
     },
     "metadata": {},
     "output_type": "display_data"
    }
   ],
   "source": [
    "import matplotlib.pyplot as plt\n",
    "\n",
    "N, K = doctopic.shape\n",
    "ind = np.arange(N)  # points on the x-axis\n",
    "width = 0.5\n",
    "\n",
    "plt.figure(figsize=(10,6))\n",
    "plt.bar(ind, doctopic[:,0], width=width)\n",
    "plt.xticks(ind + width/2, docnames)  # put labels in the center\n",
    "plt.savefig('plots/plot_6Vis_example_topic0_bar.png', bbox_inches='tight')\n",
    "plt.title('Share of Topic #0')\n",
    "plt.show()"
   ]
  },
  {
   "cell_type": "markdown",
   "metadata": {},
   "source": [
    "#### Note\n",
    "The `matplotlib examples page\n",
    "    <http://matplotlib.org/examples/index.html>`_ describes\n",
    "    how to produce various types of graphs using matplotlib.\n",
    "\n",
    "To layer the bar charts, we plot each bar chart one by one, adjusting the\n",
    "starting point (``bottom`` is the parameter) so that the charts do not overlap.\n"
   ]
  },
  {
   "cell_type": "code",
   "execution_count": 55,
   "metadata": {
    "scrolled": true
   },
   "outputs": [
    {
     "data": {
      "image/png": "[encoded data removed]",
      "text/plain": [
       "<matplotlib.figure.Figure at 0x1f3918a7828>"
      ]
     },
     "metadata": {},
     "output_type": "display_data"
    }
   ],
   "source": [
    "# See: http://matplotlib.org/examples/pylab_examples/bar_stacked.html\n",
    "\n",
    "import numpy as np\n",
    "import matplotlib.pyplot as plt\n",
    "\n",
    "N, K = doctopic.shape  # N documents, K topics\n",
    "ind = np.arange(N)  # the x-axis locations for the novels\n",
    "width = 0.5  # the width of the bars\n",
    "plots = []\n",
    "height_cumulative = np.zeros(N)\n",
    "\n",
    "plt.figure(figsize=(10,6))\n",
    "for k in range(K):\n",
    "    color = plt.cm.coolwarm(k/K, 1)\n",
    "    if k == 0:\n",
    "        # first plot\n",
    "        p = plt.bar(ind, doctopic[:, k], width, color=color)\n",
    "    else:\n",
    "        p = plt.bar(ind, doctopic[:, k], width, bottom=height_cumulative, color=color)\n",
    "    height_cumulative += doctopic[:, k]\n",
    "    plots.append(p)\n",
    "plt.ylim((0, 1))  # proportions sum to 1, so the height of the stacked bars is 1\n",
    "plt.ylabel('Topics')\n",
    "plt.title('Topics in novels')\n",
    "plt.xticks(ind+width/2, docnames)\n",
    "plt.yticks(np.arange(0, 1, 10))\n",
    "topic_labels = ['Topic #{}'.format(k) for k in range(K)]\n",
    "# see http://matplotlib.org/api/pyplot_api.html#matplotlib.pyplot.legend for details\n",
    "# on making a legend in matplotlib\n",
    "plt.legend([p[0] for p in plots], topic_labels)\n",
    "plt.savefig('plots/plot_6Vis_doctopic_stacked_bar.png', bbox_inches='tight')\n",
    "plt.show()\n"
   ]
  },
  {
   "cell_type": "markdown",
   "metadata": {},
   "source": [
    "### - Heatmap\n",
    "-------\n",
    "\n",
    "Another useful visualization of topic shares is the heatmap. The matplotlib\n",
    "function we need is ``pcolor`` (\"psuedocolor plot\")."
   ]
  },
  {
   "cell_type": "code",
   "execution_count": 58,
   "metadata": {},
   "outputs": [
    {
     "data": {
      "image/png": "[encoded data removed]",
      "text/plain": [
       "<matplotlib.figure.Figure at 0x1f3917cc710>"
      ]
     },
     "metadata": {},
     "output_type": "display_data"
    }
   ],
   "source": [
    "# Ref: http://nbviewer.ipython.org/5427209\n",
    "# Ref: http://code.activestate.com/recipes/578175-hierarchical-clustering-heatmap-python/\n",
    "plt.figure(figsize=(10,6))\n",
    "plt.pcolor(doctopic, norm=None, cmap='Blues')\n",
    "\n",
    "# put the major ticks at the middle of each cell\n",
    "# the trailing semicolon ';' suppresses output\n",
    "plt.yticks(np.arange(doctopic.shape[0])+0.5, docnames);\n",
    "plt.xticks(np.arange(doctopic.shape[1])+0.5, topic_labels);\n",
    "\n",
    "# flip the y-axis so the texts are in the order we anticipate (Austen first, then BrontÃ«)\n",
    "plt.gca().invert_yaxis()\n",
    "\n",
    "# rotate the ticks on the x-axis\n",
    "plt.xticks(rotation=90)\n",
    "\n",
    "# add a legend\n",
    "plt.colorbar(cmap='Blues')\n",
    "\n",
    "plt.tight_layout()  # fixes margins\n",
    "plt.savefig('plots/plot_6Vis_doctopic_heatmap.png', bbox_inches='tight')\n",
    "plt.show()"
   ]
  },
  {
   "cell_type": "markdown",
   "metadata": {},
   "source": [
    "Again, we see that topics 0 and 1 are strongly associated with the Austen\n",
    "novels, whereas words assigned to topic 3 predominate in novels written by\n",
    "BrontÃ«."
   ]
  },
  {
   "cell_type": "markdown",
   "metadata": {},
   "source": [
    "### 6b. Visualizing topic-word associations\n",
    "===================================\n",
    "\n",
    "#### Note\n",
    "For the following visualizations we will need the counts of\n",
    "    word-to-topic assignments. These are stored in a file specified by the\n",
    "    MALLET option ``--word-topic-counts-file``. The following assumes that the\n",
    "    file containing the counts is available at ``/tmp/word-topic.txt``.\n",
    "\n",
    "##### Table\n",
    "-----\n",
    "\n",
    "We have already seen a simple way of \"visualizing\" the associations between\n",
    "topics and words: lists of the top words associated with each topic are often\n",
    "all that is needed when the corpus is large and the inferred topics make sense\n",
    "in light of prior knowledge of the corpus."
   ]
  },
  {
   "cell_type": "code",
   "execution_count": 60,
   "metadata": {},
   "outputs": [
    {
     "name": "stdout",
     "output_type": "stream",
     "text": [
      "Topic 0: hand good madame life heart thought de day monsieur eye school bretton man john dr\n",
      "Topic 1: looked found side speak girl gave word made sense eyes called spoke smile character appeared\n",
      "Topic 2: night room door long house rochester round hour heard back looked sir thought face eyes\n",
      "Topic 3: mr miss mrs emma jane good elizabeth thing dear great harriet father friend weston young\n",
      "Topic 4: elinor mother sister marianne time mrs felt letter make john mind feelings hope heart give\n"
     ]
    }
   ],
   "source": [
    "with open('tmp/topic-keys.txt') as input:\n",
    "    topic_keys_lines = input.readlines()\n",
    "topic_words = []\n",
    "for line in topic_keys_lines:\n",
    "    _, _, words = line.split('\\t')  # tab-separated\n",
    "    words = words.rstrip().split(' ')  # remove the trailing '\\n'\n",
    "    topic_words.append(words)\n",
    "\n",
    "for t in range(len(topic_words)):\n",
    "    print(\"Topic {}: {}\".format(t, ' '.join(topic_words[t][:15])))"
   ]
  },
  {
   "cell_type": "code",
   "execution_count": 64,
   "metadata": {},
   "outputs": [],
   "source": [
    "N_WORDS_DISPLAY = 10\n",
    "OUTPUT_HTML_PATH = os.path.join('source', 'generated')\n",
    "arr = np.row_stack([words[:N_WORDS_DISPLAY] for words in topic_words])\n",
    "rownames = [\"Topic {}\".format(t) for t in range(len(topic_words))]\n",
    "colnames = ['']*N_WORDS_DISPLAY\n",
    "html = pd.DataFrame(arr, index=rownames, columns=colnames).to_html()\n",
    "with open(os.path.join(OUTPUT_HTML_PATH, 'visualization_topic_model_words.txt'), 'w') as f:\n",
    "    f.write(html)"
   ]
  },
  {
   "cell_type": "code",
   "execution_count": 65,
   "metadata": {},
   "outputs": [
    {
     "data": {
      "text/html": [
       "<div>\n",
       "<style>\n",
       "    .dataframe thead tr:only-child th {\n",
       "        text-align: right;\n",
       "    }\n",
       "\n",
       "    .dataframe thead th {\n",
       "        text-align: left;\n",
       "    }\n",
       "\n",
       "    .dataframe tbody tr th {\n",
       "        vertical-align: top;\n",
       "    }\n",
       "</style>\n",
       "<table border=\"1\" class=\"dataframe\">\n",
       "  <thead>\n",
       "    <tr style=\"text-align: right;\">\n",
       "      <th></th>\n",
       "      <th></th>\n",
       "      <th></th>\n",
       "      <th></th>\n",
       "      <th></th>\n",
       "      <th></th>\n",
       "      <th></th>\n",
       "      <th></th>\n",
       "      <th></th>\n",
       "      <th></th>\n",
       "      <th></th>\n",
       "    </tr>\n",
       "  </thead>\n",
       "  <tbody>\n",
       "    <tr>\n",
       "      <th>Topic 0</th>\n",
       "      <td>hand</td>\n",
       "      <td>good</td>\n",
       "      <td>madame</td>\n",
       "      <td>life</td>\n",
       "      <td>heart</td>\n",
       "      <td>thought</td>\n",
       "      <td>de</td>\n",
       "      <td>day</td>\n",
       "      <td>monsieur</td>\n",
       "      <td>eye</td>\n",
       "    </tr>\n",
       "    <tr>\n",
       "      <th>Topic 1</th>\n",
       "      <td>looked</td>\n",
       "      <td>found</td>\n",
       "      <td>side</td>\n",
       "      <td>speak</td>\n",
       "      <td>girl</td>\n",
       "      <td>gave</td>\n",
       "      <td>word</td>\n",
       "      <td>made</td>\n",
       "      <td>sense</td>\n",
       "      <td>eyes</td>\n",
       "    </tr>\n",
       "    <tr>\n",
       "      <th>Topic 2</th>\n",
       "      <td>night</td>\n",
       "      <td>room</td>\n",
       "      <td>door</td>\n",
       "      <td>long</td>\n",
       "      <td>house</td>\n",
       "      <td>rochester</td>\n",
       "      <td>round</td>\n",
       "      <td>hour</td>\n",
       "      <td>heard</td>\n",
       "      <td>back</td>\n",
       "    </tr>\n",
       "    <tr>\n",
       "      <th>Topic 3</th>\n",
       "      <td>mr</td>\n",
       "      <td>miss</td>\n",
       "      <td>mrs</td>\n",
       "      <td>emma</td>\n",
       "      <td>jane</td>\n",
       "      <td>good</td>\n",
       "      <td>elizabeth</td>\n",
       "      <td>thing</td>\n",
       "      <td>dear</td>\n",
       "      <td>great</td>\n",
       "    </tr>\n",
       "    <tr>\n",
       "      <th>Topic 4</th>\n",
       "      <td>elinor</td>\n",
       "      <td>mother</td>\n",
       "      <td>sister</td>\n",
       "      <td>marianne</td>\n",
       "      <td>time</td>\n",
       "      <td>mrs</td>\n",
       "      <td>felt</td>\n",
       "      <td>letter</td>\n",
       "      <td>make</td>\n",
       "      <td>john</td>\n",
       "    </tr>\n",
       "  </tbody>\n",
       "</table>\n",
       "</div>"
      ],
      "text/plain": [
       "                                                                        \\\n",
       "Topic 0    hand    good  madame      life  heart    thought         de   \n",
       "Topic 1  looked   found    side     speak   girl       gave       word   \n",
       "Topic 2   night    room    door      long  house  rochester      round   \n",
       "Topic 3      mr    miss     mrs      emma   jane       good  elizabeth   \n",
       "Topic 4  elinor  mother  sister  marianne   time        mrs       felt   \n",
       "\n",
       "                                  \n",
       "Topic 0     day  monsieur    eye  \n",
       "Topic 1    made     sense   eyes  \n",
       "Topic 2    hour     heard   back  \n",
       "Topic 3   thing      dear  great  \n",
       "Topic 4  letter      make   john  "
      ]
     },
     "execution_count": 65,
     "metadata": {},
     "output_type": "execute_result"
    }
   ],
   "source": [
    "#display inline\n",
    "df = pd.DataFrame(arr, index=rownames, columns=colnames)\n",
    "df"
   ]
  },
  {
   "cell_type": "markdown",
   "metadata": {},
   "source": [
    "\n",
    "#### Sizing words according to strength of association with a topic\n",
    "--------------------------------------------------------------\n",
    "\n",
    "Each topic is a distribution over the vocabulary of words found in the corpus.\n",
    "The top words (saved via the ``--topic-keys`` option) are those words most\n",
    "likely to be found in each topic. Displaying the top words does not, however,\n",
    "convey any information about the probability of finding a top word assigned to\n",
    "a specific topic. This is often critical information.  (For those in the process\n",
    "of learning about discrete probability distributions, we may think of this\n",
    "probability as the 'strength of association' between a word and a topic.) For\n",
    "example, the top five words of topic 1 may be much more strongly associated with\n",
    "the topic than the top five words of topic 2. In some cases this can be extreme,\n",
    "the tenth top word for topic 1 may hardly ever be associated with topic 1,\n",
    "whereas the tenth top word for topic 2 may be assigned frequently to topic 2.\n",
    "Moreover, if most of the words in the vocabulary are equally associated with\n",
    "a topic then identifying the \"top 10 words\" is misleading.\n",
    "\n",
    "To estimate the strength of association between a given word and a given topic\n",
    "we need the information saved in the file specified by the MALLET option\n",
    "``--word-topic-counts-file``, here ``/tmp/word-topic.txt``. The first few lines\n",
    "of this file look like this: \n",
    "\n",
    "\n",
    "   0 delightful 0:86  \n",
    "   1 thing 0:801 3:1  \n",
    "   2 daughter 1:278  \n",
    "   3 married 1:251  \n",
    "\n",
    "The first line indicates that the word 'delightful' is assigned to topic 0 86\n",
    "times. The second line tells us that the word 'thing' is associated with topic\n",
    "0 801 times and to topic 3 once.\n",
    "\n",
    "In order to make systematic use of this information we need to parse this file\n",
    "into a matrix of counts. We do this much in the same manner as we parsed\n",
    "``doc-topics.txt`` into a matrix of document-topic shares. The following\n",
    "procedure should be familiar by now:"
   ]
  },
  {
   "cell_type": "code",
   "execution_count": 67,
   "metadata": {},
   "outputs": [
    {
     "data": {
      "text/plain": [
       "(21988, 5)"
      ]
     },
     "execution_count": 67,
     "metadata": {},
     "output_type": "execute_result"
    }
   ],
   "source": [
    "import numpy as np\n",
    "import os\n",
    "\n",
    "num_topics = 5\n",
    "\n",
    "mallet_vocab = []\n",
    "word_topic_counts = []\n",
    "\n",
    "with open(\"tmp/word-topic.txt\") as f:\n",
    "    for line in f:\n",
    "        _, word, *topic_count_pairs = line.rstrip().split(' ')\n",
    "        # turn topic_count_pairs from a string like \"0:30 1:20\" to a sequence of pairs [(0, 30), (1, 20)]\n",
    "        topic_count_pairs = [pair.split(':') for pair in topic_count_pairs]\n",
    "        mallet_vocab.append(word)\n",
    "        # allocate an 'empty' array of zeros to store the counts for this word\n",
    "        counts = np.zeros(num_topics)\n",
    "        for topic, count in topic_count_pairs:\n",
    "            counts[int(topic)] = int(count)\n",
    "        word_topic_counts.append(counts)\n",
    "word_topic = np.array(word_topic_counts)\n",
    "\n",
    "word_topic.shape"
   ]
  },
  {
   "cell_type": "markdown",
   "metadata": {},
   "source": [
    "\n",
    "Since topics will be assigned differing numbers of words we need to normalize\n",
    "this matrix of counts in much the same way as we did for the matrix of\n",
    "document-term counts (see :ref:`working-with-text`). For example, while the word\n",
    "\"delightful\" may be assigned to topic 0 86 times, there may be many other words\n",
    "that are also assigned to topic 0 a similar or greater number of times. In order\n",
    "to measure the strength of association between \"delightful\" and topic 0 we need\n",
    "to know how likely it is to be associated with topic 0 relative to all other\n",
    "words.  We do this by calculating the proportion of words assigned to topic\n",
    "0 that are the word \"delightful\". Doing this for each word and each topic in\n",
    "turn will turn our matrix of word-topic counts into a matrix of word-topic\n",
    "proportions. For example, a value of 0.5 in the matrix at row 5 and column\n",
    "0 indicates that the specified word type (``mallet_vocab[5]``) accounts for 50\n",
    "percent of all words assigned to topic 0."
   ]
  },
  {
   "cell_type": "code",
   "execution_count": 68,
   "metadata": {
    "collapsed": true
   },
   "outputs": [],
   "source": [
    "# np.sum(word_topic, axis=0) sums across rows, so it yields totals of words assigned to topics\n",
    "word_topic = word_topic / np.sum(word_topic, axis=0)"
   ]
  },
  {
   "cell_type": "markdown",
   "metadata": {},
   "source": [
    "Now we can assemble a list of each topic's top words along with a value that\n",
    "captures the strength of association with that topic."
   ]
  },
  {
   "cell_type": "code",
   "execution_count": 69,
   "metadata": {},
   "outputs": [
    {
     "name": "stdout",
     "output_type": "stream",
     "text": [
      "Topic #0:\n",
      "0.008 : hand\n",
      "0.008 : good\n",
      "0.007 : madame\n",
      "0.007 : life\n",
      "0.006 : heart\n",
      "0.005 : thought\n",
      "0.005 : de\n",
      "0.005 : day\n",
      "0.005 : monsieur\n",
      "0.004 : eye\n",
      "Topic #1:\n",
      "0.007 : looked\n",
      "0.006 : found\n",
      "0.006 : side\n",
      "0.005 : speak\n",
      "0.005 : girl\n",
      "0.005 : gave\n",
      "0.005 : word\n",
      "0.005 : made\n",
      "0.005 : sense\n",
      "0.005 : eyes\n",
      "Topic #2:\n",
      "0.01 : night\n",
      "0.009 : room\n",
      "0.008 : door\n",
      "0.008 : long\n",
      "0.006 : house\n",
      "0.006 : rochester\n",
      "0.006 : round\n",
      "0.005 : hour\n",
      "0.005 : heard\n",
      "0.005 : back\n",
      "Topic #3:\n",
      "0.041 : mr\n",
      "0.023 : miss\n",
      "0.022 : mrs\n",
      "0.013 : emma\n",
      "0.012 : jane\n",
      "0.01 : good\n",
      "0.01 : elizabeth\n",
      "0.009 : thing\n",
      "0.009 : dear\n",
      "0.009 : great\n",
      "Topic #4:\n",
      "0.01 : elinor\n",
      "0.009 : mother\n",
      "0.009 : sister\n",
      "0.008 : marianne\n",
      "0.008 : time\n",
      "0.008 : mrs\n",
      "0.007 : felt\n",
      "0.006 : letter\n",
      "0.006 : make\n",
      "0.006 : john\n"
     ]
    }
   ],
   "source": [
    "num_top_words = 10\n",
    "mallet_vocab = np.array(mallet_vocab)  # convert vocab from a list to an array so we can use NumPy operations on it\n",
    "for t in range(num_topics):\n",
    "    top_words_idx = np.argsort(word_topic[:,t])[::-1]  # descending order\n",
    "    top_words_idx = top_words_idx[:num_top_words]\n",
    "    top_words = mallet_vocab[top_words_idx]\n",
    "    top_words_shares = word_topic[top_words_idx, t]\n",
    "    print(\"Topic #{}:\".format(t))\n",
    "    for word, share in zip(top_words, top_words_shares):\n",
    "        print(\"{} : {}\".format(np.round(share, 3), word))"
   ]
  },
  {
   "cell_type": "markdown",
   "metadata": {},
   "source": [
    "One way to visualize this information is to size each word in proportion to its\n",
    "share of words associated with each topic:"
   ]
  },
  {
   "cell_type": "code",
   "execution_count": 74,
   "metadata": {},
   "outputs": [
    {
     "data": {
      "image/png": "[encoded data removed]",
      "text/plain": [
       "<matplotlib.figure.Figure at 0x1f393637518>"
      ]
     },
     "metadata": {},
     "output_type": "display_data"
    }
   ],
   "source": [
    "import matplotlib.pyplot as plt\n",
    "num_top_words = 10\n",
    "fontsize_base = 70 / np.max(word_topic) # font size for word with largest share in corpus\n",
    "plt.figure(figsize=(10,6))\n",
    "for t in range(num_topics):\n",
    "    plt.subplot(1, num_topics, t + 1)  # plot numbering starts with 1\n",
    "    plt.ylim(0, num_top_words + 0.5)  # stretch the y-axis to accommodate the words\n",
    "    plt.xticks([])  # remove x-axis markings ('ticks')\n",
    "    plt.yticks([]) # remove y-axis markings ('ticks')\n",
    "    plt.title('Topic #{}'.format(t))\n",
    "    top_words_idx = np.argsort(word_topic[:,t])[::-1]  # descending order\n",
    "    top_words_idx = top_words_idx[:num_top_words]\n",
    "    top_words = mallet_vocab[top_words_idx]\n",
    "    top_words_shares = word_topic[top_words_idx, t]\n",
    "    for i, (word, share) in enumerate(zip(top_words, top_words_shares)):\n",
    "        plt.text(0.3, num_top_words-i-0.5, word, fontsize=fontsize_base*share)\n",
    "plt.savefig('plots/plot_6Vis_word_topic.png', bbox_inches='tight')\n",
    "plt.tight_layout()\n",
    "plt.show()"
   ]
  },
  {
   "cell_type": "markdown",
   "metadata": {},
   "source": [
    "We can see that topic 3 is much more concentrated on the words shown above\n",
    "whereas topic 0 is much more diffuse (or uniform). Another way to appreciate\n",
    "this is to calculate the number of word *types* associated with each topic:"
   ]
  },
  {
   "cell_type": "code",
   "execution_count": 75,
   "metadata": {},
   "outputs": [
    {
     "data": {
      "text/plain": [
       "array([6564, 4737, 5717, 3117, 3749])"
      ]
     },
     "execution_count": 75,
     "metadata": {},
     "output_type": "execute_result"
    }
   ],
   "source": [
    "np.sum(word_topic > 0, axis=0)"
   ]
  },
  {
   "cell_type": "markdown",
   "metadata": {},
   "source": [
    "This shows us that a greater diversity of vocabulary items are associated with\n",
    "topic 0 (likely many of the French words that appear only in BrontÃ«'s *The\n",
    "Professor*) than with topic 3.\n"
   ]
  },
  {
   "cell_type": "code",
   "execution_count": null,
   "metadata": {
    "collapsed": true
   },
   "outputs": [],
   "source": []
  }
 ],
 "metadata": {
  "kernelspec": {
   "display_name": "Python 3",
   "language": "python",
   "name": "python3"
  },
  "language_info": {
   "codemirror_mode": {
    "name": "ipython",
    "version": 3
   },
   "file_extension": ".py",
   "mimetype": "text/x-python",
   "name": "python",
   "nbconvert_exporter": "python",
   "pygments_lexer": "ipython3",
   "version": "3.6.3"
  }
 },
 "nbformat": 4,
 "nbformat_minor": 2
}
